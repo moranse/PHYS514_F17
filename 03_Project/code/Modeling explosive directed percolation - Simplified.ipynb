{
 "cells": [
  {
   "cell_type": "markdown",
   "metadata": {},
   "source": [
    "# Outline of final set-up\n",
    "- Visualization of simple arrays for proof of concept\n",
    "- Do everything for 10^3 to have something on the page\n",
    "\n",
    "I think tarjan is the source of my stack overflow problems. Unhelpfully, python notebooks just kill their kernel without tellig you what's happening.\n",
    "\n",
    "Here's the error code:\n",
    "```\n",
    "Fatal Python error: Cannot recover from stack overflow.\n",
    "\n",
    "Current thread 0x00007fff78a8b000 (most recent call first):\n",
    "  File \"/Users/moranse/Documents/02-Academics/computational-physics-F17/03_Project/code/tools.py\", line 45 in calc_component\n",
    "  ...\n",
    "  Abort trap: 6\n",
    "```\n",
    "\n",
    "\n",
    "# To-do\n",
    "- This should mostly work now-- can run up to 1e4 nodes successfully on my laptop\n",
    "- Switching to numpy arrays broke everything-- get everything working again when back on internet\n",
    "    - Use the edge density calculations used in prior versions of this notebook \n",
    "- Once that's finished, go through and see if I can switch the edge density and get interesting results that way"
   ]
  },
  {
   "cell_type": "code",
   "execution_count": null,
   "metadata": {
    "collapsed": false
   },
   "outputs": [],
   "source": [
    "# Auto-reloads external files so I can stop re-loading\n",
    "%load_ext autoreload\n",
    "%autoreload 2\n",
    "\n",
    "%matplotlib inline\n",
    "from tools import *\n",
    "import graphs as g\n",
    "import figs as f"
   ]
  },
  {
   "cell_type": "code",
   "execution_count": null,
   "metadata": {
    "collapsed": false
   },
   "outputs": [],
   "source": [
    "n = int(1e2)\n",
    "edge_density = 50\n",
    "\n",
    "DER_viz = g.Graph(n,edge_density*n,'DER')\n",
    "DER_viz.build()\n",
    "plt.imshow((DER_viz.edges>0),cmap='binary')\n",
    "plt.title('Directed Erdos-Renyi (DER) network')\n",
    "plt.ylabel('tail')\n",
    "plt.xlabel('head')\n",
    "# plt.colorbar()\n",
    "plt.show()"
   ]
  },
  {
   "cell_type": "code",
   "execution_count": null,
   "metadata": {
    "collapsed": false
   },
   "outputs": [],
   "source": [
    "ODER_viz = g.Graph(n,edge_density*n,'ODER')\n",
    "ODER_viz.build()\n",
    "plt.imshow((ODER_viz.edges>0),cmap='binary')\n",
    "plt.title('Ordered, Directed Erdos-Renyi (ODER) network')\n",
    "plt.ylabel('tail')\n",
    "plt.xlabel('head')\n",
    "# plt.colorbar()\n",
    "plt.show()"
   ]
  },
  {
   "cell_type": "code",
   "execution_count": null,
   "metadata": {
    "collapsed": false
   },
   "outputs": [],
   "source": [
    "CODER_viz = g.Graph(n,edge_density*n,'C-ODER')\n",
    "CODER_viz.build()\n",
    "plt.imshow((CODER_viz.edges>0),cmap='binary')\n",
    "plt.title('Competitive, Ordered, \\n Directed Erdos-Renyi (C-ODER) network')\n",
    "plt.ylabel('tail')\n",
    "plt.xlabel('head')\n",
    "# plt.colorbar()\n",
    "plt.show()"
   ]
  },
  {
   "cell_type": "markdown",
   "metadata": {},
   "source": [
    "# Replicating figures from the paper\n",
    "\n",
    "See notes for metrics.\n",
    "- $\\phi = \\frac{50}{10^6} = 5E-5 = $ fraction of a system that an average node reaches \n",
    "- $m_0=$ average number of edges per node\n",
    "\n",
    "We are better off studying a range of $\\phi=\\frac{m_0}{n}$, as this is more analogous to $p_c$ in percolation lattices.\n",
    "\n",
    "As before, $n$ is the total number of nodes and $m$ is the total number of edges.\n",
    "\n",
    "So our range of behaviors is:\n",
    "- Lower bound: $m_0=1$, $n=2E4$, $m=2E4$\n",
    "- Upper bound (paper): $m_0=50$, $n=1E6$, $m=50E6$\n",
    "- General case: $m_0$, $n=\\frac{m_0}{\\phi}$, $m=m_0{\\cdot}n$\n",
    "\n",
    "In all cases, `edge_density` as defined in the paper is $\\frac{m}{n}$== so just $m_0$.\n",
    "\n",
    "In the paper, when they change the `edge_density`, what they are actually changing is the fraction of the system that any given node is connected to."
   ]
  },
  {
   "cell_type": "markdown",
   "metadata": {},
   "source": [
    "## Fig 5&6\n",
    "\n",
    "I'm able to replicate the shape of these results, my \"edge densities\" are off by a factor of $\\approx 5$. It's not clear to me why this is.\n",
    "\n",
    "The equivalent density at these system sizes is much lower. If anything, I'm actually getting a much higher critical density than I should!"
   ]
  },
  {
   "cell_type": "code",
   "execution_count": null,
   "metadata": {
    "collapsed": true
   },
   "outputs": [],
   "source": [
    "# Plot ODER - might have to run outside of a jupyter notebook to get n-10^5 or higher\n",
    "# Running outside of a jupyter notebook still does not solve the problem -- then I run into memory issuees\n",
    "\n",
    "# actual settings in the experiment\n",
    "# n = int(1e6)\n",
    "# phi = np.linspace(1e-6,5e-5,5)"
   ]
  },
  {
   "cell_type": "code",
   "execution_count": null,
   "metadata": {
    "collapsed": false
   },
   "outputs": [],
   "source": [
    "edge_densities = np.linspace(1,25,50)\n",
    "replicates = 10\n",
    "\n",
    "n = int(1e2)\n",
    "# f.figure56('DER',n,edge_densities,replicates)\n",
    "f.figure56('C-ODER',n,edge_densities,replicates)\n",
    "f.figure56('ODER',n,edge_densities,replicates)\n",
    "\n",
    "n = int(1e3)\n",
    "f.figure56('C-ODER',n,edge_densities,replicates)\n",
    "f.figure56('ODER',n,edge_densities,replicates)"
   ]
  },
  {
   "cell_type": "markdown",
   "metadata": {},
   "source": [
    "## Figures stored in comments in this cell\n",
    "[//]: # \"![fig5](figs/fig5.png)\"\n",
    "[//]: # \"![fig6](figs/fig6.png)\""
   ]
  },
  {
   "cell_type": "markdown",
   "metadata": {},
   "source": [
    "## Figure 7\n",
    "\n",
    "Again, in the paper they simulate up to $10^6$ nodes, which is just wildly large. They really didn't need to do this...? Also, what edge density did they use? They don't say. I'm assuming it's 50, because I don't get the same results for other values.\n",
    "\n",
    "![fig7](figs/fig7.png)"
   ]
  },
  {
   "cell_type": "code",
   "execution_count": null,
   "metadata": {
    "collapsed": false
   },
   "outputs": [],
   "source": [
    "'''\n",
    "Paper did:\n",
    "edge_density = 50\n",
    "systems = np.linspace(1e5,1e6,7).astype(int)\n",
    "'''"
   ]
  },
  {
   "cell_type": "code",
   "execution_count": null,
   "metadata": {
    "collapsed": false,
    "scrolled": true
   },
   "outputs": [],
   "source": [
    "edge_density = 50\n",
    "systems = np.linspace(1e2,1e3,10).astype(int)\n",
    "replicates = 40\n",
    "f.figure7('ODER',systems,edge_density,replicates)"
   ]
  },
  {
   "cell_type": "code",
   "execution_count": null,
   "metadata": {
    "collapsed": false
   },
   "outputs": [],
   "source": [
    "edge_density = 50\n",
    "systems = np.linspace(1e2,1e3,10).astype(int)\n",
    "replicates = 40\n",
    "f.figure7('C-ODER',systems,edge_density,replicates)"
   ]
  },
  {
   "cell_type": "markdown",
   "metadata": {},
   "source": [
    "## Figure 8\n",
    "\n",
    "Again, this spot-on replicates the finding that the C-ODER process jump comes from the combination of two large components combining-- but the critical edge density is off by a factor of 5! \n",
    "\n",
    "![fig8](figs/fig8.png)"
   ]
  },
  {
   "cell_type": "code",
   "execution_count": null,
   "metadata": {
    "collapsed": false
   },
   "outputs": [],
   "source": [
    "edge_densities = np.linspace(1,25,50)\n",
    "n = int(1e3)\n",
    "f.figure8('C-ODER',n,edge_densities)"
   ]
  },
  {
   "cell_type": "markdown",
   "metadata": {},
   "source": [
    "## Figure 9\n",
    "Interesting, but low priority until other issues are worked out.\n",
    "\n",
    "![fig9](figs/fig9.png)"
   ]
  },
  {
   "cell_type": "code",
   "execution_count": null,
   "metadata": {
    "collapsed": true
   },
   "outputs": [],
   "source": []
  },
  {
   "cell_type": "markdown",
   "metadata": {
    "collapsed": true
   },
   "source": [
    "# Implementing with network x\n",
    "Just put the limited needed code here for building an ODER graph for n=1e4 and graphing the SCC '\n",
    "Timebox at an hour"
   ]
  },
  {
   "cell_type": "code",
   "execution_count": 76,
   "metadata": {
    "collapsed": true
   },
   "outputs": [],
   "source": [
    "from tqdm import tqdm,tqdm_notebook\n",
    "\n",
    "class nxGraph(object):\n",
    "\n",
    "    def __init__(self,n,m,process_name):\n",
    "        self.n = int(n)\n",
    "        self.m = int(m)\n",
    "        self.n_list = np.linspace(0,self.n-1,self.n).astype(int)\n",
    "        self.edge_density = self.m/self.n\n",
    "        self.nodes = 0\n",
    "        self.process = process_name\n",
    "\n",
    "    def build(self):\n",
    "        if self.process=='ODER': self.ODER()\n",
    "        else: print('build with a valid process')\n",
    "\n",
    "    def check_edge(self,p):\n",
    "        if self.G.has_edge(p[0],p[1]):\n",
    "            if self.G.has_edge(p[1],p[0]): pass\n",
    "            else: self.G.add_edge(p[1],p[0]); self.nodes += 1\n",
    "        else: self.G.add_edge(p[0],p[1]); self.nodes += 1\n",
    "\n",
    "    def ODER(self):\n",
    "        pbar = tqdm_notebook(total=(self.m-self.nodes),desc=\"Building ODER graph\")\n",
    "        self.G = nx.DiGraph()\n",
    "        self.G.add_nodes_from(range(self.n))\n",
    "        while self.nodes<self.m:\n",
    "            first_node, second_node = random.sample(list(self.n_list),2)\n",
    "            proposed_edge = tuple(sorted((first_node,second_node)))\n",
    "            n0 = self.nodes\n",
    "            self.check_edge(proposed_edge)\n",
    "            pbar.update(self.nodes-n0)\n",
    "        pbar.close()"
   ]
  },
  {
   "cell_type": "markdown",
   "metadata": {},
   "source": [
    "When Networkx does not preserve previously-added edges-- at least the way that I have my code set up. I rewrite the functions to recalculate the network every time."
   ]
  },
  {
   "cell_type": "code",
   "execution_count": 83,
   "metadata": {
    "collapsed": true
   },
   "outputs": [],
   "source": [
    "def figure56_nx(process,n,edge_densities,replicates):\n",
    "    for replicate in range(replicates):\n",
    "        largest_scc = []\n",
    "        for density in edge_densities:\n",
    "            Sample = nxGraph(n,round(density*n),process)\n",
    "            Sample.build()\n",
    "            max_scc = len(max(nx.strongly_connected_components(Sample.G), key=len))/n\n",
    "            largest_scc.append(max_scc)\n",
    "        plt.plot(edge_densities,largest_scc)\n",
    "    plt.title('Explosive percolation of %s process, n=%d' %(process,n))\n",
    "    plt.ylabel('Largest SCC')\n",
    "    plt.xlabel('Edge density')\n",
    "    plt.show()"
   ]
  },
  {
   "cell_type": "code",
   "execution_count": 87,
   "metadata": {
    "collapsed": false
   },
   "outputs": [
    {
     "data": {
      "image/png": "[encoded data removed]",
      "text/plain": [
       "<matplotlib.figure.Figure at 0x1521f4d588>"
      ]
     },
     "metadata": {},
     "output_type": "display_data"
    }
   ],
   "source": [
    "edge_densities = np.linspace(1,25,3)\n",
    "replicates = 10\n",
    "n = int(5e3)\n",
    "# f.figure56('DER',n,edge_densities,replicates)\n",
    "figure56_nx('ODER',n,edge_densities,replicates)"
   ]
  }
 ],
 "metadata": {
  "kernelspec": {
   "display_name": "Python 3",
   "language": "python",
   "name": "python3"
  },
  "language_info": {
   "codemirror_mode": {
    "name": "ipython",
    "version": 3
   },
   "file_extension": ".py",
   "mimetype": "text/x-python",
   "name": "python",
   "nbconvert_exporter": "python",
   "pygments_lexer": "ipython3",
   "version": "3.5.3"
  }
 },
 "nbformat": 4,
 "nbformat_minor": 0
}
