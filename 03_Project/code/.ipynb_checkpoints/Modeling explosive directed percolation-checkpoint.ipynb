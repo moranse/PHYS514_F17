{
 "cells": [
  {
   "cell_type": "markdown",
   "metadata": {},
   "source": [
    "## Time spent\n",
    "- 12/7: 1:45"
   ]
  },
  {
   "cell_type": "markdown",
   "metadata": {},
   "source": [
    "## Outline\n",
    "\n",
    "- Directed Graph\n",
    "- Directed Graph: Ordered\n",
    "- Directed Graph: Ordered, Competitive\n",
    "\n",
    "Methods\n",
    "- Build nodes\n",
    "- Add edges according to rules\n",
    "- Calculate component sizes"
   ]
  },
  {
   "cell_type": "markdown",
   "metadata": {},
   "source": [
    "# To-do\n",
    "- Implement DER\n",
    "- Implement ODER, C-ODER\n",
    "- Visualization..?\n",
    "- Calculate component sizes of a graph with Tarjan algorithm\n",
    "- Plot of largest SCC\n",
    "\n",
    "Go though C++ tutorials linked to in Glotzdocs.\n",
    "\n",
    "Speed up options:\n",
    "- Multiprocessing and pool\n",
    "- Cython"
   ]
  },
  {
   "cell_type": "code",
   "execution_count": 1,
   "metadata": {
    "collapsed": false,
    "scrolled": false
   },
   "outputs": [],
   "source": [
    "# Import needed packages\n",
    "import time\n",
    "import itertools\n",
    "import numpy as np\n",
    "import pandas as pd\n",
    "import scipy\n",
    "import random\n",
    "import matplotlib.pyplot as plt\n",
    "%matplotlib inline"
   ]
  },
  {
   "cell_type": "code",
   "execution_count": null,
   "metadata": {
    "collapsed": false
   },
   "outputs": [],
   "source": [
    "# not yet installed\n",
    "import networkx as nx\n",
    "import percolate"
   ]
  },
  {
   "cell_type": "code",
   "execution_count": 3,
   "metadata": {
    "collapsed": true
   },
   "outputs": [],
   "source": [
    "# For cleanliness, ignore warnings after first appearance. \n",
    "import warnings\n",
    "warnings.filterwarnings('ignore')\n",
    "# warnings.filterwarnings(action='once')"
   ]
  },
  {
   "cell_type": "code",
   "execution_count": 22,
   "metadata": {
    "collapsed": false
   },
   "outputs": [],
   "source": [
    "from sem_graphs import gnp_random_graph"
   ]
  },
  {
   "cell_type": "markdown",
   "metadata": {},
   "source": [
    "# 00 - Percolation implementations (simple)\n",
    "\n",
    "### Network science background\n",
    "- Erdos-Renyi graphs (random, non-directed graphs): [link here](https://en.wikipedia.org/wiki/Erd%C5%91s%E2%80%93R%C3%A9nyi_model)\n",
    "- Directed Erdos-Renyi graphs, DER (directed edges)\n",
    "- Paper covers two models:\n",
    "  - Ordered, directed Erdos-Renyis (ODER)\n",
    "  - Competitive ODER\n",
    "  \n",
    "I'm currently using Networkx to play around with these. In the generator source code [here](https://github.com/networkx/networkx/blob/1174e443263f8a60dc82083ad1c563a4c25e5582/networkx/generators/random_graphs.py), `erdos_renyi_graph` is just an alias for `gnp_random_graph`."
   ]
  },
  {
   "cell_type": "markdown",
   "metadata": {},
   "source": [
    "Algorithm for ODER:\n",
    "- begin with a set of $n$ isolated nodes on which we have placed an arbitrarry ordering from 1 to $n$\n",
    "- at each step, add a single directed edge between two nodes selected uniformly at random\n",
    "    - the head of the directed edge = node higher in ordering\n",
    "    - ...UNLESS the edge already exists in the graph\n",
    "- repeat steps until $m$ edges have been added (edges and reverse edges count as separate edges)"
   ]
  },
  {
   "cell_type": "code",
   "execution_count": 3,
   "metadata": {
    "collapsed": true
   },
   "outputs": [],
   "source": [
    "def check_if_edge_exists(proposed,edges):\n",
    "    for item in edges:\n",
    "        if proposed==item: return True\n",
    "        else: pass"
   ]
  },
  {
   "cell_type": "code",
   "execution_count": 13,
   "metadata": {
    "collapsed": false
   },
   "outputs": [],
   "source": [
    "# ODER implementation\n",
    "def ODER(n,m):\n",
    "    # set up list nodes with ranked order\n",
    "    n_list = np.linspace(0,n-1,n).astype(int)\n",
    "\n",
    "    # add m edges to the plot\n",
    "    edge_list = []\n",
    "    while len(edge_list)<m:\n",
    "        first_node, second_node = random.sample(list(n_list),2)\n",
    "        proposed_edge = tuple(sorted((first_node,second_node)))\n",
    "        if check_if_edge_exists(proposed_edge,edge_list):\n",
    "            if check_if_edge_exists(tuple(reversed(proposed_edge)),edge_list): pass\n",
    "            else: edge_list.append(tuple(reversed(proposed_edge)))\n",
    "        else: edge_list.append(proposed_edge)\n",
    "    return edge_list"
   ]
  },
  {
   "cell_type": "code",
   "execution_count": 14,
   "metadata": {
    "collapsed": false
   },
   "outputs": [],
   "source": [
    "# C-ODER implementation\n",
    "def CODER(n,m):\n",
    "    # set up list nodes with ranked order\n",
    "    n_list = np.linspace(0,n-1,n).astype(int)\n",
    "    \n",
    "    # add m edges to the plot\n",
    "    edge_list = []\n",
    "    while len(edge_list)<m:\n",
    "        # samples without replacement (no duplicates)\n",
    "        first_node, second_node, third_node = random.sample(list(n_list),3)\n",
    "        proposed_edges = tuple(itertools.combinations(tuple(sorted((first_node,second_node,third_node))), 2))\n",
    "        \n",
    "        # for nodes with min difference, check if they/their reverse already exist; if no, add them\n",
    "        difference = np.asarray([nodes[1]-nodes[0] for nodes in proposed_edges])\n",
    "        idx = np.where(difference == difference.min())[0]\n",
    "        for i in idx:\n",
    "            proposed_edge = proposed_edges[i]\n",
    "            # avoid duplicates; adds in reverse edges\n",
    "            if check_if_edge_exists(proposed_edge,edge_list):\n",
    "                if check_if_edge_exists(tuple(reversed(proposed_edge)),edge_list): pass\n",
    "                else: edge_list.append(tuple(reversed(proposed_edge)))\n",
    "            else: edge_list.append(proposed_edge)\n",
    "    return edge_list    "
   ]
  },
  {
   "cell_type": "code",
   "execution_count": 15,
   "metadata": {
    "collapsed": false,
    "scrolled": false
   },
   "outputs": [
    {
     "name": "stdout",
     "output_type": "stream",
     "text": [
      "Edge density: 50 \n",
      "Number of nodes: 1000 \n",
      "Number of edges: 50000\n"
     ]
    }
   ],
   "source": [
    "edge_density = 50\n",
    "n = 10**3\n",
    "m = edge_density*n\n",
    "print('Edge density: %s \\nNumber of nodes: %s \\nNumber of edges: %s' %(edge_density,n,m))\n",
    "test = ODER(n,m)"
   ]
  },
  {
   "cell_type": "code",
   "execution_count": 16,
   "metadata": {
    "collapsed": false,
    "scrolled": true
   },
   "outputs": [
    {
     "name": "stdout",
     "output_type": "stream",
     "text": [
      "Edge density: 50 \n",
      "Number of nodes: 1000 \n",
      "Number of edges: 50000\n"
     ]
    }
   ],
   "source": [
    "edge_density = 50\n",
    "n = 10**3\n",
    "m = edge_density*n\n",
    "print('Edge density: %s \\nNumber of nodes: %s \\nNumber of edges: %s' %(edge_density,n,m))\n",
    "test = CODER(n,m)"
   ]
  },
  {
   "cell_type": "markdown",
   "metadata": {},
   "source": [
    "### Problem: This is going to take a lot of compute power\n",
    "\n",
    "Running for $10^3$ nodes is arlready overwhelming my computational power. The paper runs on $10^6$ nodes, so I have a lot of optimization to do... "
   ]
  },
  {
   "cell_type": "markdown",
   "metadata": {},
   "source": [
    "### Next up: Clustering algorithm implemented in paper\n",
    "Implementation of Tarjan algorithm. Python source [here](https://github.com/bwesterb/py-tarjan).\n",
    "\n",
    "Pseudocode given in the wikipedia article [here](https://en.wikipedia.org/wiki/Tarjan%27s_strongly_connected_components_algorithm).\n",
    "\n",
    "Gives $O(E\\log{E})$ clustering performance when using the pseudocode in section 5."
   ]
  },
  {
   "cell_type": "code",
   "execution_count": null,
   "metadata": {
    "collapsed": true
   },
   "outputs": [],
   "source": [
    "# Implementation of clustering algorithm from the paper"
   ]
  },
  {
   "cell_type": "markdown",
   "metadata": {},
   "source": [
    "## Playing around with networkx capabilities\n",
    "\n",
    "So, looks like this is not so straightforward.\n",
    "\n",
    "Networkx works from different graph classes, e.g. [here](https://github.com/networkx/networkx/blob/a660d5728b3b3463b08c03ab8138f62468487c71/networkx/classes/digraph.py).\n",
    "\n",
    "Class documentation is here: https://docs.python.org/3/tutorial/classes.html\n",
    "\n",
    "Read through this: http://www.souravsengupta.com/cds2015/python/LPTHW.pdf\n",
    "\n",
    "Unit tests: http://docs.python-guide.org/en/latest/writing/tests/"
   ]
  },
  {
   "cell_type": "code",
   "execution_count": 1,
   "metadata": {
    "collapsed": true
   },
   "outputs": [],
   "source": [
    "# Trying to use networkx\n",
    "'''\n",
    "n: number of nodes\n",
    "p: probability of an edge being accepted\n",
    "'''\n",
    "\n",
    "def gnp_random_graph(n, p):\n",
    "    G = nx.DiGraph()\n",
    "    G.add_nodes_from(range(n))\n",
    "    if p <= 0:\n",
    "        return G\n",
    "    if p >= 1:\n",
    "        return complete_graph(n, create_using=G)\n",
    "\n",
    "    # Itertools makes all possible edge permutations between nodes-- so size of edges is n(n-1)-- I think\n",
    "    edges = itertools.permutations(range(n), 2)\n",
    "\n",
    "    # Here is where I need to add competition/ \n",
    "    for e in edges:\n",
    "        if random.random() < p:\n",
    "            G.add_edge(*e)\n",
    "    return G"
   ]
  },
  {
   "cell_type": "code",
   "execution_count": null,
   "metadata": {
    "collapsed": false
   },
   "outputs": [],
   "source": [
    "# ER example here (done with networkx)\n",
    "# Based on this, will take about 500 seconds to make a graph with 10e6 nodes\n",
    "# Can definitely parallelize this with map/pool!\n",
    "# Reference: http://chriskiehl.com/article/parallelism-in-one-line/ < this is python 2.7\n",
    "# Good reference on python 3: https://www.ploggingdev.com/2017/01/multiprocessing-and-multithreading-in-python-3/\n",
    "\n",
    "n = [5000]\n",
    "timed = []\n",
    "for N in n:\n",
    "    start = time.time()\n",
    "    gnp_random_graph(int(N),0.5)\n",
    "    timed.append(time.time()-start)\n",
    "    start = time.time()\n",
    "#     er = nx.erdos_renyi_graph(int(N),.5)\n",
    "    er = nx.erdos_renyi_graph(int(N),.5)\n",
    "    timed.append(time.time()-start)\n",
    "    \n",
    "print(timed)\n",
    "    \n",
    "# plt.scatter(n,timed)\n",
    "# plt.subplot(121)\n",
    "# nx.draw(er, with_labels=True, font_weight='bold')\n",
    "# plt.subplot(122)\n",
    "# nx.draw_shell(er, with_labels=True, font_weight='bold')"
   ]
  },
  {
   "cell_type": "code",
   "execution_count": null,
   "metadata": {
    "collapsed": false
   },
   "outputs": [],
   "source": [
    "# DER example here\n",
    "er = nx.erdos_renyi_graph(10,.5,directed=True)\n",
    "plt.subplot(121)\n",
    "nx.draw(er, with_labels=True, font_weight='bold')\n",
    "plt.subplot(122)\n",
    "nx.draw_shell(er, with_labels=True, font_weight='bold')"
   ]
  },
  {
   "cell_type": "markdown",
   "metadata": {},
   "source": [
    "### Model 1: Ordered, Directed Erdos-Renyi (ODER)\n",
    "- Generalization of the directed ER model to ordered graph\n",
    "- Form two large components, which explosively merge (discontinuous jump in the size of the largest strongly connected component)\n",
    "\n",
    "Ordered, directed graphs can be made using the OrderedDiGraph class, source [here](https://github.com/networkx/networkx/blob/386b71a7af6c4898331f62987d8ced3f5621b680/networkx/classes/ordered.py).\n",
    "\n",
    "From the python `collections` documentation [here](https://docs.python.org/3/library/collections.html#collections.OrderedDict): \"an OrderedDict is a dict that remembers the order that keys were first inserted. If a new entry overwrites an existing entry, the original insertion position is left unchanged. Deleting an entry and reinserting it will move it to the end.\""
   ]
  },
  {
   "cell_type": "code",
   "execution_count": null,
   "metadata": {
    "collapsed": true
   },
   "outputs": [],
   "source": [
    "# ODER example here"
   ]
  },
  {
   "cell_type": "markdown",
   "metadata": {},
   "source": [
    "### Model 2: Competitive ODER\n",
    "- Adds competition: preference for connecting nodes of similar rank\n",
    "- See similar discontinuous jump in cluster size, but \"more explosive\"\n",
    "- Get an effective phase separation of the two large components: one containing the lower-ranked users, one containing the higher-ranked users\n",
    "- TAKEAWAY: Some bias towards grouping similar-ranked nodes leads to formation of two distinct groups of nodes (classes) with little flow of information between the classes"
   ]
  },
  {
   "cell_type": "code",
   "execution_count": null,
   "metadata": {
    "collapsed": true
   },
   "outputs": [],
   "source": [
    "# CODER example here"
   ]
  },
  {
   "cell_type": "markdown",
   "metadata": {},
   "source": [
    "# 01 - Clustering implementations\n",
    "\n",
    "### Classical non-directed NZ clustering algorithm"
   ]
  },
  {
   "cell_type": "code",
   "execution_count": null,
   "metadata": {
    "collapsed": true
   },
   "outputs": [],
   "source": [
    "# Newmann-Ziff implementation on ER"
   ]
  },
  {
   "cell_type": "markdown",
   "metadata": {},
   "source": [
    "# 02 - Thermodynamics"
   ]
  },
  {
   "cell_type": "code",
   "execution_count": null,
   "metadata": {
    "collapsed": true
   },
   "outputs": [],
   "source": [
    "# Plot SCC (\"strongly connected component\") versus edge density, per paper"
   ]
  },
  {
   "cell_type": "code",
   "execution_count": null,
   "metadata": {
    "collapsed": true
   },
   "outputs": [],
   "source": [
    "# Find critical exponents-- they actually don't have them"
   ]
  },
  {
   "cell_type": "markdown",
   "metadata": {},
   "source": [
    "# 03 - Something else interesting?\n",
    "- Can we say something else interesting from this work that the authors might not have thought about?\n",
    "- What could have made this paper more interesting?\n",
    "- How innovative actually is this?"
   ]
  },
  {
   "cell_type": "code",
   "execution_count": null,
   "metadata": {
    "collapsed": true
   },
   "outputs": [],
   "source": []
  }
 ],
 "metadata": {
  "kernelspec": {
   "display_name": "Python 3",
   "language": "python",
   "name": "python3"
  },
  "language_info": {
   "codemirror_mode": {
    "name": "ipython",
    "version": 3
   },
   "file_extension": ".py",
   "mimetype": "text/x-python",
   "name": "python",
   "nbconvert_exporter": "python",
   "pygments_lexer": "ipython3",
   "version": "3.5.3"
  }
 },
 "nbformat": 4,
 "nbformat_minor": 0
}
