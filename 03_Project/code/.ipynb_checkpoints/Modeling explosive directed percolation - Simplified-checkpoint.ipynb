{
 "cells": [
  {
   "cell_type": "markdown",
   "metadata": {},
   "source": [
    "# To-do\n",
    "- Switching to numpy arrays broke everything-- get everything working again when back on internet\n",
    "    - Use the edge density calculations used in prior versions of this notebook \n",
    "- Once that's finished, go through and see if I can switch the edge density and get interesting results that way"
   ]
  },
  {
   "cell_type": "code",
   "execution_count": 1,
   "metadata": {
    "collapsed": true
   },
   "outputs": [],
   "source": [
    "# Auto-reloads external files so I can stop re-loading\n",
    "%load_ext autoreload\n",
    "%autoreload 2\n",
    "\n",
    "%matplotlib inline\n",
    "from tools import *\n",
    "import graphs as g"
   ]
  },
  {
   "cell_type": "markdown",
   "metadata": {},
   "source": [
    "# Replicating figures from the paper\n",
    "\n",
    "See notes for metrics.\n",
    "- $\\phi = \\frac{50}{10^6} = 5E-5 = $ fraction of a system that an average node reaches \n",
    "- $m_0=$ average number of edges per node\n",
    "\n",
    "We are better off studying a range of $\\phi=\\frac{m_0}{n}$, as this is more analogous to $p_c$ in percolation lattices.\n",
    "\n",
    "As before, $n$ is the total number of nodes and $m$ is the total number of edges.\n",
    "\n",
    "So our range of behaviors is:\n",
    "- Lower bound: $m_0=1$, $n=2E4$, $m=2E4$\n",
    "- Upper bound (paper): $m_0=50$, $n=1E6$, $m=50E6$\n",
    "- General case: $m_0$, $n=\\frac{m_0}{\\phi}$, $m=m_0{\\cdot}n$\n",
    "\n",
    "In all cases, `edge_density` as defined in the paper is $\\frac{m}{n}$== so just $m_0$.\n",
    "\n",
    "In the paper, when they change the `edge_density`, what they are actually changing is the fraction of the system that any given node is connected to."
   ]
  },
  {
   "cell_type": "code",
   "execution_count": 3,
   "metadata": {
    "collapsed": false
   },
   "outputs": [
    {
     "name": "stdout",
     "output_type": "stream",
     "text": [
      "\n",
      "\n"
     ]
    }
   ],
   "source": [
    "n = int(2e4)\n",
    "phi = np.linspace(1e-6,5e-5,2)\n",
    "\n",
    "ODER_graph = g.Graph(n,phi[0]*n**2,'ODER')\n",
    "for phii in phi:\n",
    "    ODER_graph.m = round(int(phii*n**2))\n",
    "    ODER_graph.initialize()"
   ]
  },
  {
   "cell_type": "code",
   "execution_count": null,
   "metadata": {
    "collapsed": true
   },
   "outputs": [],
   "source": [
    "plt.imshow(ODER_graph.edges,cmap=\"binary\")\n",
    "plt.show()"
   ]
  },
  {
   "cell_type": "markdown",
   "metadata": {},
   "source": [
    "## Fig 5&6\n",
    "\n",
    "I'm able to replicate the shape of these results, my \"edge densities\" are off by a factor of $\\approx 5$. It's not clear to me why this is.\n",
    "\n",
    "The equivalent density at these system sizes is much lower. If anything, I'm actually getting a much higher critical density than I should!"
   ]
  },
  {
   "cell_type": "code",
   "execution_count": 6,
   "metadata": {
    "collapsed": false
   },
   "outputs": [],
   "source": [
    "def figure56(process,edge_densities,n):\n",
    "    largest_scc = []\n",
    "    Sample = g.Graph(n,0,process)\n",
    "    for density in edge_densities:\n",
    "        Sample.m = round(density*n)\n",
    "        Sample.initialize()\n",
    "#         largest_scc.append(ranked_SCC(tarjan(edges_to_children(Sample.edges)))/n)\n",
    "#         largest_scc.append(ranked_SCC(tarjan(matrix_to_dict(Sample.edges)))/n)\n",
    "        largest_scc.append(ranked_SCC(tarjan(Sample.edges))/n)\n",
    "    return largest_scc"
   ]
  },
  {
   "cell_type": "code",
   "execution_count": 7,
   "metadata": {
    "collapsed": false
   },
   "outputs": [
    {
     "name": "stderr",
     "output_type": "stream",
     "text": [
      "Implementing ODER process: 100%|██████████| 2500/2500.0 [00:05<00:00, 424.61it/s]\n",
      "Implementing ODER process: 100%|██████████| 122500/122500.0 [04:58<00:00, 410.91it/s]"
     ]
    },
    {
     "name": "stdout",
     "output_type": "stream",
     "text": [
      "[   2500.  125000.]\n"
     ]
    },
    {
     "name": "stderr",
     "output_type": "stream",
     "text": [
      "\n"
     ]
    },
    {
     "data": {
      "image/png": "[encoded data removed]",
      "text/plain": [
       "<matplotlib.figure.Figure at 0x150ffaf390>"
      ]
     },
     "metadata": {},
     "output_type": "display_data"
    }
   ],
   "source": [
    "# Plot ODER - might have to run outside of a jupyter notebook to get n-10^5 or higher\n",
    "\n",
    "replicates = 1\n",
    "n = 5*10**4\n",
    "edge_density = 5e-5*n\n",
    "\n",
    "# edge_densities = np.linspace(0.1*edge_density,edge_density,10)\n",
    "# edge_densities = np.linspace(1,50,20)\n",
    "edge_densities = np.linspace(10**(-6)*n,5*10**(-5)*n,2)\n",
    "m = edge_densities*n\n",
    "print(m)\n",
    "\n",
    "for i in range(replicates):\n",
    "    plt.plot(edge_densities,figure56('ODER',edge_densities,n))\n",
    "plt.title('Explosive percolation of ODER process')\n",
    "plt.ylabel('Largest SCC')\n",
    "plt.xlabel('Edge density')\n",
    "plt.show()"
   ]
  },
  {
   "cell_type": "markdown",
   "metadata": {},
   "source": [
    "# ![fig5](figs/fig5.png)"
   ]
  },
  {
   "cell_type": "code",
   "execution_count": null,
   "metadata": {
    "collapsed": false
   },
   "outputs": [],
   "source": [
    "# Plot C-ODER\n",
    "\n",
    "replicates = 10\n",
    "edge_densities = np.linspace(1,10,20)\n",
    "for i in range(replicates):\n",
    "    plt.plot(edge_densities,figure56('CODER',edge_densities))\n",
    "plt.title('Explosive percolation of C-ODER process')\n",
    "plt.ylabel('Largest SCC')\n",
    "plt.xlabel('Edge density')\n",
    "plt.show()"
   ]
  },
  {
   "cell_type": "markdown",
   "metadata": {},
   "source": [
    "![fig6](figs/fig6.png)"
   ]
  },
  {
   "cell_type": "markdown",
   "metadata": {},
   "source": [
    "## Figure 7\n",
    "\n",
    "Again, in the paper they simulate up to $10^6$ nodes, which is just wildly large.\n",
    "\n",
    "![fig7](figs/fig7.png)"
   ]
  },
  {
   "cell_type": "code",
   "execution_count": null,
   "metadata": {
    "collapsed": false
   },
   "outputs": [],
   "source": [
    "def figure7(process,n_sizes):\n",
    "    edge_density = 5\n",
    "    max_jump = []\n",
    "    Sample = g.Graph(n_sizes[0],edge_density*n_sizes[0],process)\n",
    "    for n in n_sizes:\n",
    "        m = edge_density*n\n",
    "        Sample.n = n\n",
    "        Sample.m = m\n",
    "        Sample.initialize()\n",
    "        max_jump.append(get_largest_jump(Sample)/n)\n",
    "    return max_jump"
   ]
  },
  {
   "cell_type": "code",
   "execution_count": null,
   "metadata": {
    "collapsed": false
   },
   "outputs": [],
   "source": [
    "# Plotting ODER coefficient\n",
    "\n",
    "# systems = np.linspace(500,1000,5).astype(int)\n",
    "systems = [100]\n",
    "replicates = 1\n",
    "\n",
    "jumps = []\n",
    "for i in range(replicates):\n",
    "    jumps.append(figure7('ODER',systems))\n",
    "\n",
    "ODER_jumps_array = np.asarray(jumps).reshape((replicates,len(jumps[0])))\n",
    "ODER_avg_jump= np.mean(ODER_jumps_array, axis=0)\n",
    "ODER_std_jump= np.std(ODER_jumps_array, axis=0)"
   ]
  },
  {
   "cell_type": "code",
   "execution_count": null,
   "metadata": {
    "collapsed": false
   },
   "outputs": [],
   "source": [
    "plt.errorbar(systems,ODER_avg_jump,yerr=ODER_std_jump, fmt='o')\n",
    "# plt.axis([0,max(systems)*1.1,-0.05,0.20])\n",
    "plt.title('Max jump size, ODER')\n",
    "plt.ylabel('Max jump')\n",
    "plt.xlabel('System size')\n",
    "plt.show()"
   ]
  },
  {
   "cell_type": "markdown",
   "metadata": {},
   "source": [
    "## Figure 8\n",
    "\n",
    "Again, this spot-on replicates the finding that the C-ODER process jump comes from the combination of two large components combining-- but the critical edge density is off by a factor of 5! \n",
    "\n",
    "![fig8](figs/fig8.png)"
   ]
  },
  {
   "cell_type": "code",
   "execution_count": null,
   "metadata": {
    "collapsed": false
   },
   "outputs": [],
   "source": [
    "def figure8(process,edge_densities):\n",
    "    n = 10**2\n",
    "    first_scc,second_scc,third_scc = [],[],[]\n",
    "    Sample = Graph(n,1,'CODER')\n",
    "    for density in edge_densities:\n",
    "        m = density*n\n",
    "        Sample.m = m\n",
    "        Sample.initialize()\n",
    "        first_scc.append(ranked_SCC(tarjan(edges_to_children(Sample.edges)),rank=1)/n)\n",
    "        second_scc.append(ranked_SCC(tarjan(edges_to_children(Sample.edges)),rank=2)/n)\n",
    "        third_scc.append(ranked_SCC(tarjan(edges_to_children(Sample.edges)),rank=3)/n)\n",
    "    return first_scc, second_scc, third_scc"
   ]
  },
  {
   "cell_type": "code",
   "execution_count": null,
   "metadata": {
    "collapsed": false
   },
   "outputs": [],
   "source": [
    "edge_densities = np.linspace(1,10,20)\n",
    "first_scc, second_scc, third_scc = figure8('CODER',edge_densities)\n",
    "\n",
    "plt.scatter(edge_densities,first_scc,label=\"Largest SCC\")\n",
    "plt.scatter(edge_densities,second_scc,label=\"Second largest SCC\")\n",
    "plt.scatter(edge_densities,third_scc,label=\"Third largest SCC\")\n",
    "plt.title('SCC combination near critical edge density in a C-ODER graph')\n",
    "plt.ylabel('Component size')\n",
    "plt.xlabel('Edge density')\n",
    "plt.legend()\n",
    "plt.show()"
   ]
  },
  {
   "cell_type": "markdown",
   "metadata": {},
   "source": [
    "## Figure 9\n",
    "Interesting, but low priority until other issues are worked out.\n",
    "\n",
    "![fig9](figs/fig9.png)"
   ]
  },
  {
   "cell_type": "code",
   "execution_count": null,
   "metadata": {
    "collapsed": true
   },
   "outputs": [],
   "source": []
  }
 ],
 "metadata": {
  "kernelspec": {
   "display_name": "Python 3",
   "language": "python",
   "name": "python3"
  },
  "language_info": {
   "codemirror_mode": {
    "name": "ipython",
    "version": 3
   },
   "file_extension": ".py",
   "mimetype": "text/x-python",
   "name": "python",
   "nbconvert_exporter": "python",
   "pygments_lexer": "ipython3",
   "version": "3.5.3"
  }
 },
 "nbformat": 4,
 "nbformat_minor": 0
}
