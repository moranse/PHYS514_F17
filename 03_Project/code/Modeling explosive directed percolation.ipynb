{
 "cells": [
  {
   "cell_type": "markdown",
   "metadata": {},
   "source": [
    "## Time spent\n",
    "- 12/7: 1:45, 1:00"
   ]
  },
  {
   "cell_type": "markdown",
   "metadata": {},
   "source": [
    "## Outline\n",
    "\n",
    "- Directed Graph\n",
    "- Directed Graph: Ordered\n",
    "- Directed Graph: Ordered, Competitive\n",
    "\n",
    "Methods\n",
    "- Build nodes\n",
    "- Add edges according to rules\n",
    "- Calculate component sizes"
   ]
  },
  {
   "cell_type": "markdown",
   "metadata": {},
   "source": [
    "# To-do\n",
    "- Implement DER\n",
    "- Implement ODER, C-ODER\n",
    "- Visualization..?\n",
    "- Calculate component sizes of a graph with Tarjan algorithm\n",
    "- Plot of largest SCC\n",
    "\n",
    "Go though C++ tutorials linked to in Glotzdocs.\n",
    "\n",
    "Speed up options:\n",
    "- Multiprocessing and pool\n",
    "- Cython"
   ]
  },
  {
   "cell_type": "code",
   "execution_count": 1,
   "metadata": {
    "collapsed": false,
    "scrolled": false
   },
   "outputs": [],
   "source": [
    "# Import needed packages\n",
    "import time\n",
    "import itertools\n",
    "import numpy as np\n",
    "import pandas as pd\n",
    "import scipy\n",
    "import random\n",
    "import matplotlib.pyplot as plt\n",
    "%matplotlib inline"
   ]
  },
  {
   "cell_type": "code",
   "execution_count": 8,
   "metadata": {
    "collapsed": false
   },
   "outputs": [],
   "source": [
    "# not yet installed\n",
    "import networkx as nx\n",
    "# import percolate"
   ]
  },
  {
   "cell_type": "code",
   "execution_count": null,
   "metadata": {
    "collapsed": true
   },
   "outputs": [],
   "source": [
    "# For cleanliness, ignore warnings after first appearance. \n",
    "import warnings\n",
    "warnings.filterwarnings('ignore')\n",
    "# warnings.filterwarnings(action='once')"
   ]
  },
  {
   "cell_type": "code",
   "execution_count": null,
   "metadata": {
    "collapsed": false
   },
   "outputs": [],
   "source": [
    "from sem_graphs import gnp_random_graph"
   ]
  },
  {
   "cell_type": "markdown",
   "metadata": {},
   "source": [
    "# 00 - Percolation implementations (simple)\n",
    "\n",
    "### Network science background\n",
    "- Erdos-Renyi graphs (random, non-directed graphs): [link here](https://en.wikipedia.org/wiki/Erd%C5%91s%E2%80%93R%C3%A9nyi_model)\n",
    "- Directed Erdos-Renyi graphs, DER (directed edges)\n",
    "- Paper covers two models:\n",
    "  - Ordered, directed Erdos-Renyis (ODER)\n",
    "  - Competitive ODER\n",
    "  \n",
    "I'm currently using Networkx to play around with these. In the generator source code [here](https://github.com/networkx/networkx/blob/1174e443263f8a60dc82083ad1c563a4c25e5582/networkx/generators/random_graphs.py), `erdos_renyi_graph` is just an alias for `gnp_random_graph`."
   ]
  },
  {
   "cell_type": "markdown",
   "metadata": {},
   "source": [
    "Algorithm for ODER:\n",
    "- begin with a set of $n$ isolated nodes on which we have placed an arbitrarry ordering from 1 to $n$\n",
    "- at each step, add a single directed edge between two nodes selected uniformly at random\n",
    "    - the head of the directed edge = node higher in ordering\n",
    "    - ...UNLESS the edge already exists in the graph\n",
    "- repeat steps until $m$ edges have been added (edges and reverse edges count as separate edges)"
   ]
  },
  {
   "cell_type": "code",
   "execution_count": 2,
   "metadata": {
    "collapsed": true
   },
   "outputs": [],
   "source": [
    "def check_if_edge_exists(proposed,edges):\n",
    "    for item in edges:\n",
    "        if proposed==item: return True\n",
    "        else: pass"
   ]
  },
  {
   "cell_type": "code",
   "execution_count": 3,
   "metadata": {
    "collapsed": false
   },
   "outputs": [],
   "source": [
    "# ODER implementation\n",
    "def ODER(n,m):\n",
    "    # set up list nodes with ranked order\n",
    "    n_list = np.linspace(0,n-1,n).astype(int)\n",
    "\n",
    "    # add m edges to the plot\n",
    "    edge_list = []\n",
    "    while len(edge_list)<m:\n",
    "        first_node, second_node = random.sample(list(n_list),2)\n",
    "        proposed_edge = tuple(sorted((first_node,second_node)))\n",
    "        if check_if_edge_exists(proposed_edge,edge_list):\n",
    "            if check_if_edge_exists(tuple(reversed(proposed_edge)),edge_list): pass\n",
    "            else: edge_list.append(tuple(reversed(proposed_edge)))\n",
    "        else: edge_list.append(proposed_edge)\n",
    "    return edge_list"
   ]
  },
  {
   "cell_type": "code",
   "execution_count": 4,
   "metadata": {
    "collapsed": false
   },
   "outputs": [],
   "source": [
    "# C-ODER implementation\n",
    "def CODER(n,m):\n",
    "    # set up list nodes with ranked order\n",
    "    n_list = np.linspace(0,n-1,n).astype(int)\n",
    "    \n",
    "    # add m edges to the plot\n",
    "    edge_list = []\n",
    "    while len(edge_list)<m:\n",
    "        if len(edge_list)%(m/10)==0: print(len(edge_list))\n",
    "        # samples without replacement (no duplicates)\n",
    "        first_node, second_node, third_node = random.sample(list(n_list),3)\n",
    "        proposed_edges = tuple(itertools.combinations(tuple(sorted((first_node,second_node,third_node))), 2))\n",
    "        \n",
    "        # for nodes with min difference, check if they/their reverse already exist; if no, add them\n",
    "        difference = np.asarray([nodes[1]-nodes[0] for nodes in proposed_edges])\n",
    "        idx = np.where(difference == difference.min())[0]\n",
    "        for i in idx:\n",
    "            proposed_edge = proposed_edges[i]\n",
    "            # avoid duplicates; adds in reverse edges\n",
    "            if check_if_edge_exists(proposed_edge,edge_list): pass\n",
    "#                 if check_if_edge_exists(tuple(reversed(proposed_edge)),edge_list): pass\n",
    "#                 else: edge_list.append(tuple(reversed(proposed_edge)))\n",
    "            else: edge_list.append(proposed_edge)\n",
    "    return edge_list    "
   ]
  },
  {
   "cell_type": "code",
   "execution_count": 5,
   "metadata": {
    "collapsed": false,
    "scrolled": false
   },
   "outputs": [
    {
     "name": "stdout",
     "output_type": "stream",
     "text": [
      "Edge density: 50 \n",
      "Number of nodes: 100 \n",
      "Number of edges: 5000\n"
     ]
    }
   ],
   "source": [
    "edge_density = 50\n",
    "n = 10**2\n",
    "m = edge_density*n\n",
    "print('Edge density: %s \\nNumber of nodes: %s \\nNumber of edges: %s' %(edge_density,n,m))\n",
    "oder_test = ODER(n,m)"
   ]
  },
  {
   "cell_type": "code",
   "execution_count": 6,
   "metadata": {
    "collapsed": false,
    "scrolled": true
   },
   "outputs": [
    {
     "name": "stdout",
     "output_type": "stream",
     "text": [
      "Edge density: 50 \n",
      "Number of nodes: 25 \n",
      "Number of edges: 1250\n",
      "0\n",
      "125\n"
     ]
    },
    {
     "ename": "KeyboardInterrupt",
     "evalue": "",
     "output_type": "error",
     "traceback": [
      "\u001b[0;31m---------------------------------------------------------------------------\u001b[0m",
      "\u001b[0;31mKeyboardInterrupt\u001b[0m                         Traceback (most recent call last)",
      "\u001b[0;32m<ipython-input-6-5e27b2438034>\u001b[0m in \u001b[0;36m<module>\u001b[0;34m()\u001b[0m\n\u001b[1;32m      8\u001b[0m \u001b[0mm\u001b[0m \u001b[0;34m=\u001b[0m \u001b[0medge_density\u001b[0m\u001b[0;34m*\u001b[0m\u001b[0mn\u001b[0m\u001b[0;34m\u001b[0m\u001b[0m\n\u001b[1;32m      9\u001b[0m \u001b[0mprint\u001b[0m\u001b[0;34m(\u001b[0m\u001b[0;34m'Edge density: %s \\nNumber of nodes: %s \\nNumber of edges: %s'\u001b[0m \u001b[0;34m%\u001b[0m\u001b[0;34m(\u001b[0m\u001b[0medge_density\u001b[0m\u001b[0;34m,\u001b[0m\u001b[0mn\u001b[0m\u001b[0;34m,\u001b[0m\u001b[0mm\u001b[0m\u001b[0;34m)\u001b[0m\u001b[0;34m)\u001b[0m\u001b[0;34m\u001b[0m\u001b[0m\n\u001b[0;32m---> 10\u001b[0;31m \u001b[0mcoder_test\u001b[0m \u001b[0;34m=\u001b[0m \u001b[0mCODER\u001b[0m\u001b[0;34m(\u001b[0m\u001b[0mn\u001b[0m\u001b[0;34m,\u001b[0m\u001b[0mm\u001b[0m\u001b[0;34m)\u001b[0m\u001b[0;34m\u001b[0m\u001b[0m\n\u001b[0m",
      "\u001b[0;32m<ipython-input-4-5b602068cb32>\u001b[0m in \u001b[0;36mCODER\u001b[0;34m(n, m)\u001b[0m\n\u001b[1;32m     14\u001b[0m         \u001b[0;31m# for nodes with min difference, check if they/their reverse already exist; if no, add them\u001b[0m\u001b[0;34m\u001b[0m\u001b[0;34m\u001b[0m\u001b[0m\n\u001b[1;32m     15\u001b[0m         \u001b[0mdifference\u001b[0m \u001b[0;34m=\u001b[0m \u001b[0mnp\u001b[0m\u001b[0;34m.\u001b[0m\u001b[0masarray\u001b[0m\u001b[0;34m(\u001b[0m\u001b[0;34m[\u001b[0m\u001b[0mnodes\u001b[0m\u001b[0;34m[\u001b[0m\u001b[0;36m1\u001b[0m\u001b[0;34m]\u001b[0m\u001b[0;34m-\u001b[0m\u001b[0mnodes\u001b[0m\u001b[0;34m[\u001b[0m\u001b[0;36m0\u001b[0m\u001b[0;34m]\u001b[0m \u001b[0;32mfor\u001b[0m \u001b[0mnodes\u001b[0m \u001b[0;32min\u001b[0m \u001b[0mproposed_edges\u001b[0m\u001b[0;34m]\u001b[0m\u001b[0;34m)\u001b[0m\u001b[0;34m\u001b[0m\u001b[0m\n\u001b[0;32m---> 16\u001b[0;31m         \u001b[0midx\u001b[0m \u001b[0;34m=\u001b[0m \u001b[0mnp\u001b[0m\u001b[0;34m.\u001b[0m\u001b[0mwhere\u001b[0m\u001b[0;34m(\u001b[0m\u001b[0mdifference\u001b[0m \u001b[0;34m==\u001b[0m \u001b[0mdifference\u001b[0m\u001b[0;34m.\u001b[0m\u001b[0mmin\u001b[0m\u001b[0;34m(\u001b[0m\u001b[0;34m)\u001b[0m\u001b[0;34m)\u001b[0m\u001b[0;34m[\u001b[0m\u001b[0;36m0\u001b[0m\u001b[0;34m]\u001b[0m\u001b[0;34m\u001b[0m\u001b[0m\n\u001b[0m\u001b[1;32m     17\u001b[0m         \u001b[0;32mfor\u001b[0m \u001b[0mi\u001b[0m \u001b[0;32min\u001b[0m \u001b[0midx\u001b[0m\u001b[0;34m:\u001b[0m\u001b[0;34m\u001b[0m\u001b[0m\n\u001b[1;32m     18\u001b[0m             \u001b[0mproposed_edge\u001b[0m \u001b[0;34m=\u001b[0m \u001b[0mproposed_edges\u001b[0m\u001b[0;34m[\u001b[0m\u001b[0mi\u001b[0m\u001b[0;34m]\u001b[0m\u001b[0;34m\u001b[0m\u001b[0m\n",
      "\u001b[0;31mKeyboardInterrupt\u001b[0m: "
     ]
    }
   ],
   "source": [
    "'''\n",
    "C-ODER is much slower than ODER because it has to do more iterations\n",
    "Effectively, it's like having a lower MC probability\n",
    "'''\n",
    "\n",
    "edge_density = 50\n",
    "n = 5**2\n",
    "m = edge_density*n\n",
    "print('Edge density: %s \\nNumber of nodes: %s \\nNumber of edges: %s' %(edge_density,n,m))\n",
    "coder_test = CODER(n,m)"
   ]
  },
  {
   "cell_type": "code",
   "execution_count": 9,
   "metadata": {
    "collapsed": false
   },
   "outputs": [],
   "source": [
    "# Erdos Renyi from networkx as a point of comparison\n",
    "# the acceptance probabiliy here is equivalent to the edge density\n",
    "# Networkx generates a list of the n(n-1) possible edges\n",
    "n = 10**2\n",
    "p = 0.5\n",
    "er = nx.erdos_renyi_graph(n,p,directed=True)\n",
    "# print(er.nodes())\n",
    "# print(er.edges())"
   ]
  },
  {
   "cell_type": "markdown",
   "metadata": {},
   "source": [
    "### Problem: This is going to take a lot of compute power\n",
    "\n",
    "Running for $10^3$ nodes is arlready overwhelming my computational power. The paper runs on $10^6$ nodes, so I have a lot of optimization to do... "
   ]
  },
  {
   "cell_type": "markdown",
   "metadata": {},
   "source": [
    "## Visualization\n",
    "Yes, I can see if I can adapt networkx's draw capabilities.\n",
    "\n",
    "I can also just make a covariance-like binary imshow to show what is connected to what."
   ]
  },
  {
   "cell_type": "code",
   "execution_count": 10,
   "metadata": {
    "collapsed": false
   },
   "outputs": [
    {
     "data": {
      "image/png": "[encoded data removed]",
      "text/plain": [
       "<matplotlib.figure.Figure at 0x15098b4e48>"
      ]
     },
     "metadata": {},
     "output_type": "display_data"
    },
    {
     "name": "stdout",
     "output_type": "stream",
     "text": [
      "0.5\n"
     ]
    }
   ],
   "source": [
    "# for now, just do a quick \"is there an edge there\" proof of concept\n",
    "viz_array = np.zeros((n,n))\n",
    "for i in oder_test:\n",
    "    viz_array[i[0],i[1]]+=1\n",
    "\n",
    "plt.imshow(viz_array)\n",
    "plt.title('ODER process derived network')\n",
    "plt.ylabel('tail')\n",
    "plt.xlabel('head')\n",
    "plt.colorbar()\n",
    "plt.show()\n",
    "\n",
    "print(np.sum(viz_array)/n**2)"
   ]
  },
  {
   "cell_type": "code",
   "execution_count": null,
   "metadata": {
    "collapsed": false,
    "scrolled": true
   },
   "outputs": [],
   "source": [
    "# for now, just do a quick \"is there an edge there\" proof of concept\n",
    "viz_array = np.zeros((n,n))\n",
    "for i in coder_test:\n",
    "    viz_array[i[0],i[1]]+=1\n",
    "\n",
    "plt.imshow(viz_array)\n",
    "plt.title('C-ODER process derived network')\n",
    "plt.ylabel('tail')\n",
    "plt.xlabel('head')\n",
    "plt.colorbar()\n",
    "plt.show()\n",
    "\n",
    "print(np.sum(viz_array)/n**2)"
   ]
  },
  {
   "cell_type": "code",
   "execution_count": 11,
   "metadata": {
    "collapsed": false
   },
   "outputs": [
    {
     "data": {
      "image/png": "[encoded data removed]",
      "text/plain": [
       "<matplotlib.figure.Figure at 0x15098b4cc0>"
      ]
     },
     "metadata": {},
     "output_type": "display_data"
    },
    {
     "name": "stdout",
     "output_type": "stream",
     "text": [
      "0.4867\n"
     ]
    }
   ],
   "source": [
    "# for now, just do a quick \"is there an edge there\" proof of concept\n",
    "viz_array = np.zeros((n,n))\n",
    "for i in er.edges():\n",
    "    viz_array[i[0],i[1]]+=1\n",
    "\n",
    "plt.imshow(viz_array)\n",
    "plt.title('Erdos-Renyi stochastic directed network')\n",
    "plt.ylabel('tail')\n",
    "plt.xlabel('head')\n",
    "plt.colorbar()\n",
    "plt.show()\n",
    "\n",
    "print(np.sum(viz_array)/n**2)"
   ]
  },
  {
   "cell_type": "markdown",
   "metadata": {},
   "source": [
    "### Next up: Clustering algorithm implemented in paper\n",
    "\n",
    "SCC is different from a cluster. Need to detail that here.\n",
    "\n",
    "Implementation of Tarjan algorithm. Python source [here](https://github.com/bwesterb/py-tarjan).\n",
    "\n",
    "Pseudocode given in the wikipedia article [here](https://en.wikipedia.org/wiki/Tarjan%27s_strongly_connected_components_algorithm).\n",
    "\n",
    "Gives $O(E\\log{E})$ clustering performance when using the pseudocode in section 5."
   ]
  },
  {
   "cell_type": "code",
   "execution_count": null,
   "metadata": {
    "collapsed": true
   },
   "outputs": [],
   "source": [
    "# Implementation of clustering algorithm from the paper"
   ]
  },
  {
   "cell_type": "markdown",
   "metadata": {},
   "source": [
    "# Tarjan's algorithm\n",
    "Playing around with an implementation from here: http://www.geeksforgeeks.org/tarjan-algorithm-find-strongly-connected-components/\n",
    "\n",
    "This is honestly kinda like Hoshen Kopelman algorithm, but for networks. Good gif:\n",
    "\n",
    "![here](https://upload.wikimedia.org/wikipedia/commons/6/60/Tarjan%27s_Algorithm_Animation.gif)\n",
    "\n",
    "From Wikipedia:\n",
    "- A depth-first search begins from an arbitrary start node\n",
    "- subsequent depth-first searches are conducted on any nodes that have not yet been found\n",
    "- As usual with depth-first search, the search visits every node of the graph exactly once, declining to revisit any node that has already been visited\n",
    "- => the collection of search trees is a spanning forest of the graph\n",
    "\n",
    "While going through the nodes:\n",
    "- Nodes are placed on a stack in the order in which they are visited\n",
    "- A node remains on the stack after it has been visited if and only if there exists a path in the input graph from it to some node earlier on the stack\n",
    "- At the end of the call that visits v and its descendants, we know whether v itself has a path to any node earlier on the stack. \n",
    "    - If yes, the call returns, leaving v on the stack to preserve the invariant\n",
    "    - If no, then v must be the root of its strongly connected component, which consists of v together with any nodes later on the stack than v (such nodes all have paths back to v but not to any earlier node, because if they had paths to earlier nodes then v would also have paths to earlier nodes which is false)\n",
    "\n",
    "Book-keeping:\n",
    "- Each node v is assigned:\n",
    "    - a unique integer v.index, which numbers the nodes consecutively in the order in which they are discovered\n",
    "    - a value v.lowlink that represents (roughly speaking) the smallest index of any node known to be reachable from v, including v itself\n",
    "- Conditions:\n",
    "    - if v.lowlink < v.index, leave v on stack\n",
    "    - if v.lowlink == v.index, v must be removed as the root of a strongly connected component\n",
    "- Calculating: The value v.lowlink is computed during the depth-first search from v, as this finds the nodes that are reachable from v.\n",
    "\n",
    "Notes:\n",
    "- In the below, nodes are called \"vertices\"\n",
    "\n",
    "Questions:\n",
    "- What is the DFS transversal?\n",
    "\n",
    "Figure source: [here](https://ocw.mit.edu/courses/electrical-engineering-and-computer-science/6-042j-mathematics-for-computer-science-fall-2010/readings/MIT6_042JF10_chap06.pdf)\n",
    "\n",
    "![graphexample](figs/tail_head.png)"
   ]
  },
  {
   "cell_type": "code",
   "execution_count": 12,
   "metadata": {
    "collapsed": true
   },
   "outputs": [],
   "source": [
    "# source: http://www.logarithmic.net/pfh/blog/01208083168\n",
    "\n",
    "'''\n",
    "graph: dictionary with key (u) = tail node, and values (v) = head nodes\n",
    "\n",
    "'''\n",
    "\n",
    "def strongly_connected_components(graph):\n",
    "\n",
    "    index_counter = [0]\n",
    "    stack = []\n",
    "    lowlinks = {}\n",
    "    index = {}\n",
    "    result = []\n",
    "    \n",
    "    def strongconnect(node):\n",
    "        # set the depth index for this node to the smallest unused index\n",
    "        index[node] = index_counter[0]\n",
    "        lowlinks[node] = index_counter[0]\n",
    "        index_counter[0] += 1\n",
    "        stack.append(node)\n",
    "    \n",
    "        # Consider successors of `node`\n",
    "        try:\n",
    "            successors = graph[node]\n",
    "        except:\n",
    "            successors = []\n",
    "        for successor in successors:\n",
    "            if successor not in lowlinks:\n",
    "                # Successor has not yet been visited; recurse on it\n",
    "                strongconnect(successor)\n",
    "                lowlinks[node] = min(lowlinks[node],lowlinks[successor])\n",
    "            elif successor in stack:\n",
    "                # the successor is in the stack and hence in the current strongly connected component (SCC)\n",
    "                lowlinks[node] = min(lowlinks[node],index[successor])\n",
    "        \n",
    "        # If `node` is a root node, pop the stack and generate an SCC\n",
    "        if lowlinks[node] == index[node]:\n",
    "            connected_component = []\n",
    "            \n",
    "            while True:\n",
    "                successor = stack.pop()\n",
    "                connected_component.append(successor)\n",
    "                if successor == node: break\n",
    "            component = tuple(connected_component)\n",
    "            # storing the result\n",
    "            result.append(component)\n",
    "    \n",
    "    for node in graph:\n",
    "        if node not in lowlinks:\n",
    "            strongconnect(node)\n",
    "    \n",
    "    return result"
   ]
  },
  {
   "cell_type": "code",
   "execution_count": 26,
   "metadata": {
    "collapsed": false
   },
   "outputs": [
    {
     "name": "stdout",
     "output_type": "stream",
     "text": [
      "4867\n",
      "5\n",
      "[(5,), (3,), (4,), (6,), (2, 1, 0)]\n"
     ]
    }
   ],
   "source": [
    "scc = strongly_connected_components(g3.graph)\n",
    "# print(len(er.edges()))\n",
    "print(len(scc))\n",
    "print(scc)"
   ]
  },
  {
   "cell_type": "code",
   "execution_count": 28,
   "metadata": {
    "collapsed": false
   },
   "outputs": [
    {
     "name": "stdout",
     "output_type": "stream",
     "text": [
      "nSSC in third graph\n",
      "7\n",
      "defaultdict(<class 'list'>, {0: [1], 1: [2, 3, 4, 6], 2: [0], 3: [5], 4: [5]})\n",
      "5\n",
      "3\n",
      "4\n",
      "6\n",
      "2\n",
      "1\n",
      "0\n"
     ]
    }
   ],
   "source": [
    "# Python program to find strongly connected components in a given\n",
    "# directed graph using Tarjan's algorithm (single DFS)\n",
    "#Complexity : O(V+E)\n",
    "  \n",
    "from collections import defaultdict\n",
    "  \n",
    "#This class represents an directed graph \n",
    "# using adjacency list representation\n",
    "class Graph:\n",
    "  \n",
    "    def __init__(self,vertices):\n",
    "        #No. of vertices = nodes\n",
    "        self.V= vertices \n",
    "         \n",
    "        # default dictionary to store graph\n",
    "        self.graph = defaultdict(list) \n",
    "         \n",
    "        self.Time = 0\n",
    "  \n",
    "    # function to add an edge to graph\n",
    "    def addEdge(self,u,v):\n",
    "        # to key value u (tail), adds value v (head)\n",
    "        self.graph[u].append(v)\n",
    "         \n",
    "  \n",
    "    '''A recursive function that find finds and prints strongly connected\n",
    "    components using DFS traversal\n",
    "    u --> The vertex to be visited next\n",
    "    disc[] --> Stores discovery times of visited vertices\n",
    "    low[] -- >> earliest visited vertex (the vertex with minimum\n",
    "                discovery time) that can be reached from subtree\n",
    "                rooted with current vertex\n",
    "    st -- >> To store all the connected ancestors (could be part\n",
    "           of SCC)\n",
    "    stackMember[] --> bit/index array for faster check whether\n",
    "                  a node is in stack\n",
    "    '''\n",
    "    def SCCUtil(self,u, low, disc, stackMember, st):\n",
    "\n",
    "        # \"u\" is the vertex that the SCC method is searching for\n",
    " \n",
    "        # Initialize discovery time and low value\n",
    "        disc[u] = self.Time\n",
    "        low[u] = self.Time\n",
    "        # self.Time is a way of tracking the steps you've taken. that's why this is adding here\n",
    "        self.Time += 1\n",
    "        # saying that this vertex is now a number of the stack\n",
    "        stackMember[u] = True\n",
    "        # this actually tracks who is in what stack-- starting with u\n",
    "        st.append(u)\n",
    " \n",
    "        # Go through all vertices adjacent to this\n",
    "        # for all vertices stored as heads under the dictionary key u...\n",
    "        for v in self.graph[u]:\n",
    "             \n",
    "            # If v is not visited yet, then recur for it\n",
    "            if disc[v] == -1 :\n",
    "             \n",
    "                self.SCCUtil(v, low, disc, stackMember, st)\n",
    " \n",
    "                # Check if the subtree rooted with v has a connection to\n",
    "                # one of the ancestors of u\n",
    "                # Case 1 (per above discussion on Disc and Low value)\n",
    "                low[u] = min(low[u], low[v])\n",
    "                         \n",
    "            elif stackMember[v] == True: \n",
    " \n",
    "                '''Update low value of 'u' only if 'v' is still in stack\n",
    "                (i.e. it's a back edge, not cross edge).\n",
    "                Case 2 (per above discussion on Disc and Low value) '''\n",
    "                low[u] = min(low[u], disc[v])\n",
    " \n",
    "        # head node found, pop the stack and print an SCC\n",
    "        w = -1 #To store stack extracted vertices\n",
    "        if low[u] == disc[u]:\n",
    "            while w != u:\n",
    "                w = st.pop()\n",
    "                print(w)\n",
    "                stackMember[w] = False            \n",
    "     \n",
    " \n",
    "    #The function to do DFS traversal. \n",
    "    # It uses recursive SCCUtil()\n",
    "    def SCC(self):\n",
    "  \n",
    "        # Mark all the vertices as not visited \n",
    "        # and Initialize parent and visited, \n",
    "        # and ap(articulation point) arrays\n",
    "        # makes this into a lenght 7 array of -1\n",
    "        disc = [-1] * (self.V)\n",
    "        low = [-1] * (self.V)\n",
    "        stackMember = [False] * (self.V)\n",
    "        st =[]\n",
    "         \n",
    " \n",
    "        # Call the recursive helper function \n",
    "        # to find articulation points\n",
    "        # in DFS tree rooted with vertex 'i'\n",
    "        # for each vertex\n",
    "        for i in range(self.V):\n",
    "            # if the vertex has not been visited\n",
    "            if disc[i] == -1:\n",
    "                # run the SCCUtil for that vertex\n",
    "                self.SCCUtil(i, low, disc, stackMember, st)\n",
    "\n",
    "                \n",
    "g3 = Graph(7)\n",
    "# This is adding in edges very differently from how I'm approaching it\n",
    "g3.addEdge(0, 1)\n",
    "g3.addEdge(1, 2)\n",
    "g3.addEdge(2, 0)\n",
    "g3.addEdge(1, 3)\n",
    "g3.addEdge(1, 4)\n",
    "g3.addEdge(1, 6)\n",
    "g3.addEdge(3, 5)\n",
    "g3.addEdge(4, 5)\n",
    "print(\"nSSC in third graph\")\n",
    "print(g3.V)\n",
    "print(g3.graph)\n",
    "g3.SCC()\n",
    "\n",
    "#This code is contributed by Neelam Yadav"
   ]
  },
  {
   "cell_type": "markdown",
   "metadata": {},
   "source": [
    "## Playing around with networkx capabilities\n",
    "\n",
    "So, looks like this is not so straightforward.\n",
    "\n",
    "Networkx works from different graph classes, e.g. [here](https://github.com/networkx/networkx/blob/a660d5728b3b3463b08c03ab8138f62468487c71/networkx/classes/digraph.py).\n",
    "\n",
    "Class documentation is here: https://docs.python.org/3/tutorial/classes.html\n",
    "\n",
    "Read through this: http://www.souravsengupta.com/cds2015/python/LPTHW.pdf\n",
    "\n",
    "Unit tests: http://docs.python-guide.org/en/latest/writing/tests/"
   ]
  },
  {
   "cell_type": "code",
   "execution_count": null,
   "metadata": {
    "collapsed": true
   },
   "outputs": [],
   "source": [
    "# Trying to use networkx\n",
    "'''\n",
    "n: number of nodes\n",
    "p: probability of an edge being accepted\n",
    "'''\n",
    "\n",
    "def gnp_random_graph(n, p):\n",
    "    G = nx.DiGraph()\n",
    "    G.add_nodes_from(range(n))\n",
    "    if p <= 0:\n",
    "        return G\n",
    "    if p >= 1:\n",
    "        return complete_graph(n, create_using=G)\n",
    "\n",
    "    # Itertools makes all possible edge permutations between nodes-- so size of edges is n(n-1)-- I think\n",
    "    edges = list(itertools.permutations(range(n), 2))\n",
    "\n",
    "    # Here is where I need to add competition/ \n",
    "    for e in edges:\n",
    "        if random.random()< p:\n",
    "            G.add_edge(e)\n",
    "    return G"
   ]
  },
  {
   "cell_type": "code",
   "execution_count": null,
   "metadata": {
    "collapsed": false
   },
   "outputs": [],
   "source": [
    "er = nx.erdos_renyi_graph(10,.5,directed=True)\n",
    "print(er.nodes())\n",
    "print(er.edges())"
   ]
  },
  {
   "cell_type": "code",
   "execution_count": null,
   "metadata": {
    "collapsed": false
   },
   "outputs": [],
   "source": [
    "# ER example here (done with networkx)\n",
    "# Based on this, will take about 500 seconds to make a graph with 10e6 nodes\n",
    "# Can definitely parallelize this with map/pool!\n",
    "# Reference: http://chriskiehl.com/article/parallelism-in-one-line/ < this is python 2.7\n",
    "# Good reference on python 3: https://www.ploggingdev.com/2017/01/multiprocessing-and-multithreading-in-python-3/\n",
    "\n",
    "n = [5000]\n",
    "timed = []\n",
    "for N in n:\n",
    "    start = time.time()\n",
    "    gnp_random_graph(int(N),0.5)\n",
    "    timed.append(time.time()-start)\n",
    "    start = time.time()\n",
    "#     er = nx.erdos_renyi_graph(int(N),.5)\n",
    "    er = nx.erdos_renyi_graph(int(N),.5)\n",
    "    timed.append(time.time()-start)\n",
    "    \n",
    "print(timed)\n",
    "    \n",
    "# plt.scatter(n,timed)\n",
    "# plt.subplot(121)\n",
    "# nx.draw(er, with_labels=True, font_weight='bold')\n",
    "# plt.subplot(122)\n",
    "# nx.draw_shell(er, with_labels=True, font_weight='bold')"
   ]
  },
  {
   "cell_type": "code",
   "execution_count": null,
   "metadata": {
    "collapsed": false
   },
   "outputs": [],
   "source": [
    "# DER example here\n",
    "er = nx.erdos_renyi_graph(10,.5,directed=True)\n",
    "plt.subplot(121)\n",
    "nx.draw(er, with_labels=True, font_weight='bold')\n",
    "plt.subplot(122)\n",
    "nx.draw_shell(er, with_labels=True, font_weight='bold')"
   ]
  },
  {
   "cell_type": "markdown",
   "metadata": {},
   "source": [
    "### Model 1: Ordered, Directed Erdos-Renyi (ODER)\n",
    "- Generalization of the directed ER model to ordered graph\n",
    "- Form two large components, which explosively merge (discontinuous jump in the size of the largest strongly connected component)\n",
    "\n",
    "Ordered, directed graphs can be made using the OrderedDiGraph class, source [here](https://github.com/networkx/networkx/blob/386b71a7af6c4898331f62987d8ced3f5621b680/networkx/classes/ordered.py).\n",
    "\n",
    "From the python `collections` documentation [here](https://docs.python.org/3/library/collections.html#collections.OrderedDict): \"an OrderedDict is a dict that remembers the order that keys were first inserted. If a new entry overwrites an existing entry, the original insertion position is left unchanged. Deleting an entry and reinserting it will move it to the end.\""
   ]
  },
  {
   "cell_type": "code",
   "execution_count": null,
   "metadata": {
    "collapsed": true
   },
   "outputs": [],
   "source": [
    "# ODER example here"
   ]
  },
  {
   "cell_type": "markdown",
   "metadata": {},
   "source": [
    "### Model 2: Competitive ODER\n",
    "- Adds competition: preference for connecting nodes of similar rank\n",
    "- See similar discontinuous jump in cluster size, but \"more explosive\"\n",
    "- Get an effective phase separation of the two large components: one containing the lower-ranked users, one containing the higher-ranked users\n",
    "- TAKEAWAY: Some bias towards grouping similar-ranked nodes leads to formation of two distinct groups of nodes (classes) with little flow of information between the classes"
   ]
  },
  {
   "cell_type": "code",
   "execution_count": null,
   "metadata": {
    "collapsed": true
   },
   "outputs": [],
   "source": [
    "# CODER example here"
   ]
  },
  {
   "cell_type": "markdown",
   "metadata": {},
   "source": [
    "# 01 - Clustering implementations\n",
    "\n",
    "### Classical non-directed NZ clustering algorithm"
   ]
  },
  {
   "cell_type": "code",
   "execution_count": null,
   "metadata": {
    "collapsed": true
   },
   "outputs": [],
   "source": [
    "# Newmann-Ziff implementation on ER"
   ]
  },
  {
   "cell_type": "markdown",
   "metadata": {},
   "source": [
    "# 02 - Thermodynamics"
   ]
  },
  {
   "cell_type": "code",
   "execution_count": null,
   "metadata": {
    "collapsed": true
   },
   "outputs": [],
   "source": [
    "# Plot SCC (\"strongly connected component\") versus edge density, per paper"
   ]
  },
  {
   "cell_type": "code",
   "execution_count": null,
   "metadata": {
    "collapsed": true
   },
   "outputs": [],
   "source": [
    "# Find critical exponents-- they actually don't have them"
   ]
  },
  {
   "cell_type": "markdown",
   "metadata": {},
   "source": [
    "# 03 - Something else interesting?\n",
    "- Can we say something else interesting from this work that the authors might not have thought about?\n",
    "- What could have made this paper more interesting?\n",
    "- How innovative actually is this?"
   ]
  },
  {
   "cell_type": "markdown",
   "metadata": {
    "collapsed": true
   },
   "source": [
    "# 04 - Reference\n",
    "**Stacks**: In computer science, a stack is an abstract data type that serves as a collection of elements, with two principal operations:\n",
    "- push, which adds an element to the collection, and\n",
    "- pop, which removes the most recently added element that was not yet removed.\n",
    "The order in which elements come off a stack gives rise to its alternative name, LIFO (last in, first out).\n",
    "![stacks_vizualization](https://upload.wikimedia.org/wikipedia/commons/b/b4/Lifo_stack.png)\n"
   ]
  },
  {
   "cell_type": "code",
   "execution_count": null,
   "metadata": {
    "collapsed": true
   },
   "outputs": [],
   "source": []
  }
 ],
 "metadata": {
  "kernelspec": {
   "display_name": "Python 3",
   "language": "python",
   "name": "python3"
  },
  "language_info": {
   "codemirror_mode": {
    "name": "ipython",
    "version": 3
   },
   "file_extension": ".py",
   "mimetype": "text/x-python",
   "name": "python",
   "nbconvert_exporter": "python",
   "pygments_lexer": "ipython3",
   "version": "3.5.3"
  }
 },
 "nbformat": 4,
 "nbformat_minor": 0
}
