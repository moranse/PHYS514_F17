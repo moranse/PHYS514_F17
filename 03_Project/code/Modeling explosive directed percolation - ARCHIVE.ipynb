{
 "cells": [
  {
   "cell_type": "markdown",
   "metadata": {},
   "source": [
    "## Time spent\n",
    "- 12/7: 1:45, 1:00, 6:00"
   ]
  },
  {
   "cell_type": "markdown",
   "metadata": {},
   "source": [
    "## Outline\n",
    "\n",
    "- Directed Graph\n",
    "- Directed Graph: Ordered\n",
    "- Directed Graph: Ordered, Competitive\n",
    "\n",
    "Methods\n",
    "- Build nodes\n",
    "- Add edges according to rules\n",
    "- Calculate component sizes"
   ]
  },
  {
   "cell_type": "markdown",
   "metadata": {},
   "source": [
    "# To-do\n",
    "- Rewrite tarjan algorithms to work with tuples instead of defaultdicts\n",
    "- Calculate component sizes of a graph with Tarjan algorithm\n",
    "- Plot of largest SCC\n",
    "\n",
    "Go though C++ tutorials linked to in Glotzdocs.\n",
    "\n",
    "Speed up options:\n",
    "- Multiprocessing and pool\n",
    "- Cython"
   ]
  },
  {
   "cell_type": "code",
   "execution_count": 1,
   "metadata": {
    "collapsed": false,
    "scrolled": false
   },
   "outputs": [],
   "source": [
    "# Import needed packages\n",
    "import time\n",
    "import itertools\n",
    "import numpy as np\n",
    "import pandas as pd\n",
    "import scipy\n",
    "import random\n",
    "import matplotlib.pyplot as plt\n",
    "%matplotlib inline"
   ]
  },
  {
   "cell_type": "code",
   "execution_count": 2,
   "metadata": {
    "collapsed": false
   },
   "outputs": [],
   "source": [
    "# not yet installed\n",
    "import networkx as nx\n",
    "# import percolate"
   ]
  },
  {
   "cell_type": "code",
   "execution_count": 3,
   "metadata": {
    "collapsed": true
   },
   "outputs": [],
   "source": [
    "# For cleanliness, ignore warnings after first appearance. \n",
    "import warnings\n",
    "warnings.filterwarnings('ignore')\n",
    "# warnings.filterwarnings(action='once')"
   ]
  },
  {
   "cell_type": "markdown",
   "metadata": {},
   "source": [
    "# 00 - Percolation implementations\n",
    "### Network science background\n",
    "- Erdos-Renyi graphs (random, non-directed graphs): [link here](https://en.wikipedia.org/wiki/Erd%C5%91s%E2%80%93R%C3%A9nyi_model)\n",
    "- Directed Erdos-Renyi graphs, DER (directed edges)\n",
    "- Paper covers two models:\n",
    "  - Ordered, directed Erdos-Renyis (ODER)\n",
    "  - Competitive ODER\n",
    "  \n",
    "I'm currently using Networkx to play around with these. In the generator source code [here](https://github.com/networkx/networkx/blob/1174e443263f8a60dc82083ad1c563a4c25e5582/networkx/generators/random_graphs.py), `erdos_renyi_graph` is just an alias for `gnp_random_graph`."
   ]
  },
  {
   "cell_type": "markdown",
   "metadata": {},
   "source": [
    "Algorithm for ODER:\n",
    "- begin with a set of $n$ isolated nodes on which we have placed an arbitrarry ordering from 1 to $n$\n",
    "- at each step, add a single directed edge between two nodes selected uniformly at random\n",
    "    - the head of the directed edge = node higher in ordering\n",
    "    - ...UNLESS the edge already exists in the graph\n",
    "- repeat steps until $m$ edges have been added (edges and reverse edges count as separate edges)"
   ]
  },
  {
   "cell_type": "code",
   "execution_count": 4,
   "metadata": {
    "collapsed": true
   },
   "outputs": [],
   "source": [
    "def check_if_edge_exists(proposed,edges):\n",
    "    for item in edges:\n",
    "        if proposed==item: return True\n",
    "        else: pass"
   ]
  },
  {
   "cell_type": "code",
   "execution_count": 5,
   "metadata": {
    "collapsed": false
   },
   "outputs": [],
   "source": [
    "# ODER implementation - tuples\n",
    "def ODER(n,m):\n",
    "    # set up list nodes with ranked order\n",
    "    n_list = np.linspace(0,n-1,n).astype(int)\n",
    "\n",
    "    # add m edges to the plot\n",
    "    edge_list = []\n",
    "    while len(edge_list)<m:\n",
    "        first_node, second_node = random.sample(list(n_list),2)\n",
    "        proposed_edge = tuple(sorted((first_node,second_node)))\n",
    "        if check_if_edge_exists(proposed_edge,edge_list):\n",
    "            if check_if_edge_exists(tuple(reversed(proposed_edge)),edge_list): pass\n",
    "            else: edge_list.append(tuple(reversed(proposed_edge)))\n",
    "        else: edge_list.append(proposed_edge)\n",
    "    return edge_list\n",
    "\n",
    "# C-ODER implementation - tuples\n",
    "def CODER(n,m):\n",
    "    # set up list nodes with ranked order\n",
    "    n_list = np.linspace(0,n-1,n).astype(int)\n",
    "    \n",
    "    # add m edges to the plot\n",
    "    edge_list = []\n",
    "    while len(edge_list)<m:\n",
    "        # samples without replacement (no duplicates)\n",
    "        first_node, second_node, third_node = random.sample(list(n_list),3)\n",
    "        proposed_edges = tuple(itertools.combinations(tuple(sorted((first_node,second_node,third_node))), 2))\n",
    "        \n",
    "        # for nodes with min difference, check if they/their reverse already exist; if no, add them\n",
    "        difference = np.asarray([nodes[1]-nodes[0] for nodes in proposed_edges])\n",
    "        idx = np.where(difference == difference.min())[0]\n",
    "        for i in idx:\n",
    "            proposed_edge = proposed_edges[i]\n",
    "            # avoid duplicates; adds in reverse edges\n",
    "            if check_if_edge_exists(proposed_edge,edge_list):\n",
    "                if check_if_edge_exists(tuple(reversed(proposed_edge)),edge_list): pass\n",
    "                else: edge_list.append(tuple(reversed(proposed_edge)))\n",
    "            else: edge_list.append(proposed_edge)\n",
    "    return edge_list    "
   ]
  },
  {
   "cell_type": "markdown",
   "metadata": {},
   "source": [
    "Important! Should have an error if you ask for more edges than is possible to make..."
   ]
  },
  {
   "cell_type": "code",
   "execution_count": 6,
   "metadata": {
    "collapsed": false,
    "scrolled": false
   },
   "outputs": [
    {
     "name": "stdout",
     "output_type": "stream",
     "text": [
      "Edge density: 3 \n",
      "Number of nodes: 200 \n",
      "Number of edges: 600\n"
     ]
    }
   ],
   "source": [
    "edge_density = 3\n",
    "n = 200\n",
    "m = edge_density*n\n",
    "print('Edge density: %s \\nNumber of nodes: %s \\nNumber of edges: %s' %(edge_density,n,m))\n",
    "oder_test = ODER(n,m)"
   ]
  },
  {
   "cell_type": "code",
   "execution_count": 21,
   "metadata": {
    "collapsed": false,
    "scrolled": true
   },
   "outputs": [
    {
     "name": "stdout",
     "output_type": "stream",
     "text": [
      "Edge density: 50 \n",
      "Number of nodes: 100 \n",
      "Number of edges: 5000\n"
     ]
    }
   ],
   "source": [
    "'''\n",
    "C-ODER is much slower than ODER because it has to do more iterations\n",
    "Effectively, it's like having a lower MC probability\n",
    "'''\n",
    "\n",
    "edge_density = 50\n",
    "n = 10**2\n",
    "m = edge_density*n\n",
    "print('Edge density: %s \\nNumber of nodes: %s \\nNumber of edges: %s' %(edge_density,n,m))\n",
    "coder_test = CODER(n,m)"
   ]
  },
  {
   "cell_type": "code",
   "execution_count": 84,
   "metadata": {
    "collapsed": false
   },
   "outputs": [],
   "source": [
    "# Erdos Renyi from networkx as a point of comparison\n",
    "# the acceptance probabiliy here is equivalent to the edge density\n",
    "# Networkx generates a list of the n(n-1) possible edges\n",
    "n = 10**2\n",
    "p = 0.3\n",
    "er = nx.erdos_renyi_graph(n,p,directed=True)\n",
    "# print(er.nodes())\n",
    "# print(er.edges())"
   ]
  },
  {
   "cell_type": "markdown",
   "metadata": {},
   "source": [
    "### Problem: This is going to take a lot of compute power\n",
    "\n",
    "Running for $10^3$ nodes is arlready overwhelming my computational power. The paper runs on $10^6$ nodes, so I have a lot of optimization to do... "
   ]
  },
  {
   "cell_type": "markdown",
   "metadata": {},
   "source": [
    "## Visualization\n",
    "Yes, I can see if I can adapt networkx's draw capabilities.\n",
    "\n",
    "I can also just make a covariance-like binary imshow to show what is connected to what."
   ]
  },
  {
   "cell_type": "code",
   "execution_count": 82,
   "metadata": {
    "collapsed": true
   },
   "outputs": [],
   "source": [
    "def edges_to_viz(edges,n):\n",
    "    viz_array = np.zeros((n,n))\n",
    "    for i in edges:\n",
    "        viz_array[i[0],i[1]]+=1\n",
    "    return viz_array"
   ]
  },
  {
   "cell_type": "code",
   "execution_count": 89,
   "metadata": {
    "collapsed": false
   },
   "outputs": [
    {
     "data": {
      "image/png": "[encoded data removed]",
      "text/plain": [
       "<matplotlib.figure.Figure at 0x1516b9e240>"
      ]
     },
     "metadata": {},
     "output_type": "display_data"
    },
    {
     "name": "stdout",
     "output_type": "stream",
     "text": [
      "0.3006\n"
     ]
    }
   ],
   "source": [
    "# for now, just do a quick \"is there an edge there\" proof of concept\n",
    "        \n",
    "er_viz = edges_to_viz(er.edges(),n)\n",
    "\n",
    "plt.imshow(er_viz,cmap='binary')\n",
    "plt.title('Erdos-Renyi stochastic directed network')\n",
    "plt.ylabel('tail')\n",
    "plt.xlabel('head')\n",
    "plt.colorbar()\n",
    "plt.show()\n",
    "\n",
    "print(np.sum(er_viz)/n**2)"
   ]
  },
  {
   "cell_type": "code",
   "execution_count": null,
   "metadata": {
    "collapsed": true
   },
   "outputs": [],
   "source": [
    "# Implementation of clustering algorithm from the paper"
   ]
  },
  {
   "cell_type": "code",
   "execution_count": 9,
   "metadata": {
    "collapsed": true
   },
   "outputs": [],
   "source": [
    "from collections import defaultdict\n",
    "\n",
    "def edges_to_children(edges):\n",
    "    children = defaultdict(list)\n",
    "    for u,v in edges:\n",
    "        children[u].append(v)\n",
    "    return children"
   ]
  },
  {
   "cell_type": "markdown",
   "metadata": {},
   "source": [
    "# Tarjan's algorithm\n",
    "Playing around with an implementation from here: http://www.geeksforgeeks.org/tarjan-algorithm-find-strongly-connected-components/\n",
    "\n",
    "This is honestly kinda like Hoshen Kopelman algorithm, but for networks. Good gif:\n",
    "\n",
    "![here](https://upload.wikimedia.org/wikipedia/commons/6/60/Tarjan%27s_Algorithm_Animation.gif)\n",
    "\n",
    "From Wikipedia:\n",
    "- A depth-first search begins from an arbitrary start node\n",
    "- subsequent depth-first searches are conducted on any nodes that have not yet been found\n",
    "- As usual with depth-first search, the search visits every node of the graph exactly once, declining to revisit any node that has already been visited\n",
    "- => the collection of search trees is a spanning forest of the graph\n",
    "\n",
    "While going through the nodes:\n",
    "- Nodes are placed on a stack in the order in which they are visited\n",
    "- A node remains on the stack after it has been visited if and only if there exists a path in the input graph from it to some node earlier on the stack\n",
    "- At the end of the call that visits v and its descendants, we know whether v itself has a path to any node earlier on the stack. \n",
    "    - If yes, the call returns, leaving v on the stack to preserve the invariant\n",
    "    - If no, then v must be the root of its strongly connected component, which consists of v together with any nodes later on the stack than v (such nodes all have paths back to v but not to any earlier node, because if they had paths to earlier nodes then v would also have paths to earlier nodes which is false)\n",
    "\n",
    "Book-keeping:\n",
    "- Each node v is assigned:\n",
    "    - a unique integer v.index, which numbers the nodes consecutively in the order in which they are discovered\n",
    "    - a value v.lowlink that represents (roughly speaking) the smallest index of any node known to be reachable from v, including v itself\n",
    "- Conditions:\n",
    "    - if v.lowlink < v.index, leave v on stack\n",
    "    - if v.lowlink == v.index, v must be removed as the root of a strongly connected component\n",
    "- Calculating: The value v.lowlink is computed during the depth-first search from v, as this finds the nodes that are reachable from v.\n",
    "\n",
    "Notes:\n",
    "- In the below, nodes are called \"vertices\"\n",
    "\n",
    "SCC is different from a cluster. Need to detail that here.\n",
    "\n",
    "\n",
    "Pseudocode given in the wikipedia article [here](https://en.wikipedia.org/wiki/Tarjan%27s_strongly_connected_components_algorithm).\n",
    "\n",
    "Figure source: [here](https://ocw.mit.edu/courses/electrical-engineering-and-computer-science/6-042j-mathematics-for-computer-science-fall-2010/readings/MIT6_042JF10_chap06.pdf)\n",
    "\n",
    "![graphexample](figs/tail_head.png)"
   ]
  },
  {
   "cell_type": "code",
   "execution_count": 13,
   "metadata": {
    "collapsed": true
   },
   "outputs": [],
   "source": [
    "# definitely think these would be easier as a class method\n",
    "# reference: http://www.logarithmic.net/pfh/blog/01208083168\n",
    "\n",
    "def largest_SCC(connected_components):\n",
    "    C = []\n",
    "    for members in connected_components:\n",
    "        C.append(len(members))\n",
    "    return max(C)\n",
    "\n",
    "def tarjan(neighbors):  \n",
    "    index_counter = [0]\n",
    "    index = {}\n",
    "    lowlink = {}\n",
    "    stack = []\n",
    "    \n",
    "    result = []\n",
    "    \n",
    "    # v is node-- wait, but shouldn't it actually be u...?\n",
    "    def calc_component(node):\n",
    "        # v.index, v.lowlink\n",
    "        index[node] = index_counter[0]\n",
    "        lowlink[node] = index_counter[0]\n",
    "        index_counter[0] += 1\n",
    "        stack.append(node)\n",
    "        \n",
    "        # find the children\n",
    "        try:\n",
    "            children = neighbors[node]\n",
    "            print(children)\n",
    "        except:\n",
    "            children = []\n",
    "        for child in children:\n",
    "            # if the child hasn't been visited, run this on it\n",
    "            if child not in lowlink:\n",
    "                calc_component(child)\n",
    "                lowlink[node] = min(lowlink[node],lowlink[child])\n",
    "            # if the child is in the stack, that means they're also in the SCC\n",
    "            elif child in stack:\n",
    "                lowlink[node] = min(lowlink[node],index[child])\n",
    "                \n",
    "        if lowlink[node]==index[node]:\n",
    "            connected_component = []\n",
    "            while True:\n",
    "                successor = stack.pop()\n",
    "                connected_component.append(successor)\n",
    "                if successor == node: break\n",
    "            component = tuple(connected_component)\n",
    "            # storing the result\n",
    "            result.append(component)\n",
    "#     print(neighbors)\n",
    "    for node in list(neighbors):\n",
    "        if node not in lowlink:\n",
    "            calc_component(node)\n",
    "    \n",
    "    return result"
   ]
  },
  {
   "cell_type": "code",
   "execution_count": 14,
   "metadata": {
    "collapsed": false
   },
   "outputs": [],
   "source": [
    "oder_dict = edges_to_children(oder_test)\n",
    "# er_dict = edges_to_children(er.edges())\n",
    "# print(er_dict)"
   ]
  },
  {
   "cell_type": "code",
   "execution_count": 15,
   "metadata": {
    "collapsed": false
   },
   "outputs": [
    {
     "name": "stdout",
     "output_type": "stream",
     "text": [
      "[88, 9, 168, 8, 99, 108, 199, 128, 60]\n",
      "[100, 197, 132, 148, 105, 199, 142]\n",
      "[145, 151, 159, 83]\n",
      "[185, 182, 146, 81]\n",
      "[]\n",
      "[]\n",
      "[164, 172, 159]\n",
      "[172, 180, 138, 196]\n",
      "[]\n",
      "[183]\n",
      "[]\n",
      "[164]\n",
      "[]\n",
      "[183]\n",
      "[145, 163, 115, 96]\n",
      "[]\n",
      "[149, 129]\n",
      "[187]\n",
      "[]\n",
      "[165]\n",
      "[173, 181]\n",
      "[]\n",
      "[]\n",
      "[144]\n",
      "[196]\n",
      "[166]\n",
      "[182]\n",
      "[171, 152, 146, 100, 89]\n",
      "[184]\n",
      "[]\n",
      "[184, 172, 197]\n",
      "[]\n",
      "[177, 172]\n",
      "[189, 180]\n",
      "[190]\n",
      "[]\n",
      "[169, 195, 158]\n",
      "[]\n",
      "[140]\n",
      "[195, 161, 184, 187]\n",
      "[184, 190]\n",
      "[163]\n",
      "[161]\n",
      "[162, 154, 120, 174]\n",
      "[]\n",
      "[176]\n",
      "[]\n",
      "[176, 182]\n",
      "[]\n",
      "[]\n",
      "[150, 158, 149, 191]\n",
      "[185, 176, 167, 164]\n",
      "[]\n",
      "[198]\n",
      "[]\n",
      "[106, 135, 133, 45, 145, 69]\n",
      "[192, 191, 161, 156, 180]\n",
      "[]\n",
      "[179]\n",
      "[193]\n",
      "[199]\n",
      "[154, 169, 159]\n",
      "[168]\n",
      "[]\n",
      "[73, 47, 130, 66, 122, 195, 165, 154]\n",
      "[115, 111, 149, 147]\n",
      "[128, 150, 120]\n",
      "[]\n",
      "[149, 197]\n",
      "[166, 143, 168, 86]\n",
      "[181]\n",
      "[105, 153, 140, 192, 99, 180]\n",
      "[191, 164, 188]\n",
      "[191]\n",
      "[111, 174, 189, 158, 169, 66, 193]\n",
      "[137, 170, 189, 104, 99, 97, 117, 130]\n",
      "[184]\n",
      "[]\n",
      "[116]\n",
      "[185, 163, 198]\n",
      "[173, 129, 124, 143, 98]\n",
      "[184]\n",
      "[184]\n",
      "[142, 197, 124, 134]\n",
      "[198, 145, 180]\n",
      "[156, 135, 150]\n",
      "[126]\n",
      "[151, 161, 188]\n",
      "[159, 138, 133]\n",
      "[136, 172, 36, 85]\n",
      "[149, 151]\n",
      "[58]\n",
      "[164, 166]\n",
      "[122, 116, 164, 127, 173, 138, 96, 111]\n",
      "[]\n",
      "[158, 165]\n",
      "[166, 106, 80]\n",
      "[100, 175, 99, 96]\n",
      "[197, 194, 196, 177]\n",
      "[]\n",
      "[15, 28, 77, 55, 72]\n",
      "[153, 155, 152, 104, 163, 96]\n",
      "[161, 102, 157, 166]\n",
      "[155, 132, 177, 119]\n",
      "[168, 150]\n",
      "[167]\n",
      "[116, 110, 106]\n",
      "[]\n",
      "[129, 159]\n",
      "[164, 183, 69, 64]\n",
      "[71, 171, 119, 114]\n",
      "[73, 143, 156]\n",
      "[127, 138, 134, 152]\n",
      "[155]\n",
      "[150, 79, 5, 80, 189, 13, 75]\n",
      "[150, 85, 178, 99]\n",
      "[]\n",
      "[50, 188, 63, 53, 198, 177, 89, 27, 49]\n",
      "[175, 154, 159, 182, 120]\n",
      "[]\n",
      "[195, 63, 138, 58, 196, 155]\n",
      "[104, 72, 69, 138]\n",
      "[95, 178, 133, 138]\n",
      "[108]\n",
      "[156, 122, 26]\n",
      "[175, 132, 128, 172, 76, 108, 68]\n",
      "[125, 147, 91, 158, 186, 104, 93]\n",
      "[32, 187]\n",
      "[35, 125, 69, 54, 94, 124, 194, 44, 79, 182, 192]\n",
      "[125, 96, 42, 144, 183, 48]\n",
      "[173, 180, 188, 107]\n",
      "[118, 157]\n",
      "[184, 169]\n",
      "[117, 129, 121, 49, 113, 62]\n",
      "[145, 195, 125, 134]\n",
      "[184, 137, 145, 180, 196]\n",
      "[179, 90, 79]\n",
      "[170, 110]\n",
      "[199, 182, 179, 20, 166]\n",
      "[23, 54, 161, 103, 107, 126]\n",
      "[97, 153, 157]\n",
      "[186, 150]\n",
      "[194]\n",
      "[198, 156]\n",
      "[60, 75, 188, 193, 77]\n",
      "[81, 173, 147]\n",
      "[133, 102, 144, 143, 98]\n",
      "[190]\n",
      "[191, 115, 139, 86, 106, 146, 100, 79, 108]\n",
      "[197, 147, 180, 148, 196]\n",
      "[53, 90, 152, 193, 151, 57, 26]\n",
      "[165, 136, 89, 140, 67]\n",
      "[199, 98, 133, 69]\n",
      "[52, 171, 176, 141, 197, 142, 147, 59]\n",
      "[97]\n",
      "[163]\n",
      "[123, 61, 182, 110]\n",
      "[164, 147, 186]\n",
      "[110, 156, 157, 99, 183, 144]\n",
      "[140, 165]\n",
      "[192, 149, 71]\n",
      "[132, 21, 103, 142, 89, 122, 91, 104, 183, 125, 151]\n",
      "[65, 115, 45]\n",
      "[]\n",
      "[134, 133, 99, 168]\n",
      "[84]\n",
      "[179, 195, 115, 106, 128, 198, 169]\n",
      "[28, 136, 109]\n",
      "[145, 172, 124]\n",
      "[65, 68, 78]\n",
      "[89]\n",
      "[20, 66, 48, 108, 21, 189, 118]\n",
      "[88, 195, 119]\n",
      "[114, 134, 59, 121, 53]\n",
      "[190, 180, 83]\n",
      "[152, 54, 134]\n",
      "[63, 75, 68, 98, 149, 48]\n",
      "[187, 123, 55, 192, 125, 82, 164]\n",
      "[111]\n",
      "[85, 76, 57]\n",
      "[46, 65, 163, 171, 178]\n",
      "[163, 125, 67, 184, 98, 134, 88]\n",
      "[96, 70, 114]\n",
      "[191, 82, 124, 152]\n",
      "[89, 172, 72, 83, 177]\n",
      "[73, 79, 70, 174]\n",
      "[73, 87, 110]\n",
      "[149, 171, 190]\n",
      "[122, 44, 43, 163, 160, 72, 166, 178]\n",
      "[131, 73, 183]\n",
      "[145]\n",
      "[]\n",
      "[171, 189, 151, 127, 75]\n",
      "[69, 198, 192, 173]\n",
      "[172, 171, 174, 57]\n",
      "[181, 112, 187, 83, 140]\n",
      "[199, 133, 177]\n",
      "[149]\n",
      "[140, 174, 165, 122, 180, 197]\n",
      "[(185,), (182,), (172,), (183,), (180,), (196,), (138, 164), (159,), (146,), (163,), (187,), (149,), (173,), (181,), (165,), (129,), (115,), (144,), (96,), (81, 145), (166,), (151,), (184,), (171,), (197,), (152,), (190,), (189,), (177,), (89,), (83, 100), (169,), (161,), (140, 195), (158,), (132,), (148,), (162,), (176,), (154,), (120,), (174,), (105,), (199,), (167,), (150,), (198,), (191,), (142,), (88,), (192,), (193,), (179,), (156,), (106,), (135,), (168,), (133,), (128,), (111,), (147,), (73,), (143,), (188,), (153,), (137,), (170,), (116,), (104,), (124,), (98,), (97,), (134,), (117,), (130,), (66, 99), (86,), (47,), (126,), (122,), (45,), (69,), (9,), (136,), (58,), (36,), (127,), (85,), (8,), (108,), (194,), (175,), (80,), (60,), (0,), (119,), (157,), (102, 155), (15,), (110,), (28,), (77,), (71,), (114,), (64,), (55,), (72,), (1,), (178,), (79,), (50,), (63,), (53,), (27,), (95,), (49,), (5,), (118,), (107,), (42,), (113,), (90,), (62,), (23,), (186,), (103,), (20, 54), (94,), (75,), (44,), (121, 48, 35, 32, 125), (91,), (93,), (76,), (139,), (68,), (26,), (13,), (2,), (67,), (57,), (3,), (52,), (141,), (123,), (61,), (59,), (4,), (6,), (10,), (65,), (21,), (11,), (12,), (84,), (14,), (109,), (16,), (78,), (17,), (18,), (19,), (22,), (24,), (25,), (29,), (82,), (30,), (31,), (46,), (33,), (70,), (34,), (37,), (38,), (87,), (39,), (131,), (43,), (160,), (40,), (41,), (51,), (56,), (112,), (74,), (92,), (101,)]\n",
      "5\n"
     ]
    }
   ],
   "source": [
    "clusters = tarjan(oder_dict)\n",
    "print(clusters)\n",
    "print(largest_SCC(clusters))"
   ]
  },
  {
   "cell_type": "markdown",
   "metadata": {},
   "source": [
    "## Implement a binary search to get the largest jump\n",
    "Implemented from pseudocode in the paper.\n",
    "\n",
    "Gives $O(E\\log{E})$ clustering performance when using the pseudocode in section 5."
   ]
  },
  {
   "cell_type": "code",
   "execution_count": 80,
   "metadata": {
    "collapsed": true
   },
   "outputs": [],
   "source": [
    "'''\n",
    "edges are fed in tuple form, ordered by the addition (NOT sorted)\n",
    "'''\n",
    "\n",
    "# given the order edges are added, find the largest jump\n",
    "\n",
    "# global: LJ, edges, n\n",
    "def binary_search(start,end,LJ,n,edges):\n",
    "    midpoint = round((start+end)/2)\n",
    "    head = largest_SCC(tarjan(edges_to_children(edges[0:start])))\n",
    "    mid = largest_SCC(tarjan(edges_to_children(edges[0:midpoint])))\n",
    "    tail = largest_SCC(tarjan(edges_to_children(edges[0:end])))\n",
    "    if abs(end-start)==1:\n",
    "        if (tail-head)>LJ: return (tail-head)\n",
    "    elif (mid-head)>(n/100): return binary_search(start,midpoint,LJ,n,edges)\n",
    "    elif (tail-mid)>(n/100): return binary_search(midpoint,end,LJ,n,edges)\n",
    "\n",
    "def get_largest_jump(edges,m,n):\n",
    "    start = 0\n",
    "    midpoint = round(m/2)\n",
    "    end = m-1\n",
    "    head = largest_SCC(tarjan(edges_to_children(edges[start:start+1])))\n",
    "    mid = largest_SCC(tarjan(edges_to_children(edges[start:midpoint])))\n",
    "    tail = largest_SCC(tarjan(edges_to_children(edges[start:end])))\n",
    "    LJ = 0\n",
    "    if (tail-head)<(n/100): return LJ\n",
    "    elif (mid-head)>(n/100):\n",
    "        jump = binary_search(start,midpoint,LJ,n,edges)\n",
    "    elif (tail-mid)>(n/100):\n",
    "        jump = binary_search(midpoint,end,LJ,n,edges)\n",
    "    return jump"
   ]
  },
  {
   "cell_type": "code",
   "execution_count": 81,
   "metadata": {
    "collapsed": false
   },
   "outputs": [],
   "source": [
    "m = 600\n",
    "n = 200\n",
    "LJ = get_largest_jump(oder_test,m,n)"
   ]
  },
  {
   "cell_type": "markdown",
   "metadata": {},
   "source": [
    "## Playing around with networkx capabilities\n",
    "\n",
    "So, looks like this is not so straightforward.\n",
    "\n",
    "Networkx works from different graph classes, e.g. [here](https://github.com/networkx/networkx/blob/a660d5728b3b3463b08c03ab8138f62468487c71/networkx/classes/digraph.py).\n",
    "\n",
    "Class documentation is here: https://docs.python.org/3/tutorial/classes.html\n",
    "\n",
    "Read through this: http://www.souravsengupta.com/cds2015/python/LPTHW.pdf\n",
    "\n",
    "Unit tests: http://docs.python-guide.org/en/latest/writing/tests/"
   ]
  },
  {
   "cell_type": "code",
   "execution_count": 68,
   "metadata": {
    "collapsed": false
   },
   "outputs": [
    {
     "name": "stdout",
     "output_type": "stream",
     "text": [
      "nSSC in third graph\n",
      "7\n",
      "defaultdict(<class 'list'>, {0: [1], 1: [2, 3, 4, 6], 2: [0], 3: [5], 4: [5]})\n",
      "5\n",
      "3\n",
      "4\n",
      "6\n",
      "2\n",
      "1\n",
      "0\n"
     ]
    }
   ],
   "source": [
    "# Python program to find strongly connected components in a given\n",
    "# directed graph using Tarjan's algorithm (single DFS)\n",
    "#Complexity : O(V+E)\n",
    "   \n",
    "#This class represents an directed graph \n",
    "# using adjacency list representation\n",
    "class Graph:\n",
    "  \n",
    "    def __init__(self,vertices):\n",
    "        #No. of vertices = nodes\n",
    "        self.V= vertices \n",
    "         \n",
    "        # default dictionary to store graph\n",
    "        self.graph = defaultdict(list) \n",
    "         \n",
    "        self.Time = 0\n",
    "  \n",
    "    # function to add an edge to graph\n",
    "    def addEdge(self,u,v):\n",
    "        # to key value u (tail), adds value v (head)\n",
    "        self.graph[u].append(v)\n",
    "         \n",
    "  \n",
    "    '''A recursive function that find finds and prints strongly connected\n",
    "    components using DFS traversal\n",
    "    u --> The vertex to be visited next\n",
    "    disc[] --> Stores discovery times of visited vertices\n",
    "    low[] -- >> earliest visited vertex (the vertex with minimum\n",
    "                discovery time) that can be reached from subtree\n",
    "                rooted with current vertex\n",
    "    st -- >> To store all the connected ancestors (could be part\n",
    "           of SCC)\n",
    "    stackMember[] --> bit/index array for faster check whether\n",
    "                  a node is in stack\n",
    "    '''\n",
    "    def SCCUtil(self,u, low, disc, stackMember, st):\n",
    "\n",
    "        # \"u\" is the vertex that the SCC method is searching for\n",
    " \n",
    "        # Initialize discovery time and low value\n",
    "        disc[u] = self.Time\n",
    "        low[u] = self.Time\n",
    "        # self.Time is a way of tracking the steps you've taken. that's why this is adding here\n",
    "        self.Time += 1\n",
    "        # saying that this vertex is now a number of the stack\n",
    "        stackMember[u] = True\n",
    "        # this actually tracks who is in what stack-- starting with u\n",
    "        st.append(u)\n",
    " \n",
    "        # Go through all vertices adjacent to this\n",
    "        # for all vertices stored as heads under the dictionary key u...\n",
    "        for v in self.graph[u]:\n",
    "             \n",
    "            # If v is not visited yet, then recur for it\n",
    "            if disc[v] == -1 :\n",
    "             \n",
    "                self.SCCUtil(v, low, disc, stackMember, st)\n",
    " \n",
    "                # Check if the subtree rooted with v has a connection to\n",
    "                # one of the ancestors of u\n",
    "                # Case 1 (per above discussion on Disc and Low value)\n",
    "                low[u] = min(low[u], low[v])\n",
    "                         \n",
    "            elif stackMember[v] == True: \n",
    " \n",
    "                '''Update low value of 'u' only if 'v' is still in stack\n",
    "                (i.e. it's a back edge, not cross edge).\n",
    "                Case 2 (per above discussion on Disc and Low value) '''\n",
    "                low[u] = min(low[u], disc[v])\n",
    " \n",
    "        # head node found, pop the stack and print an SCC\n",
    "        w = -1 #To store stack extracted vertices\n",
    "        if low[u] == disc[u]:\n",
    "            while w != u:\n",
    "                w = st.pop()\n",
    "                print(w)\n",
    "                stackMember[w] = False            \n",
    "     \n",
    " \n",
    "    #The function to do DFS traversal. \n",
    "    # It uses recursive SCCUtil()\n",
    "    def SCC(self):\n",
    "  \n",
    "        # Mark all the vertices as not visited \n",
    "        # and Initialize parent and visited, \n",
    "        # and ap(articulation point) arrays\n",
    "        # makes this into a lenght 7 array of -1\n",
    "        disc = [-1] * (self.V)\n",
    "        low = [-1] * (self.V)\n",
    "        stackMember = [False] * (self.V)\n",
    "        st =[]\n",
    "         \n",
    " \n",
    "        # Call the recursive helper function \n",
    "        # to find articulation points\n",
    "        # in DFS tree rooted with vertex 'i'\n",
    "        # for each vertex\n",
    "        for i in range(self.V):\n",
    "            # if the vertex has not been visited\n",
    "            if disc[i] == -1:\n",
    "                # run the SCCUtil for that vertex\n",
    "                self.SCCUtil(i, low, disc, stackMember, st)\n",
    "\n",
    "                \n",
    "g3 = Graph(7)\n",
    "# This is adding in edges very differently from how I'm approaching it\n",
    "g3.addEdge(0, 1)\n",
    "g3.addEdge(1, 2)\n",
    "g3.addEdge(2, 0)\n",
    "g3.addEdge(1, 3)\n",
    "g3.addEdge(1, 4)\n",
    "g3.addEdge(1, 6)\n",
    "g3.addEdge(3, 5)\n",
    "g3.addEdge(4, 5)\n",
    "print(\"nSSC in third graph\")\n",
    "print(g3.V)\n",
    "print(g3.graph)\n",
    "g3.SCC()\n",
    "\n",
    "#This code is contributed by Neelam Yadav"
   ]
  },
  {
   "cell_type": "code",
   "execution_count": null,
   "metadata": {
    "collapsed": true
   },
   "outputs": [],
   "source": [
    "# Trying to use networkx\n",
    "'''\n",
    "n: number of nodes\n",
    "p: probability of an edge being accepted\n",
    "'''\n",
    "\n",
    "def gnp_random_graph(n, p):\n",
    "    G = nx.DiGraph()\n",
    "    G.add_nodes_from(range(n))\n",
    "    if p <= 0:\n",
    "        return G\n",
    "    if p >= 1:\n",
    "        return complete_graph(n, create_using=G)\n",
    "\n",
    "    # Itertools makes all possible edge permutations between nodes-- so size of edges is n(n-1)-- I think\n",
    "    edges = list(itertools.permutations(range(n), 2))\n",
    "\n",
    "    # Here is where I need to add competition/ \n",
    "    for e in edges:\n",
    "        if random.random()< p:\n",
    "            G.add_edge(e)\n",
    "    return G"
   ]
  },
  {
   "cell_type": "code",
   "execution_count": null,
   "metadata": {
    "collapsed": false
   },
   "outputs": [],
   "source": [
    "er = nx.erdos_renyi_graph(10,.5,directed=True)\n",
    "print(er.nodes())\n",
    "print(er.edges())"
   ]
  },
  {
   "cell_type": "code",
   "execution_count": null,
   "metadata": {
    "collapsed": false
   },
   "outputs": [],
   "source": [
    "# ER example here (done with networkx)\n",
    "# Based on this, will take about 500 seconds to make a graph with 10e6 nodes\n",
    "# Can definitely parallelize this with map/pool!\n",
    "# Reference: http://chriskiehl.com/article/parallelism-in-one-line/ < this is python 2.7\n",
    "# Good reference on python 3: https://www.ploggingdev.com/2017/01/multiprocessing-and-multithreading-in-python-3/\n",
    "\n",
    "n = [5000]\n",
    "timed = []\n",
    "for N in n:\n",
    "    start = time.time()\n",
    "    gnp_random_graph(int(N),0.5)\n",
    "    timed.append(time.time()-start)\n",
    "    start = time.time()\n",
    "#     er = nx.erdos_renyi_graph(int(N),.5)\n",
    "    er = nx.erdos_renyi_graph(int(N),.5)\n",
    "    timed.append(time.time()-start)\n",
    "    \n",
    "print(timed)\n",
    "    \n",
    "# plt.scatter(n,timed)\n",
    "# plt.subplot(121)\n",
    "# nx.draw(er, with_labels=True, font_weight='bold')\n",
    "# plt.subplot(122)\n",
    "# nx.draw_shell(er, with_labels=True, font_weight='bold')"
   ]
  },
  {
   "cell_type": "code",
   "execution_count": null,
   "metadata": {
    "collapsed": false
   },
   "outputs": [],
   "source": [
    "# DER example here\n",
    "er = nx.erdos_renyi_graph(10,.5,directed=True)\n",
    "plt.subplot(121)\n",
    "nx.draw(er, with_labels=True, font_weight='bold')\n",
    "plt.subplot(122)\n",
    "nx.draw_shell(er, with_labels=True, font_weight='bold')"
   ]
  },
  {
   "cell_type": "markdown",
   "metadata": {},
   "source": [
    "### Model 1: Ordered, Directed Erdos-Renyi (ODER)\n",
    "- Generalization of the directed ER model to ordered graph\n",
    "- Form two large components, which explosively merge (discontinuous jump in the size of the largest strongly connected component)\n",
    "\n",
    "Ordered, directed graphs can be made using the OrderedDiGraph class, source [here](https://github.com/networkx/networkx/blob/386b71a7af6c4898331f62987d8ced3f5621b680/networkx/classes/ordered.py).\n",
    "\n",
    "From the python `collections` documentation [here](https://docs.python.org/3/library/collections.html#collections.OrderedDict): \"an OrderedDict is a dict that remembers the order that keys were first inserted. If a new entry overwrites an existing entry, the original insertion position is left unchanged. Deleting an entry and reinserting it will move it to the end.\""
   ]
  },
  {
   "cell_type": "code",
   "execution_count": null,
   "metadata": {
    "collapsed": true
   },
   "outputs": [],
   "source": [
    "# ODER example here"
   ]
  },
  {
   "cell_type": "markdown",
   "metadata": {},
   "source": [
    "### Model 2: Competitive ODER\n",
    "- Adds competition: preference for connecting nodes of similar rank\n",
    "- See similar discontinuous jump in cluster size, but \"more explosive\"\n",
    "- Get an effective phase separation of the two large components: one containing the lower-ranked users, one containing the higher-ranked users\n",
    "- TAKEAWAY: Some bias towards grouping similar-ranked nodes leads to formation of two distinct groups of nodes (classes) with little flow of information between the classes"
   ]
  },
  {
   "cell_type": "code",
   "execution_count": null,
   "metadata": {
    "collapsed": true
   },
   "outputs": [],
   "source": [
    "# CODER example here"
   ]
  },
  {
   "cell_type": "markdown",
   "metadata": {},
   "source": [
    "# 01 - Clustering implementations\n",
    "\n",
    "### Classical non-directed NZ clustering algorithm"
   ]
  },
  {
   "cell_type": "code",
   "execution_count": null,
   "metadata": {
    "collapsed": true
   },
   "outputs": [],
   "source": [
    "# Newmann-Ziff implementation on ER"
   ]
  },
  {
   "cell_type": "markdown",
   "metadata": {},
   "source": [
    "# 02 - Thermodynamics"
   ]
  },
  {
   "cell_type": "code",
   "execution_count": null,
   "metadata": {
    "collapsed": true
   },
   "outputs": [],
   "source": [
    "# Plot SCC (\"strongly connected component\") versus edge density, per paper"
   ]
  },
  {
   "cell_type": "code",
   "execution_count": null,
   "metadata": {
    "collapsed": true
   },
   "outputs": [],
   "source": [
    "# Find critical exponents-- they actually don't have them"
   ]
  },
  {
   "cell_type": "markdown",
   "metadata": {},
   "source": [
    "# 03 - Something else interesting?\n",
    "- Can we say something else interesting from this work that the authors might not have thought about?\n",
    "- What could have made this paper more interesting?\n",
    "- How innovative actually is this?"
   ]
  },
  {
   "cell_type": "markdown",
   "metadata": {
    "collapsed": true
   },
   "source": [
    "# 04 - Reference\n",
    "**Stacks**: In computer science, a stack is an abstract data type that serves as a collection of elements, with two principal operations:\n",
    "- push, which adds an element to the collection, and\n",
    "- pop, which removes the most recently added element that was not yet removed.\n",
    "The order in which elements come off a stack gives rise to its alternative name, LIFO (last in, first out).\n",
    "![stacks_vizualization](https://upload.wikimedia.org/wikipedia/commons/b/b4/Lifo_stack.png)\n"
   ]
  },
  {
   "cell_type": "code",
   "execution_count": null,
   "metadata": {
    "collapsed": true
   },
   "outputs": [],
   "source": []
  }
 ],
 "metadata": {
  "kernelspec": {
   "display_name": "Python 3",
   "language": "python",
   "name": "python3"
  },
  "language_info": {
   "codemirror_mode": {
    "name": "ipython",
    "version": 3
   },
   "file_extension": ".py",
   "mimetype": "text/x-python",
   "name": "python",
   "nbconvert_exporter": "python",
   "pygments_lexer": "ipython3",
   "version": "3.5.3"
  }
 },
 "nbformat": 4,
 "nbformat_minor": 0
}
