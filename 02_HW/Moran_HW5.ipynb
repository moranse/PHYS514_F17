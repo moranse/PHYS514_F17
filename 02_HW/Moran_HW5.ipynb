{
 "cells": [
  {
   "cell_type": "markdown",
   "metadata": {},
   "source": [
    "Shannon Moran <br>\n",
    "Phys 514 <br>\n",
    "HW 5<br>\n",
    "Due: Oct 19"
   ]
  },
  {
   "cell_type": "markdown",
   "metadata": {},
   "source": [
    "## Import required packages"
   ]
  },
  {
   "cell_type": "code",
   "execution_count": 1,
   "metadata": {
    "collapsed": true
   },
   "outputs": [],
   "source": [
    "%matplotlib inline\n",
    "import numpy as np\n",
    "from math import *\n",
    "import matplotlib.pyplot as plt"
   ]
  },
  {
   "cell_type": "markdown",
   "metadata": {},
   "source": [
    "## Initialize percolation lattice\n",
    "\n",
    "Make a square lattice and set the elements of the lattice to 1 with probability $p$ and to 0 with probability $1−p)$."
   ]
  },
  {
   "cell_type": "code",
   "execution_count": 2,
   "metadata": {
    "collapsed": true
   },
   "outputs": [],
   "source": [
    "def init_lattice(L,p):\n",
    "    random_lattice = np.random.random((L,L))\n",
    "    lattice = (random_lattice<=p)*1\n",
    "    return lattice"
   ]
  },
  {
   "cell_type": "markdown",
   "metadata": {},
   "source": [
    "## Cluster identification\n",
    "\n",
    "Identify all clusters on the lattice (i.e. all connected sites set to 1) using the Hoshen Kopelman algorithm. Choose $p\\approx0.58$ on a large lattice and make a plot, coloring the different clusters.\n",
    "\n",
    "Assumptions for the Hoshen Kopelman algorithm:\n",
    "* No periodic boundary conditions\n",
    "* Neighbors are only those cells connected by an edge"
   ]
  },
  {
   "cell_type": "code",
   "execution_count": 3,
   "metadata": {
    "collapsed": false
   },
   "outputs": [],
   "source": [
    "def get_neighbors(i,j,clusterIDs,neighborIDs):\n",
    "    neighborIDs.append(clusterIDs[i][j])\n",
    "    if i!=0:\n",
    "        neighborIDs.append(clusterIDs[i-1][j])\n",
    "    if j!=0:\n",
    "        neighborIDs.append(clusterIDs[i][j-1])\n",
    "    if i<(clusterIDs.shape[0]-1):\n",
    "        neighborIDs.append(clusterIDs[i+1][j])\n",
    "    if j<(clusterIDs.shape[1]-1):\n",
    "        neighborIDs.append(clusterIDs[i][j+1])\n",
    "    return neighborIDs\n",
    "\n",
    "def ID_proper(i,j,clusterIDs):\n",
    "    global changes\n",
    "    neighborIDs = get_neighbors(i,j,clusterIDs,[])\n",
    "    \n",
    "    # 1) if no neighbors are in a cluster, then keep particle in its own cluster\n",
    "    if clusterIDs[i][j]==0: siteID = 0 \n",
    "    elif np.amax(neighborIDs)==0:\n",
    "        siteID = clusterIDs[i][j]\n",
    "        \n",
    "    # 2) if more than one neighboring site is occupied, take the smallest of the neighbor labels\n",
    "    else:\n",
    "        nonzero_labels = [x for x in neighborIDs if x>0]\n",
    "        if clusterIDs[i][j]!=np.amin(np.asarray(nonzero_labels)): changes+=1\n",
    "        siteID = np.amin(np.asarray(nonzero_labels))\n",
    "    return siteID\n",
    "\n",
    "def HK_algorithm(lattice,verbose=False):\n",
    "    ## 1) Find unique ID for each site\n",
    "    L = lattice.shape[0]\n",
    "    clusterIDs = np.copy(np.zeros((L,L)))\n",
    "    np.place(clusterIDs,lattice==0,0)\n",
    "    np.place(clusterIDs,lattice==1,np.arange(1,L**2))\n",
    "\n",
    "    # Stores number of unique clusters\n",
    "    clusters0 = np.unique(clusterIDs).shape[0]-1\n",
    "\n",
    "    ## 2) Replace unique cluster IDs with proper cluster labels\n",
    "    # Note that I run a few loops of this until no values change\n",
    "    global changes\n",
    "    changes = 1\n",
    "    loops = 0\n",
    "    while changes>0:\n",
    "        changes = 0\n",
    "        for i in range(clusterIDs.shape[0]):\n",
    "            for j in range(clusterIDs.shape[1]):\n",
    "                clusterIDs[i][j] = ID_proper(i,j,clusterIDs)\n",
    "        loops +=1\n",
    "    \n",
    "    # Print out the results of the consolidation loops\n",
    "    #clustersF = np.unique(clusterIDs).shape[0]-1\n",
    "    \n",
    "    if verbose==True:\n",
    "        print('Number of unique clusters on first pass: %s'%clusters0)    \n",
    "        print('Number of unique clusters after %s consolidation loops: %s'%(loops,np.unique(clusterIDs).shape[0]-1))\n",
    "\n",
    "    # Here, I just rescale the label values for ease of visualization\n",
    "    labels = np.unique(clusterIDs)\n",
    "    for k in range(len(labels)):\n",
    "        if k==0: pass\n",
    "        else: np.place(clusterIDs,clusterIDs==labels[k],k)\n",
    "    return clusterIDs"
   ]
  },
  {
   "cell_type": "code",
   "execution_count": 4,
   "metadata": {
    "collapsed": false
   },
   "outputs": [
    {
     "name": "stdout",
     "output_type": "stream",
     "text": [
      "Percentage of lattice sites filled: 0.631944\n"
     ]
    }
   ],
   "source": [
    "# Generate test lattice\n",
    "p = 0.58\n",
    "L = 12\n",
    "lattice = init_lattice(L,p)\n",
    "\n",
    "# Check that L is large enough that the number of filled lattice sites has converged to p\n",
    "print('Percentage of lattice sites filled: %f' %(np.sum(lattice)/L**2))"
   ]
  },
  {
   "cell_type": "code",
   "execution_count": 5,
   "metadata": {
    "collapsed": false
   },
   "outputs": [
    {
     "name": "stdout",
     "output_type": "stream",
     "text": [
      "Number of unique clusters on first pass: 91\n",
      "Number of unique clusters after 10 consolidation loops: 8\n"
     ]
    },
    {
     "data": {
      "image/png": "[encoded data removed]",
      "text/plain": [
       "<matplotlib.figure.Figure at 0x10962cef0>"
      ]
     },
     "metadata": {},
     "output_type": "display_data"
    },
    {
     "data": {
      "image/png": "[encoded data removed]",
      "text/plain": [
       "<matplotlib.figure.Figure at 0x10bab2b70>"
      ]
     },
     "metadata": {},
     "output_type": "display_data"
    },
    {
     "name": "stdout",
     "output_type": "stream",
     "text": [
      "Cluster IDs, for visual verification\n",
      "[[ 0.  1.  1.  0.  1.  0.  2.  0.  0.  1.  1.  1.]\n",
      " [ 1.  1.  0.  0.  1.  1.  0.  0.  3.  0.  1.  1.]\n",
      " [ 0.  1.  1.  1.  1.  0.  1.  1.  0.  1.  1.  1.]\n",
      " [ 1.  1.  0.  1.  1.  0.  1.  1.  1.  0.  1.  1.]\n",
      " [ 0.  0.  1.  1.  1.  1.  1.  1.  0.  1.  1.  0.]\n",
      " [ 1.  1.  1.  0.  0.  1.  0.  1.  0.  1.  1.  1.]\n",
      " [ 1.  0.  1.  0.  1.  1.  1.  1.  0.  0.  1.  1.]\n",
      " [ 0.  0.  0.  1.  1.  0.  1.  1.  1.  1.  1.  1.]\n",
      " [ 0.  4.  4.  0.  1.  0.  0.  0.  1.  1.  1.  0.]\n",
      " [ 5.  0.  4.  4.  0.  6.  0.  6.  0.  1.  0.  0.]\n",
      " [ 0.  7.  0.  4.  0.  6.  6.  6.  0.  1.  1.  1.]\n",
      " [ 8.  0.  4.  4.  4.  0.  0.  6.  0.  0.  1.  1.]]\n"
     ]
    }
   ],
   "source": [
    "clusterIDs = HK_algorithm(lattice,verbose=True)\n",
    "        \n",
    "plt.imshow(lattice,cmap='binary',interpolation=\"none\")\n",
    "plt.title('Lattice value')\n",
    "plt.colorbar()\n",
    "plt.show()\n",
    "\n",
    "plt.imshow(clusterIDs,cmap='OrRd',interpolation=\"none\")\n",
    "plt.title('Cluster ID')\n",
    "plt.colorbar()\n",
    "plt.show()\n",
    "\n",
    "print('Cluster IDs, for visual verification')\n",
    "print(clusterIDs)"
   ]
  },
  {
   "cell_type": "markdown",
   "metadata": {},
   "source": [
    "## Studying percolating clusters\n",
    "\n",
    "Compute the probability P of having a percolating cluster (one that has an element both on the bottom and on the top row of your lattice) as a function of p, make a plot of P(p), and send plot, code, and descriptions to Canvas."
   ]
  },
  {
   "cell_type": "code",
   "execution_count": 6,
   "metadata": {
    "collapsed": false
   },
   "outputs": [],
   "source": [
    "def percolation_check(clusterIDs):\n",
    "    clusters = np.unique(clusterIDs)\n",
    "    # Screens out edge case where there are no empty sites\n",
    "    a=(0 if clusters[0]==1 else 1)\n",
    "    for c in clusters[a:]:\n",
    "        check = np.copy(np.where(clusterIDs==c))\n",
    "        if (np.amin(check[0])==0 and np.amax(check[0])==(L-1)): \n",
    "            return 1\n",
    "        else: pass\n",
    "    return 0"
   ]
  },
  {
   "cell_type": "code",
   "execution_count": 7,
   "metadata": {
    "collapsed": false,
    "scrolled": true
   },
   "outputs": [],
   "source": [
    "L = 25\n",
    "reps = 5\n",
    "\n",
    "probs = np.linspace(0.0, 1.0, 20)\n",
    "Probs = [] \n",
    "for p in probs:\n",
    "    data = []\n",
    "    for rep in range(reps):\n",
    "        lattice = init_lattice(L,p)\n",
    "        clusterIDs = HK_algorithm(lattice)\n",
    "        data.append(percolation_check(clusterIDs))\n",
    "    Probs.append(np.sum(np.asarray(data))/reps)"
   ]
  },
  {
   "cell_type": "code",
   "execution_count": 8,
   "metadata": {
    "collapsed": false
   },
   "outputs": [
    {
     "data": {
      "image/png": "[encoded data removed]",
      "text/plain": [
       "<matplotlib.figure.Figure at 0x10bf6d550>"
      ]
     },
     "metadata": {},
     "output_type": "display_data"
    }
   ],
   "source": [
    "plt.plot(probs,Probs,'bo-')\n",
    "plt.title('Probability (P) of percolating cluster existence')\n",
    "plt.ylabel('P')\n",
    "plt.xlabel('Probability (p) of a lattice site being occupied')\n",
    "plt.show()"
   ]
  },
  {
   "cell_type": "markdown",
   "metadata": {},
   "source": [
    "From this, it's fairly clear that that critical probability for percolation (defined here has spanning the box top-to-bottom) is somewhere between 0.5-0.7. Zooming in on that region..."
   ]
  },
  {
   "cell_type": "code",
   "execution_count": 10,
   "metadata": {
    "collapsed": false
   },
   "outputs": [
    {
     "data": {
      "image/png": "[encoded data removed]",
      "text/plain": [
       "<matplotlib.figure.Figure at 0x10c204828>"
      ]
     },
     "metadata": {},
     "output_type": "display_data"
    }
   ],
   "source": [
    "probs = np.linspace(0.4, 0.75, 20)\n",
    "Probs = [] \n",
    "\n",
    "reps = 30\n",
    "for p in probs:\n",
    "    data = []\n",
    "    for rep in range(reps):\n",
    "        lattice = init_lattice(L,p)\n",
    "        clusterIDs = HK_algorithm(lattice)\n",
    "        data.append(percolation_check(clusterIDs))\n",
    "    Probs.append(np.sum(np.asarray(data))/reps)\n",
    "    \n",
    "plt.plot(probs,Probs,'bo-')\n",
    "plt.title('Probability (P) of percolating cluster existence')\n",
    "plt.ylabel('P')\n",
    "plt.xlabel('Probability (p) of a lattice site being occupied')\n",
    "plt.show()"
   ]
  },
  {
   "cell_type": "markdown",
   "metadata": {},
   "source": [
    "Interestly, the $p\\approx0.58$ recommended in the problem statement as a test case lies right around P=0.5. It's like it was planned or something!"
   ]
  },
  {
   "cell_type": "code",
   "execution_count": null,
   "metadata": {
    "collapsed": true
   },
   "outputs": [],
   "source": []
  }
 ],
 "metadata": {
  "kernelspec": {
   "display_name": "Python 3",
   "language": "python",
   "name": "python3"
  },
  "language_info": {
   "codemirror_mode": {
    "name": "ipython",
    "version": 3
   },
   "file_extension": ".py",
   "mimetype": "text/x-python",
   "name": "python",
   "nbconvert_exporter": "python",
   "pygments_lexer": "ipython3",
   "version": "3.5.3"
  }
 },
 "nbformat": 4,
 "nbformat_minor": 0
}
