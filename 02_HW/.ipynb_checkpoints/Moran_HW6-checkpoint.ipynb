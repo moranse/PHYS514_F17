{
 "cells": [
  {
   "cell_type": "markdown",
   "metadata": {},
   "source": [
    "## Shannon Moran <br>\n",
    "Phys 514 <br>\n",
    "HW 6<br>\n",
    "Due: Oct 26"
   ]
  },
  {
   "cell_type": "markdown",
   "metadata": {},
   "source": [
    "Outstanding to-dos:\n",
    "    - Something is wrong with my binder cumulant-- how can I prevent the np.exp from overflowing?\n",
    "    - Something must be getting stored weirdly, because it's always the latter lattice sizes that end up getting fucked up"
   ]
  },
  {
   "cell_type": "markdown",
   "metadata": {},
   "source": [
    "## Import required packages"
   ]
  },
  {
   "cell_type": "code",
   "execution_count": 1,
   "metadata": {
    "collapsed": false
   },
   "outputs": [],
   "source": [
    "%matplotlib inline\n",
    "import numpy as np\n",
    "from math import *\n",
    "import matplotlib.pyplot as plt\n",
    "import time\n",
    "import random"
   ]
  },
  {
   "cell_type": "markdown",
   "metadata": {},
   "source": [
    "## Initialize Ising lattice\n",
    "\n",
    "Set the initial configuration to a random lattice."
   ]
  },
  {
   "cell_type": "code",
   "execution_count": 2,
   "metadata": {
    "collapsed": true
   },
   "outputs": [],
   "source": [
    "def init_lattice(L,p=0.5):\n",
    "    random_lattice = np.random.random((L,L))\n",
    "    lattice = (random_lattice<=p)*1\n",
    "    np.place(lattice,lattice==0,-1)\n",
    "    return lattice"
   ]
  },
  {
   "cell_type": "markdown",
   "metadata": {},
   "source": [
    "## Simulate the Ising model using Monte Carlo\n",
    "\n",
    "Simulate the Ising model,\n",
    "\n",
    "$$ H = -J\\sum_{\\langle i,j \\rangle}S_iS_j$$\n",
    "\n",
    "on a square lattice in two dimensions using Metropolis Monte Carlo with single spin flip updates."
   ]
  },
  {
   "cell_type": "markdown",
   "metadata": {},
   "source": [
    "### Monte Carlo helper calculations"
   ]
  },
  {
   "cell_type": "code",
   "execution_count": 3,
   "metadata": {
    "collapsed": true
   },
   "outputs": [],
   "source": [
    "# Calculate nn spin interactions, taking PBC into account\n",
    "def nn_spin(spins):\n",
    "    # Divide by two to avoid double-counting spins\n",
    "    neighbors = np.copy(spins*(np.roll(spins,+1,axis=1)+np.roll(spins,+1,axis=0)\n",
    "                               +np.roll(spins,-1,axis=1)+np.roll(spins,-1,axis=0))/2)\n",
    "    return neighbors\n",
    "\n",
    "\n",
    "def expectation(A,E,beta):\n",
    "    return np.sum(A*np.exp(-beta*np.asarray(E)))/np.sum(np.exp(-beta*np.asarray(E)))\n",
    "\n",
    "\n",
    "# Calculate binder cumulant\n",
    "def binder_cumulant(M,E,beta):\n",
    "    M4 = expectation(np.power(M,4),E,beta)\n",
    "    M2 = expectation(np.power(M,2),E,beta)**2\n",
    "#     M4 = np.average(np.power(M,4))\n",
    "#     M2 = np.average(np.power(M,2))**2\n",
    "    print(M4,M2)\n",
    "    return 1-M4/(3*M2)"
   ]
  },
  {
   "cell_type": "markdown",
   "metadata": {},
   "source": [
    "### Monte Carlo method execution"
   ]
  },
  {
   "cell_type": "code",
   "execution_count": 4,
   "metadata": {
    "collapsed": false
   },
   "outputs": [],
   "source": [
    "# Execute single spin flip\n",
    "def spin_flip(configuration):\n",
    "    positions = np.arange(configuration.shape[0])\n",
    "    flip_i = random.choice(positions)\n",
    "    flip_j = random.choice(positions)\n",
    "    flipped = np.copy(configuration)\n",
    "    flipped[flip_i][flip_j] *= -1\n",
    "    return flipped\n",
    "\n",
    "\n",
    "# Execute single MC step\n",
    "def MC_step(config_old,J,beta,status='run'):\n",
    "    global moves\n",
    "    config_new = np.copy(spin_flip(config_old))\n",
    "    E_old = -J*np.sum(nn_spin(config_old))\n",
    "    E_new = -J*np.sum(nn_spin(config_new))\n",
    "    E_del = E_new - E_old\n",
    "    if E_del<0: config = np.copy(config_new); E=E_new\n",
    "    else:\n",
    "        p = np.exp(-beta*E_del)\n",
    "        r = random.random()\n",
    "        if r<p: config = np.copy(config_new); E=E_new; moves+=1\n",
    "        else: config = np.copy(config_old); E=E_old\n",
    "    M = (np.sum(config)/config.shape[0]**2)**2\n",
    "    if status==\"init\": return config\n",
    "    else: return config,E,M \n",
    "    \n",
    "\n",
    "# Execute MC_simulation for specified number of steps\n",
    "def MC_simulate(lattice,N_run,J,beta):\n",
    "    global moves\n",
    "    E = []\n",
    "    M = []\n",
    "    L = lattice.shape[0]\n",
    "    step = 0\n",
    "    moves = 0\n",
    "    while step<N_run:\n",
    "        step+=1\n",
    "        lattice,Ei,Mi = np.copy(MC_step(lattice,J,beta))\n",
    "        E.append(Ei)\n",
    "        M.append(Mi)\n",
    "    # Calculate properties\n",
    "    T = 1/beta\n",
    "    properties = {\n",
    "        'E': E,\n",
    "        'M': M,\n",
    "        'S': (np.mean(np.power(M,2)/L**2)-(np.average(np.abs(M))**2/(L**2)))/T,\n",
    "        'C': (np.mean(np.power(E,2))-np.mean(E)**2)/T**2,\n",
    "        'U': binder_cumulant(M,E,beta),\n",
    "    }\n",
    "    return lattice,properties"
   ]
  },
  {
   "cell_type": "markdown",
   "metadata": {},
   "source": [
    "Something is not working-- can use this site for reference to troubleshoot:\n",
    "https://github.com/prtkm/ising-monte-carlo/blob/master/ising-monte-carlo.org\n",
    "\n",
    "Good site for checking the physics: http://quantumtheory.physik.unibas.ch/people/bruder/Semesterprojekte2007/p1/"
   ]
  },
  {
   "cell_type": "code",
   "execution_count": 5,
   "metadata": {
    "collapsed": false,
    "scrolled": true
   },
   "outputs": [
    {
     "ename": "NameError",
     "evalue": "name 'p' is not defined",
     "output_type": "error",
     "traceback": [
      "\u001b[0;31m---------------------------------------------------------------------------\u001b[0m",
      "\u001b[0;31mNameError\u001b[0m                                 Traceback (most recent call last)",
      "\u001b[0;32m<ipython-input-5-4601c1ebf004>\u001b[0m in \u001b[0;36m<module>\u001b[0;34m()\u001b[0m\n\u001b[1;32m      1\u001b[0m \u001b[0;31m# Validate spin initialization\u001b[0m\u001b[0;34m\u001b[0m\u001b[0;34m\u001b[0m\u001b[0m\n\u001b[1;32m      2\u001b[0m \u001b[0mL\u001b[0m \u001b[0;34m=\u001b[0m \u001b[0mint\u001b[0m\u001b[0;34m(\u001b[0m\u001b[0;36m15\u001b[0m\u001b[0;34m)\u001b[0m\u001b[0;34m\u001b[0m\u001b[0m\n\u001b[0;32m----> 3\u001b[0;31m \u001b[0mlattice0\u001b[0m \u001b[0;34m=\u001b[0m \u001b[0mnp\u001b[0m\u001b[0;34m.\u001b[0m\u001b[0mcopy\u001b[0m\u001b[0;34m(\u001b[0m\u001b[0minit_lattice\u001b[0m\u001b[0;34m(\u001b[0m\u001b[0mL\u001b[0m\u001b[0;34m,\u001b[0m\u001b[0mp\u001b[0m\u001b[0;34m)\u001b[0m\u001b[0;34m)\u001b[0m\u001b[0;34m\u001b[0m\u001b[0m\n\u001b[0m\u001b[1;32m      4\u001b[0m \u001b[0mplt\u001b[0m\u001b[0;34m.\u001b[0m\u001b[0mimshow\u001b[0m\u001b[0;34m(\u001b[0m\u001b[0mlattice0\u001b[0m\u001b[0;34m,\u001b[0m\u001b[0mcmap\u001b[0m\u001b[0;34m=\u001b[0m\u001b[0;34m'nipy_spectral'\u001b[0m\u001b[0;34m,\u001b[0m\u001b[0minterpolation\u001b[0m\u001b[0;34m=\u001b[0m\u001b[0;34m\"none\"\u001b[0m\u001b[0;34m)\u001b[0m\u001b[0;34m\u001b[0m\u001b[0m\n\u001b[1;32m      5\u001b[0m \u001b[0mplt\u001b[0m\u001b[0;34m.\u001b[0m\u001b[0mtitle\u001b[0m\u001b[0;34m(\u001b[0m\u001b[0;34m'Initial site spin value'\u001b[0m\u001b[0;34m)\u001b[0m\u001b[0;34m\u001b[0m\u001b[0m\n",
      "\u001b[0;31mNameError\u001b[0m: name 'p' is not defined"
     ]
    }
   ],
   "source": [
    "# Validate spin initialization\n",
    "L = int(15)\n",
    "lattice0 = np.copy(init_lattice(L))\n",
    "plt.imshow(lattice0,cmap='nipy_spectral',interpolation=\"none\")\n",
    "plt.title('Initial site spin value')\n",
    "plt.colorbar()\n",
    "plt.show()"
   ]
  },
  {
   "cell_type": "code",
   "execution_count": null,
   "metadata": {
    "collapsed": true
   },
   "outputs": [],
   "source": [
    "# Add a quick demonstration that this works"
   ]
  },
  {
   "cell_type": "markdown",
   "metadata": {},
   "source": [
    "## Compute system properties versus T\n",
    "\n",
    "Compute the expectation values of the absolute value of the magnetization, magnetic susceptibility, the energy, and the specific heat as a function of temperature.\n",
    "\n",
    "The expectation value of a quantity $A$ at a finite temperature $T$ is given by a sum over all states in the simulation:\n",
    "$$ \\langle A \\rangle = \\frac{1}{Z}\\sum_i A_i exp(\\beta E_i) $$\n",
    "\n",
    "where $\\beta=1/kT$, $A_i$ is the value of the quantity $A$ in the configuration $i$ with energy $E_i$.\n",
    "\n",
    "The partition function is given by:\n",
    "$$ Z = \\sum_i exp(-\\beta E_i) $$\n",
    "\n",
    "This normalizes the probabilities $p_i=exp(\\beta E_i)/Z$."
   ]
  },
  {
   "cell_type": "code",
   "execution_count": null,
   "metadata": {
    "collapsed": false,
    "scrolled": false
   },
   "outputs": [],
   "source": [
    "lattice = np.copy(lattice0)\n",
    "\n",
    "# Set simulation parameters\n",
    "moves = 0\n",
    "N_init = 0\n",
    "N_run = int(1e4)\n",
    "MC_steps = np.arange(N_run)\n",
    "\n",
    "# T is in units J/kB\n",
    "J = 1\n",
    "T_range = np.asarray([0.5, 2.27, 5.0])\n",
    "\n",
    "# Run MC simulations over range of temperatures\n",
    "f, (ax1, ax2) = plt.subplots(2, 1, sharex=True,figsize=(10,10))\n",
    "for T in T_range:\n",
    "    _,props = np.copy(MC_simulate(lattice,N_run,J,1/T))\n",
    "    ax1.plot(MC_steps,props['E'],label='T: %s' %T)\n",
    "    ax2.plot(MC_steps,props['M'],label='T: %s' %T)\n",
    "    print('Move acceptance @ T=%s: %s'%(T,moves/N_run))\n",
    "    \n",
    "# Consolidate plots of results.\n",
    "E_min = int(-lattice.shape[0]**2*2*J)\n",
    "ax1.plot(MC_steps,E_min*np.ones(N_run),label='Minimum possible E')\n",
    "ax1.set_title('Energy vs MC step')\n",
    "ax1.set_ylim([E_min*1.2, 0])\n",
    "ax1.legend(loc=0)\n",
    "ax2.set_title('Average magnetization (abs value) vs MC step')\n",
    "ax2.set_ylim([0, 1.2])\n",
    "ax2.legend(loc=0)\n",
    "plt.show()"
   ]
  },
  {
   "cell_type": "markdown",
   "metadata": {},
   "source": [
    "## Find phase transition locations\n",
    "\n",
    "Find the approximate location of the phase transition on small lattices.\n",
    "\n",
    "We'll use the Binder cumulant method for this and look for where the values cross-- this should give us the approximate $T_C$.\n",
    "\n",
    "Notes:\n",
    "- We can start with a pretty small system. (Gull cited 8 in class.)\n",
    "- I should add in replicates here to get better statistics"
   ]
  },
  {
   "cell_type": "markdown",
   "metadata": {},
   "source": [
    "My binder cumulant implementation is almost certainly wrong. See example here for  what values should be: https://www.hermetic.ch/compsci/thesis/chap3.htm\n",
    "\n",
    "Should look like:\n",
    "![actual](https://www.hermetic.ch/compsci/thesis/fig3_3_1.gif)"
   ]
  },
  {
   "cell_type": "code",
   "execution_count": null,
   "metadata": {
    "collapsed": false
   },
   "outputs": [],
   "source": [
    "N_run = int(5e3)\n",
    "\n",
    "L_range = np.linspace(8,14,3,dtype=np.int16)\n",
    "T_range = np.linspace(2.0,2.5,3)\n",
    "reps = 3\n",
    "for L in L_range:\n",
    "    lattice = np.copy(init_lattice(L))\n",
    "    U_reps = np.copy(np.zeros((reps,len(T_range))))\n",
    "    for rep in range(reps):\n",
    "        print(L,rep)\n",
    "        U = []\n",
    "        for T in T_range:\n",
    "            _,properties = np.copy(MC_simulate(lattice,N_run,J,1/T))\n",
    "            U.append(properties['U'])\n",
    "        print(U)\n",
    "        U_reps[rep][:] = U\n",
    "    U_avg = np.copy(np.average(U_reps,axis=0))\n",
    "    plt.plot(T_range,U_avg,'o-',label='L=%s'%L,)\n",
    "    \n",
    "plt.legend() \n",
    "plt.show()"
   ]
  },
  {
   "cell_type": "markdown",
   "metadata": {
    "collapsed": true
   },
   "source": [
    "We can check for the values crossing visually-- it appears that this value is ~2.25. The analytical solution for the 2D Ising model is approximately ~2.27."
   ]
  }
 ],
 "metadata": {
  "kernelspec": {
   "display_name": "Python 3",
   "language": "python",
   "name": "python3"
  },
  "language_info": {
   "codemirror_mode": {
    "name": "ipython",
    "version": 3
   },
   "file_extension": ".py",
   "mimetype": "text/x-python",
   "name": "python",
   "nbconvert_exporter": "python",
   "pygments_lexer": "ipython3",
   "version": "3.5.3"
  }
 },
 "nbformat": 4,
 "nbformat_minor": 0
}
