{
 "cells": [
  {
   "cell_type": "markdown",
   "metadata": {},
   "source": [
    "## Shannon Moran <br>\n",
    "Phys 514 <br>\n",
    "HW 6<br>\n",
    "Due: Oct 26"
   ]
  },
  {
   "cell_type": "markdown",
   "metadata": {},
   "source": [
    "## Import required packages"
   ]
  },
  {
   "cell_type": "code",
   "execution_count": 1,
   "metadata": {
    "collapsed": false
   },
   "outputs": [],
   "source": [
    "%matplotlib inline\n",
    "import numpy as np\n",
    "from math import *\n",
    "import matplotlib.pyplot as plt\n",
    "import time\n",
    "import random"
   ]
  },
  {
   "cell_type": "markdown",
   "metadata": {},
   "source": [
    "## Initialize Ising lattice\n",
    "\n",
    "Set the initial configuration to a randon lattice."
   ]
  },
  {
   "cell_type": "code",
   "execution_count": 15,
   "metadata": {
    "collapsed": true
   },
   "outputs": [],
   "source": [
    "def init_lattice(L,p):\n",
    "    random_lattice = np.random.random((L,L))\n",
    "    lattice = (random_lattice<=p)*1\n",
    "    np.place(lattice,lattice==0,-1)\n",
    "    return lattice"
   ]
  },
  {
   "cell_type": "markdown",
   "metadata": {},
   "source": [
    "## Simulate the Ising model using Monte Carlo\n",
    "\n",
    "Simulate the Ising model,\n",
    "\n",
    "$$ H = -J\\sum_{\\langle i,j \\rangle}S_iS_j$$\n",
    "\n",
    "on a square lattice in two dimensions using Metropolis Monte Carlo with single spin flip updates."
   ]
  },
  {
   "cell_type": "code",
   "execution_count": 53,
   "metadata": {
    "collapsed": false
   },
   "outputs": [],
   "source": [
    "# def get_neighbors(i,j,spins):\n",
    "#     neighbors = []\n",
    "#     if i!=0: neighbors.append(spins[i-1][j])\n",
    "#     else: neighbors.append(spins[-1][j])\n",
    "#     if j!=0: neighbors.append(spins[i][j-1])\n",
    "#     else: neighbors.append(spins[i][j-1])\n",
    "#     return neighbors\n",
    "\n",
    "# def calc_energy(configuration,J):\n",
    "#     E = np.zeros(configuration.shape)\n",
    "#     nn_spins = neighbors_vec(configuration)\n",
    "# #     E = np.sum(-J*configuration*nn_spins)\n",
    "#     for i in range(configuration.shape[0]):\n",
    "#         for j in range(configuration.shape[1]):\n",
    "#             E[i][j] = -J*np.sum(configuration[i][j]*np.asarray(nn_spins[i][j]))\n",
    "#     E = np.sum(E)\n",
    "#     return E\n",
    "\n",
    "\n",
    "# accounts for period boundary conditions\n",
    "# to avoid double-counting nn interactions, only checks left and up from each site\n",
    "def neighbors_vec(spins):\n",
    "    neighbors = np.copy(np.roll(spins,+1,axis=1)+np.roll(spins,+1,axis=0))\n",
    "    return neighbors\n",
    "\n",
    "def spin_flip(configuration):\n",
    "    positions = np.arange(configuration.shape[0])\n",
    "    flip_i = random.choice(positions)\n",
    "    flip_j = random.choice(positions)\n",
    "    configuration[flip_i][flip_j] *= -1\n",
    "    return configuration\n",
    "\n",
    "def calc_energy(configuration,J):\n",
    "    nn_spins = neighbors_vec(configuration)\n",
    "    E = np.sum(-J*configuration*nn_spins)\n",
    "    return E\n",
    "\n",
    "def MC(config_old,J,beta):\n",
    "    E_old = calc_energy(config_old,J)\n",
    "    config_new = spin_flip(config_old)\n",
    "    E_new = calc_energy(config_new,J)\n",
    "    E_del = E_new - E_old\n",
    "    if E_del<0: config = np.copy(config_new)\n",
    "    else:\n",
    "        p = np.exp(-beta*E_del)\n",
    "        r = random.random()\n",
    "        if r<p: config = np.copy(config_new)\n",
    "        else: config = np.copy(config_old)\n",
    "    return config"
   ]
  },
  {
   "cell_type": "code",
   "execution_count": 60,
   "metadata": {
    "collapsed": true
   },
   "outputs": [],
   "source": [
    "# Set system parameters\n",
    "J = 1\n",
    "beta= 1/2\n",
    "\n",
    "# Set simulation parameters\n",
    "N = 5e5\n",
    "p = 0.7\n",
    "L = 14\n",
    "\n",
    "lattice0 = init_lattice(L,p)"
   ]
  },
  {
   "cell_type": "code",
   "execution_count": 61,
   "metadata": {
    "collapsed": false
   },
   "outputs": [
    {
     "data": {
      "image/png": "[encoded data removed]",
      "text/plain": [
       "<matplotlib.figure.Figure at 0x114722b38>"
      ]
     },
     "metadata": {},
     "output_type": "display_data"
    },
    {
     "name": "stdout",
     "output_type": "stream",
     "text": [
      "59.08598589897156\n"
     ]
    },
    {
     "data": {
      "image/png": "[encoded data removed]",
      "text/plain": [
       "<matplotlib.figure.Figure at 0x113dcde80>"
      ]
     },
     "metadata": {},
     "output_type": "display_data"
    }
   ],
   "source": [
    "plt.imshow(lattice0,cmap='nipy_spectral',interpolation=\"none\")\n",
    "plt.title('Site spin value')\n",
    "plt.colorbar()\n",
    "plt.show()\n",
    "\n",
    "step = 0\n",
    "lattice = lattice0\n",
    "t0 = time.time()\n",
    "while step<N:\n",
    "    step+=1\n",
    "    lattice = np.copy(MC(lattice,J,beta))\n",
    "print(time.time()-t0)\n",
    "    \n",
    "plt.imshow(lattice,cmap='nipy_spectral',interpolation=\"none\")\n",
    "plt.title('Site spin value, %d MC steps' %N)\n",
    "plt.colorbar()\n",
    "plt.show()"
   ]
  },
  {
   "cell_type": "markdown",
   "metadata": {},
   "source": [
    "## Compute system properties versus T\n",
    "\n",
    "Compute the expectation values of the absolute value of the magnetization, magnetic susceptibility, the energy, and the specific heat as a function of temperature.\n",
    "\n",
    "The expectation value of a quantity $A$ at a finite temperature $T$ is given by a sum over all states in the simulation:\n",
    "$$ \\langle A \\rangle = \\frac{1}{Z}\\sum_i A_i exp(\\beta E_i) $$\n",
    "\n",
    "where $\\beta=1/kT$, $A_i$ is the value of the quantity $A$ in the configuration $i$ with energy $E_i$.\n",
    "\n",
    "The partition function is given by:\n",
    "$$ Z = \\sum_i exp(-\\beta E_i) $$\n",
    "\n",
    "This normalizes the probabilities $p_i=exp(\\beta E_i)/Z$."
   ]
  },
  {
   "cell_type": "code",
   "execution_count": null,
   "metadata": {
    "collapsed": true
   },
   "outputs": [],
   "source": [
    "'''\n",
    "Open question: do we need to thermalize the system?\n",
    "magnetization\n",
    "magnetic susceptibility\n",
    "specific heat\n",
    "energy-- already calculated above\n",
    "'''"
   ]
  },
  {
   "cell_type": "markdown",
   "metadata": {},
   "source": [
    "## Find phase transition locations\n",
    "\n",
    "Find the approximate location of the phase transition on small lattices."
   ]
  },
  {
   "cell_type": "code",
   "execution_count": null,
   "metadata": {
    "collapsed": true
   },
   "outputs": [],
   "source": []
  }
 ],
 "metadata": {
  "kernelspec": {
   "display_name": "Python 3",
   "language": "python",
   "name": "python3"
  },
  "language_info": {
   "codemirror_mode": {
    "name": "ipython",
    "version": 3
   },
   "file_extension": ".py",
   "mimetype": "text/x-python",
   "name": "python",
   "nbconvert_exporter": "python",
   "pygments_lexer": "ipython3",
   "version": "3.5.3"
  }
 },
 "nbformat": 4,
 "nbformat_minor": 0
}
