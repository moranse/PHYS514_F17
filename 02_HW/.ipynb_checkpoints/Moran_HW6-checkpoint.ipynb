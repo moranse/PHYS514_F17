{
 "cells": [
  {
   "cell_type": "markdown",
   "metadata": {},
   "source": [
    "## Shannon Moran <br>\n",
    "Phys 514 <br>\n",
    "HW 6<br>\n",
    "Due: Oct 26"
   ]
  },
  {
   "cell_type": "markdown",
   "metadata": {},
   "source": [
    "## Import required packages"
   ]
  },
  {
   "cell_type": "code",
   "execution_count": 1,
   "metadata": {
    "collapsed": false
   },
   "outputs": [],
   "source": [
    "%matplotlib inline\n",
    "import numpy as np\n",
    "from math import *\n",
    "import matplotlib.pyplot as plt\n",
    "import time\n",
    "import random"
   ]
  },
  {
   "cell_type": "markdown",
   "metadata": {},
   "source": [
    "## Initialize Ising lattice\n",
    "\n",
    "Set the initial configuration to a randon lattice."
   ]
  },
  {
   "cell_type": "code",
   "execution_count": 2,
   "metadata": {
    "collapsed": true
   },
   "outputs": [],
   "source": [
    "def init_lattice(L):\n",
    "    random_lattice = np.random.random((L,L))\n",
    "    lattice = (random_lattice<=p)*1\n",
    "    np.place(lattice,lattice==0,-1)\n",
    "    return lattice"
   ]
  },
  {
   "cell_type": "markdown",
   "metadata": {},
   "source": [
    "## Simulate the Ising model using Monte Carlo\n",
    "\n",
    "Simulate the Ising model,\n",
    "\n",
    "$$ H = -J\\sum_{\\langle i,j \\rangle}S_iS_j$$\n",
    "\n",
    "on a square lattice in two dimensions using Metropolis Monte Carlo with single spin flip updates."
   ]
  },
  {
   "cell_type": "code",
   "execution_count": 30,
   "metadata": {
    "collapsed": false
   },
   "outputs": [
    {
     "data": {
      "text/plain": [
       "'\\nNeed to store: \\nmagnetization - here\\nmagnetic susceptibility - calculated from the magnetization at a given T (ouside function)\\nspecific heat\\nenergy-- already calculated above\\n'"
      ]
     },
     "execution_count": 30,
     "metadata": {},
     "output_type": "execute_result"
    }
   ],
   "source": [
    "# accounts for period boundary conditions\n",
    "# to avoid double-counting nn interactions, only checks left and up from each site\n",
    "# try counting all of half of them\n",
    "def neighbors_vec(spins):\n",
    "#     neighbors = np.copy(np.roll(spins,+1,axis=1)+np.roll(spins,+1,axis=0))\n",
    "    neighbors = np.copy(spins*(np.roll(spins,+1,axis=1)+np.roll(spins,+1,axis=0)+np.roll(spins,-1,axis=1)+np.roll(spins,-1,axis=0))/2)\n",
    "    return neighbors\n",
    "\n",
    "def spin_flip(configuration):\n",
    "    positions = np.arange(configuration.shape[0])\n",
    "    flip_i = random.choice(positions)\n",
    "    flip_j = random.choice(positions)\n",
    "    flipped = np.copy(configuration)\n",
    "    flipped[flip_i][flip_j] *= -1\n",
    "    return flipped\n",
    "\n",
    "def calc_energy(configuration,J):\n",
    "    nn_spins = neighbors_vec(configuration)\n",
    "#     E = np.sum(-J*configuration*nn_spins)\n",
    "    E = -J*np.sum(nn_spins)\n",
    "#     print(nn_spins,np.sum(nn_spins))\n",
    "    return E\n",
    "\n",
    "def MC_test(config_old,J,beta,status='run'):\n",
    "#     global moves\n",
    "    E_old = calc_energy(config_old,J)\n",
    "    config_new = np.copy(spin_flip(config_old))\n",
    "    E_new = calc_energy(config_new,J)\n",
    "    E_del = E_new - E_old\n",
    "    if E_del<0: config = np.copy(config_new); E=E_new; print(E_old, E_new,'pass')\n",
    "    else:\n",
    "        p = np.exp(-beta*E_del)\n",
    "        r = random.random()\n",
    "        if r<p: config = np.copy(config_new); E=E_new; print(E_old, E_new,'move')\n",
    "        else: config = np.copy(config_old); E=E_old; print(E_old, E_new, E,'fail')\n",
    "    return config_old\n",
    "\n",
    "def MC_step(config_old,J,beta,status='run'):\n",
    "    global moves\n",
    "    E_old = calc_energy(config_old,J)\n",
    "    config_new = np.copy(spin_flip(config_old))\n",
    "    E_new = calc_energy(config_new,J)\n",
    "    E_del = E_new - E_old\n",
    "    if E_del<0: config = np.copy(config_new); E=E_new\n",
    "    else:\n",
    "        p = np.exp(-beta*E_del)\n",
    "        r = random.random()\n",
    "        if r<p: config = np.copy(config_new); E=E_new; moves+=1\n",
    "        else: config = np.copy(config_old); E=E_old\n",
    "    S = np.abs(np.sum(config))/config.shape[0]**2\n",
    "    if status==\"init\": return config\n",
    "    else: return config,E,S\n",
    "\n",
    "# magnetization - take average once thermalized\n",
    "#     print(np.sum(config)-np.sum(config_old))\n",
    "#     S = np.abs(np.sum(config))/config.shape[0]**2\n",
    "    \n",
    "'''\n",
    "Need to store: \n",
    "magnetization - here\n",
    "magnetic susceptibility - calculated from the magnetization at a given T (ouside function)\n",
    "specific heat\n",
    "energy-- already calculated above\n",
    "'''"
   ]
  },
  {
   "cell_type": "code",
   "execution_count": 38,
   "metadata": {
    "collapsed": false
   },
   "outputs": [],
   "source": [
    "# Set system parameters\n",
    "J = 1\n",
    "beta= 0.1\n",
    "\n",
    "# Set simulation parameters\n",
    "moves = 0\n",
    "N_init = 0\n",
    "N_run = 1e4\n",
    "p = 0.5\n",
    "L = 10\n",
    "\n",
    "lattice0 = init_lattice(L)"
   ]
  },
  {
   "cell_type": "markdown",
   "metadata": {},
   "source": [
    "Something is not working-- can use this site for reference to troubleshoot:\n",
    "https://github.com/prtkm/ising-monte-carlo/blob/master/ising-monte-carlo.org\n",
    "\n",
    "I must be calculating something in my energy wrong-- because it keeps oscillating around 0, even though it is clearly not in its ground state?"
   ]
  },
  {
   "cell_type": "code",
   "execution_count": 39,
   "metadata": {
    "collapsed": false,
    "scrolled": false
   },
   "outputs": [
    {
     "data": {
      "image/png": "[encoded data removed]",
      "text/plain": [
       "<matplotlib.figure.Figure at 0x11adcca58>"
      ]
     },
     "metadata": {},
     "output_type": "display_data"
    },
    {
     "data": {
      "image/png": "[encoded data removed]",
      "text/plain": [
       "<matplotlib.figure.Figure at 0x11a6acdd8>"
      ]
     },
     "metadata": {},
     "output_type": "display_data"
    },
    {
     "name": "stderr",
     "output_type": "stream",
     "text": [
      "/Users/shannonmoran/miniconda3/lib/python3.5/site-packages/matplotlib/axes/_axes.py:545: UserWarning: No labelled objects found. Use label='...' kwarg on individual plots.\n",
      "  warnings.warn(\"No labelled objects found. \"\n"
     ]
    },
    {
     "data": {
      "image/png": "[encoded data removed]",
      "text/plain": [
       "<matplotlib.figure.Figure at 0x11a62aac8>"
      ]
     },
     "metadata": {},
     "output_type": "display_data"
    }
   ],
   "source": [
    "plt.imshow(lattice0,cmap='nipy_spectral',interpolation=\"none\")\n",
    "plt.title('Site spin value')\n",
    "plt.colorbar()\n",
    "plt.show()\n",
    "\n",
    "lattice = np.copy(lattice0)\n",
    "\n",
    "def MC_simulate(lattice,N_run,J,beta):\n",
    "    global moves\n",
    "    E = []\n",
    "    S = []\n",
    "    step = 0\n",
    "    moves = 0\n",
    "    while step<N_run:\n",
    "        step+=1\n",
    "        lattice,Ei,Si = np.copy(MC_step(lattice,J,beta))\n",
    "        E.append(Ei)\n",
    "        S.append(Si)\n",
    "#     print('Move acceptance: %s'%(moves/N_run))\n",
    "    return lattice,E,S\n",
    "\n",
    "beta_range = [0.5, 2.27, 5.0]\n",
    "MC_steps = np.arange(N_run)\n",
    "for b in beta_range:\n",
    "    _,E,S = np.copy(MC_simulate(lattice,N_run,J,b))\n",
    "    plt.plot(MC_steps,S,label='beta: %s'%b)\n",
    "plt.show()\n",
    "plt.legend()\n",
    "\n",
    "# plt.imshow(lattice,cmap='nipy_spectral',interpolation=\"none\")\n",
    "# plt.title('Site spin value, %0.0e MC steps' %N_run)\n",
    "# plt.colorbar()\n",
    "# plt.show()\n",
    "\n",
    "# plt.plot(MC_steps,E)\n",
    "# plt.show()\n",
    "# plt.plot(MC_steps,S)\n",
    "# plt.show()"
   ]
  },
  {
   "cell_type": "markdown",
   "metadata": {},
   "source": [
    "## Compute system properties versus T\n",
    "\n",
    "Compute the expectation values of the absolute value of the magnetization, magnetic susceptibility, the energy, and the specific heat as a function of temperature.\n",
    "\n",
    "The expectation value of a quantity $A$ at a finite temperature $T$ is given by a sum over all states in the simulation:\n",
    "$$ \\langle A \\rangle = \\frac{1}{Z}\\sum_i A_i exp(\\beta E_i) $$\n",
    "\n",
    "where $\\beta=1/kT$, $A_i$ is the value of the quantity $A$ in the configuration $i$ with energy $E_i$.\n",
    "\n",
    "The partition function is given by:\n",
    "$$ Z = \\sum_i exp(-\\beta E_i) $$\n",
    "\n",
    "This normalizes the probabilities $p_i=exp(\\beta E_i)/Z$."
   ]
  },
  {
   "cell_type": "code",
   "execution_count": null,
   "metadata": {
    "collapsed": true
   },
   "outputs": [],
   "source": [
    "'''\n",
    "Open question: do we need to thermalize the system?\n",
    "magnetization\n",
    "magnetic susceptibility\n",
    "specific heat\n",
    "energy-- already calculated above\n",
    "'''\n",
    "Z = np.sum(np.exp(-beta*E))"
   ]
  },
  {
   "cell_type": "markdown",
   "metadata": {},
   "source": [
    "## Find phase transition locations\n",
    "\n",
    "Find the approximate location of the phase transition on small lattices.\n",
    "\n",
    "Use the Binder cumulant method. Can start with a pretty small system."
   ]
  },
  {
   "cell_type": "code",
   "execution_count": null,
   "metadata": {
    "collapsed": true
   },
   "outputs": [],
   "source": []
  }
 ],
 "metadata": {
  "kernelspec": {
   "display_name": "Python 3",
   "language": "python",
   "name": "python3"
  },
  "language_info": {
   "codemirror_mode": {
    "name": "ipython",
    "version": 3
   },
   "file_extension": ".py",
   "mimetype": "text/x-python",
   "name": "python",
   "nbconvert_exporter": "python",
   "pygments_lexer": "ipython3",
   "version": "3.5.3"
  }
 },
 "nbformat": 4,
 "nbformat_minor": 0
}
