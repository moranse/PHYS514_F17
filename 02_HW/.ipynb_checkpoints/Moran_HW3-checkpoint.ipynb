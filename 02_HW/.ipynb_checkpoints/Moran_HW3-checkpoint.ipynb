{
 "cells": [
  {
   "cell_type": "markdown",
   "metadata": {},
   "source": [
    "Shannon Moran <br>\n",
    "Phys 514 <br>\n",
    "HW 3<br>\n",
    "Due: Sept 28"
   ]
  },
  {
   "cell_type": "markdown",
   "metadata": {},
   "source": [
    "### Time check\n",
    "* 1/2) 1:40\n",
    "* 3) 3:00\n",
    "* 4) 1:00\n",
    "* Final checking, updates, clean-up) 2:30\n",
    "\n",
    "Questions to ask:\n",
    "* Things are exploding-- is it an option to re-write rebox so that it loops multiple times over the box to correct for explosions?"
   ]
  },
  {
   "cell_type": "markdown",
   "metadata": {},
   "source": [
    "## Import required packages"
   ]
  },
  {
   "cell_type": "code",
   "execution_count": 1,
   "metadata": {
    "collapsed": true
   },
   "outputs": [],
   "source": [
    "%matplotlib inline\n",
    "import numpy as np\n",
    "from math import *\n",
    "import matplotlib.pyplot as plt\n",
    "from matplotlib import animation\n",
    "import time"
   ]
  },
  {
   "cell_type": "markdown",
   "metadata": {},
   "source": [
    "## Lennard Jones code supplied"
   ]
  },
  {
   "cell_type": "code",
   "execution_count": 2,
   "metadata": {
    "collapsed": false
   },
   "outputs": [],
   "source": [
    "def initialize_positions_and_velocities(rx,ry,vx,vy, Nx, Ny,L):\n",
    "    dx=L/Nx;\n",
    "    dy=L/Ny;\n",
    "    np.random.seed(0)\n",
    "    for i in range(Nx):\n",
    "        for j in range(Ny):\n",
    "            rx[i*Ny+j]=dx*(i+0.5)\n",
    "            ry[i*Ny+j]=dy*(j+0.5)\n",
    "\n",
    "            u=np.random.random() #This is box muller\n",
    "            v=np.random.random()\n",
    "            # Solves for velocities drawn from probability distribution (1.13)\n",
    "            vx[i*Ny+j]=np.sqrt(-2*np.log(u))*np.cos(2.*np.pi*v)\n",
    "            vy[i*Ny+j]=np.sqrt(-2*np.log(u))*np.sin(2.*np.pi*v)\n",
    "    #subtract net velocity to avoid global drift\n",
    "    vxav=sum(vx)/vx.size\n",
    "    vyav=sum(vy)/vx.size\n",
    "    vx-=vxav\n",
    "    vy-=vyav\n",
    "\n",
    "def potential(rsq):\n",
    "    rsqinv=1./rsq\n",
    "    r6inv=rsqinv*rsqinv*rsqinv\n",
    "    return -4*r6inv*(1-r6inv)\n",
    "\n",
    "def compute_kinetic_energy(vx,vy):\n",
    "    return 0.5*sum(vx*vx+vy*vy)\n",
    "\n",
    "def compute_potential_energy(rx,ry,rcut,L):\n",
    "    rcutsq=rcut*rcut\n",
    "    rcutv=potential(rcutsq) #shift the potential to avoid jump at rc\n",
    "    Epot=0. \n",
    "    for i in range(rx.size):\n",
    "        for j in range(i):\n",
    "            dx=rx[i]-rx[j]\n",
    "            dy=ry[i]-ry[j]\n",
    "            #minimum image convention\n",
    "            if(dx > L/2.): dx=dx-L\n",
    "            if(dx <-L/2.): dx=dx+L\n",
    "            if(dy > L/2.): dy=dy-L\n",
    "            if(dy <-L/2.): dy=dy+L\n",
    "            #print dx,dy\n",
    "            #compute the distance\n",
    "            rsq=dx*dx+dy*dy\n",
    "            if(rsq < rcutsq):\n",
    "                Epot+=potential(rsq)-rcutv\n",
    "            return Epot \n",
    "        \n",
    "def compute_forces(rx,ry,dV_drx, dV_dry, N, L, rcut):\n",
    "    rcutsq=rcut*rcut\n",
    "    for i in range(N):\n",
    "        for j in range(i):\n",
    "            dx=rx[i]-rx[j] ; \n",
    "            dy=ry[i]-ry[j] ; \n",
    "            #minimum image convention\n",
    "            if(dx > L/2.): dx=dx-L\n",
    "            if(dx <-L/2.): dx=dx+L\n",
    "            if(dy > L/2.): dy=dy-L\n",
    "            if(dy <-L/2.): dy=dy+L\n",
    "            #compute the distance\n",
    "            rsq=dx*dx+dy*dy\n",
    "            #check if we are < the cutoff radius\n",
    "            if(rsq < rcutsq):\n",
    "                #here is the call of the force calculation\n",
    "                dV_dr=force(rsq)\n",
    "\n",
    "                #here the force is being added to the particle. Note the additional dx\n",
    "                dV_drx[i]+=dx*dV_dr\n",
    "                dV_drx[j]-=dx*dV_dr\n",
    "                dV_dry[i]+=dy*dV_dr\n",
    "                dV_dry[j]-=dy*dV_dr\n",
    "            \n",
    "def euler(rx,ry,vx,vy,dV_drx,dV_dry,dt):\n",
    "    #update the positions\n",
    "    rx+=dt*vx\n",
    "    ry+=dt*vy\n",
    "\n",
    "    #update the velocities\n",
    "    vx-=dt*dV_drx\n",
    "    vy-=dt*dV_dry\n",
    "\n",
    "#put back into box:\n",
    "def rebox_old(rx,ry,L):\n",
    "    for i in range(rx.size):\n",
    "        if rx[i] > L:\n",
    "            rx[i]=rx[i]-L\n",
    "        if rx[i] < 0:\n",
    "            rx[i]=rx[i]+L\n",
    "        if ry[i] > L:\n",
    "            ry[i]=ry[i]-L\n",
    "        if ry[i] < 0:\n",
    "            ry[i]=ry[i]+L\n",
    "    \n",
    "#put back into box:\n",
    "def rebox(rx,ry,L):\n",
    "    for i in range(rx.size):\n",
    "        n = floor(abs(rx[i]/L))\n",
    "        if rx[i] > L:\n",
    "            n = floor(rx[i]/L)\n",
    "            rx[i]=rx[i]-n*L\n",
    "        if rx[i] < 0:\n",
    "            n = ceil(abs(rx[i]/L))\n",
    "            rx[i]=rx[i]+n*L\n",
    "        if ry[i] > L:\n",
    "            n = floor(ry[i]/L)\n",
    "            ry[i]=ry[i]-n*L\n",
    "        if ry[i] < 0:\n",
    "            n = ceil(abs(ry[i]/L))\n",
    "            ry[i]=ry[i]+n*L\n",
    "                \n",
    "def print_result(rxlog,rylog,vxlog,vylog):\n",
    "    fr=open(\"positions.dat\",'w')\n",
    "    fv=open(\"velocities.dat\",'w')\n",
    "\n",
    "    for j in range(rxlog.shape[1]):\n",
    "        for i in range(rxlog.shape[0]):\n",
    "            fr.write(str(rxlog[i,j])+\" \"+str(rylog[i,j])+'\\n')\n",
    "            fv.write(str(vxlog[i,j])+\" \"+str(vylog[i,j])+'\\n')\n",
    "    fr.write('\\n')\n",
    "    fv.write('\\n')"
   ]
  },
  {
   "cell_type": "markdown",
   "metadata": {},
   "source": [
    "## 1: Implement Lennard Jones simulation\n",
    "Lennard Jones potential is given by:\n",
    "$$ U_{ij}^{(LJ)}(r) = 4\\epsilon_{ij}\\left[\\left(\\frac{\\sigma}{r}\\right)^{12}-\\left(\\frac{\\sigma}{r}\\right)^6\\right]$$\n",
    "\n",
    "The force generated by a potential $U(r)$ is simply:\n",
    "$$ F = -\\frac{\\partial U}{\\partial r} $$\n",
    "\n",
    "So the force generated by the Lennard Jones potential is:\n",
    "$$ F(r) = 4\\epsilon \\left(\\frac{6 \\sigma ^6}{r^7}-\\frac{12 \\sigma ^{12}}{r^{13}}\\right) \\left(\\frac{\\sigma ^{12}}{r^{12}}-\\frac{\\sigma ^6}{r^6}\\right) $$\n",
    "\n",
    "This is solved easily enough by hand, or even more easily with Mathematica. ;)"
   ]
  },
  {
   "cell_type": "code",
   "execution_count": 3,
   "metadata": {
    "collapsed": true
   },
   "outputs": [],
   "source": [
    "def force(rsq):\n",
    "    '''\n",
    "    Implement the force equation here. Note that the force is minus the derivative of the potential.\n",
    "    What is passed into the function is the square of the interparticle distance.\n",
    "    '''\n",
    "    # Set constants\n",
    "    epsilon = 4\n",
    "    sigma = 1\n",
    "    r = sqrt(rsq)\n",
    "    \n",
    "    # Solve for force\n",
    "    #dV_dr = 4*epsilon*(6*sigma**6/r**6-12*sigma**12/r**12)*(sigma**12/r**12-sigma**6/r**6)\n",
    "    dV_dr = (48*epsilon)/r**2*((sigma/r)**12-0.5*(sigma/r)**6)*r\n",
    "    return dV_dr"
   ]
  },
  {
   "cell_type": "code",
   "execution_count": 4,
   "metadata": {
    "collapsed": false
   },
   "outputs": [
    {
     "name": "stdout",
     "output_type": "stream",
     "text": [
      "-6.363961030678926\n",
      "-0.4375\n"
     ]
    }
   ],
   "source": [
    "a = force(2)\n",
    "b = potential(2)\n",
    "print(a)\n",
    "print(b)"
   ]
  },
  {
   "cell_type": "markdown",
   "metadata": {},
   "source": [
    "## 2: Replace the forward Euler method with a velocity verlet algorithm\n",
    "Check that the total energy stays constant as a function of time, at least for\n",
    "short times."
   ]
  },
  {
   "cell_type": "code",
   "execution_count": 5,
   "metadata": {
    "collapsed": true
   },
   "outputs": [],
   "source": [
    "# Problem 2: Implement velocity verlet algorithm     \n",
    "def verlet_positions(rx,ry,vx,vy,dV_drx,dV_dry,dt):\n",
    "    #update the positions\n",
    "    rx += dt*vx + 0.5*dt**2*(-dV_drx)\n",
    "    ry += dt*vy + 0.5*dt**2*(-dV_dry)\n",
    "    vx += 0.5*dt*(dV_drx)\n",
    "    vy += 0.5*dt*(dV_dry)\n",
    "    \n",
    "def verlet_velocity(vx,vy,dV_drx,dV_dry,dt):\n",
    "    #update the velocities\n",
    "    vx += 0.5*dt*(dV_drx)\n",
    "    vy += 0.5*dt*(dV_dry)"
   ]
  },
  {
   "cell_type": "markdown",
   "metadata": {},
   "source": [
    "In the provided code, the simulation was run for 10k steps at dt=0.001. This translates to 10 time units.\n",
    "\n",
    "I found this large of a dt to yield unstable results. Here, I decrease my dt to 10^(-4)."
   ]
  },
  {
   "cell_type": "code",
   "execution_count": 10,
   "metadata": {
    "collapsed": false,
    "scrolled": false
   },
   "outputs": [
    {
     "name": "stdout",
     "output_type": "stream",
     "text": [
      "100000\n",
      "0 0.0 24.612343227 24.612343227\n"
     ]
    },
    {
     "data": {
      "image/png": "[encoded data removed]",
      "text/plain": [
       "<matplotlib.figure.Figure at 0x10aeb2780>"
      ]
     },
     "metadata": {},
     "output_type": "display_data"
    },
    {
     "name": "stdout",
     "output_type": "stream",
     "text": [
      "1000 0.0 24.612343227 24.612343227\n",
      "2000 0.0 24.612343227 24.612343227\n",
      "3000 0.0 24.612343227 24.612343227\n",
      "4000 0.0 24.612343227 24.612343227\n",
      "5000 0.0 24.612343227 24.612343227\n"
     ]
    },
    {
     "data": {
      "image/png": "[encoded data removed]",
      "text/plain": [
       "<matplotlib.figure.Figure at 0x10af09d30>"
      ]
     },
     "metadata": {},
     "output_type": "display_data"
    },
    {
     "name": "stdout",
     "output_type": "stream",
     "text": [
      "6000 0.0 24.612343227 24.612343227\n",
      "7000 0.0 24.6129565319 24.6129565319\n",
      "8000 0.0 24.7218479835 24.7218479835\n",
      "9000 0.0 25.0092809367 25.0092809367\n",
      "10000 0.0 25.9456618787 25.9456618787\n"
     ]
    },
    {
     "data": {
      "image/png": "[encoded data removed]",
      "text/plain": [
       "<matplotlib.figure.Figure at 0x10c36d828>"
      ]
     },
     "metadata": {},
     "output_type": "display_data"
    },
    {
     "name": "stdout",
     "output_type": "stream",
     "text": [
      "11000 0.0 26.5420632824 26.5420632824\n",
      "12000 0.0 27.4578525436 27.4578525436\n",
      "13000 0.0 26.2104527864 26.2104527864\n",
      "14000 0.0 27.3054768398 27.3054768398\n",
      "15000 0.0 25.800879558 25.800879558\n"
     ]
    },
    {
     "data": {
      "image/png": "[encoded data removed]",
      "text/plain": [
       "<matplotlib.figure.Figure at 0x10c41d438>"
      ]
     },
     "metadata": {},
     "output_type": "display_data"
    },
    {
     "name": "stdout",
     "output_type": "stream",
     "text": [
      "16000 0.0 26.0973533122 26.0973533122\n",
      "17000 0.0 25.1938401281 25.1938401281\n",
      "18000 0.0 24.9371163582 24.9371163582\n",
      "19000 0.0 24.8959217175 24.8959217175\n",
      "20000 0.0 24.9848294418 24.9848294418\n"
     ]
    },
    {
     "data": {
      "image/png": "[encoded data removed]",
      "text/plain": [
       "<matplotlib.figure.Figure at 0x10c2d3d68>"
      ]
     },
     "metadata": {},
     "output_type": "display_data"
    },
    {
     "name": "stdout",
     "output_type": "stream",
     "text": [
      "21000 0.0 25.2892998941 25.2892998941\n",
      "22000 0.0 25.8682313763 25.8682313763\n",
      "23000 0.0 27.1830726319 27.1830726319\n",
      "24000 0.0 26.6025892882 26.6025892882\n",
      "25000 0.0 28.203975333 28.203975333\n"
     ]
    },
    {
     "data": {
      "image/png": "[encoded data removed]",
      "text/plain": [
       "<matplotlib.figure.Figure at 0x10613a4a8>"
      ]
     },
     "metadata": {},
     "output_type": "display_data"
    },
    {
     "name": "stdout",
     "output_type": "stream",
     "text": [
      "26000 0.0 28.0507478265 28.0507478265\n",
      "27000 0.0 30.3569601102 30.3569601102\n",
      "28000 0.0 27.8495433732 27.8495433732\n",
      "29000 0.0 34.0867640639 34.0867640639\n",
      "30000 0.0 29.6162188337 29.6162188337\n"
     ]
    },
    {
     "data": {
      "image/png": "[encoded data removed]",
      "text/plain": [
       "<matplotlib.figure.Figure at 0x10c2e14a8>"
      ]
     },
     "metadata": {},
     "output_type": "display_data"
    },
    {
     "name": "stdout",
     "output_type": "stream",
     "text": [
      "31000 0.0 31.5204423828 31.5204423828\n",
      "32000 0.0 26.1798181624 26.1798181624\n",
      "33000 0.0 28.8488031082 28.8488031082\n",
      "34000 0.0 27.7845854757 27.7845854757\n",
      "35000 0.0 28.8184089349 28.8184089349\n"
     ]
    },
    {
     "data": {
      "image/png": "[encoded data removed]",
      "text/plain": [
       "<matplotlib.figure.Figure at 0x1061eec18>"
      ]
     },
     "metadata": {},
     "output_type": "display_data"
    },
    {
     "name": "stdout",
     "output_type": "stream",
     "text": [
      "36000 0.0 28.0430813054 28.0430813054\n",
      "37000 0.0 28.7086363332 28.7086363332\n",
      "38000 0.0 28.9665523929 28.9665523929\n",
      "39000 0.0 28.2481004111 28.2481004111\n",
      "40000 0.0 27.7845181467 27.7845181467\n"
     ]
    },
    {
     "data": {
      "image/png": "[encoded data removed]",
      "text/plain": [
       "<matplotlib.figure.Figure at 0x10c6e3710>"
      ]
     },
     "metadata": {},
     "output_type": "display_data"
    },
    {
     "name": "stdout",
     "output_type": "stream",
     "text": [
      "41000 0.0 26.9190858975 26.9190858975\n",
      "42000 0.0 26.6806848677 26.6806848677\n",
      "43000 0.0 26.9429338261 26.9429338261\n",
      "44000 0.0 28.1054264911 28.1054264911\n",
      "45000 0.0 26.8578305497 26.8578305497\n"
     ]
    },
    {
     "data": {
      "image/png": "[encoded data removed]",
      "text/plain": [
       "<matplotlib.figure.Figure at 0x10c8982e8>"
      ]
     },
     "metadata": {},
     "output_type": "display_data"
    },
    {
     "name": "stdout",
     "output_type": "stream",
     "text": [
      "46000 0.0 29.9235851722 29.9235851722\n",
      "47000 0.0 26.7133308495 26.7133308495\n",
      "48000 0.0 30.1284978112 30.1284978112\n",
      "49000 0.0 26.4206539666 26.4206539666\n",
      "50000 0.0 28.7593596246 28.7593596246\n"
     ]
    },
    {
     "data": {
      "image/png": "[encoded data removed]",
      "text/plain": [
       "<matplotlib.figure.Figure at 0x10c952828>"
      ]
     },
     "metadata": {},
     "output_type": "display_data"
    },
    {
     "name": "stdout",
     "output_type": "stream",
     "text": [
      "51000 0.0 28.7289374987 28.7289374987\n",
      "52000 0.0 27.3726805894 27.3726805894\n",
      "53000 0.0 27.4068382736 27.4068382736\n",
      "54000 0.0 27.7974016069 27.7974016069\n",
      "55000 0.0 28.5024655958 28.5024655958\n"
     ]
    },
    {
     "data": {
      "image/png": "[encoded data removed]",
      "text/plain": [
       "<matplotlib.figure.Figure at 0x10cb3f710>"
      ]
     },
     "metadata": {},
     "output_type": "display_data"
    },
    {
     "name": "stdout",
     "output_type": "stream",
     "text": [
      "56000 0.0 30.5716785779 30.5716785779\n",
      "57000 0.0 31.6518152562 31.6518152562\n",
      "58000 0.0 35.2140534725 35.2140534725\n",
      "59000 0.0 36.9312666744 36.9312666744\n",
      "60000 0.0 35.635870226 35.635870226\n"
     ]
    },
    {
     "data": {
      "image/png": "[encoded data removed]",
      "text/plain": [
       "<matplotlib.figure.Figure at 0x10cbee3c8>"
      ]
     },
     "metadata": {},
     "output_type": "display_data"
    },
    {
     "name": "stdout",
     "output_type": "stream",
     "text": [
      "61000 0.0 35.4516689611 35.4516689611\n",
      "62000 0.0 34.6397146278 34.6397146278\n",
      "63000 0.0 34.6380783508 34.6380783508\n",
      "64000 0.0 35.3857993479 35.3857993479\n",
      "65000 0.0 38.9449740473 38.9449740473\n"
     ]
    },
    {
     "data": {
      "image/png": "[encoded data removed]",
      "text/plain": [
       "<matplotlib.figure.Figure at 0x10cca9828>"
      ]
     },
     "metadata": {},
     "output_type": "display_data"
    },
    {
     "name": "stdout",
     "output_type": "stream",
     "text": [
      "66000 0.0 33.7393788545 33.7393788545\n",
      "67000 0.0 35.6258581041 35.6258581041\n",
      "68000 0.0 35.3348629328 35.3348629328\n",
      "69000 0.0 31.2492585594 31.2492585594\n",
      "70000 0.0 29.5401661582 29.5401661582\n"
     ]
    },
    {
     "data": {
      "image/png": "[encoded data removed]",
      "text/plain": [
       "<matplotlib.figure.Figure at 0x10cd6e710>"
      ]
     },
     "metadata": {},
     "output_type": "display_data"
    },
    {
     "name": "stdout",
     "output_type": "stream",
     "text": [
      "71000 0.0 29.1462200288 29.1462200288\n",
      "72000 0.0 27.4093865662 27.4093865662\n",
      "73000 0.0 26.743058903 26.743058903\n",
      "74000 0.0 26.7969920334 26.7969920334\n",
      "75000 0.0 27.6744914296 27.6744914296\n"
     ]
    },
    {
     "data": {
      "image/png": "[encoded data removed]",
      "text/plain": [
       "<matplotlib.figure.Figure at 0x10ccb2668>"
      ]
     },
     "metadata": {},
     "output_type": "display_data"
    },
    {
     "name": "stdout",
     "output_type": "stream",
     "text": [
      "76000 0.0 30.5745410709 30.5745410709\n",
      "77000 0.0 28.2713568819 28.2713568819\n",
      "78000 0.0 30.5109230979 30.5109230979\n",
      "79000 0.0 30.0242822137 30.0242822137\n",
      "80000 0.0 29.4582695379 29.4582695379\n"
     ]
    },
    {
     "data": {
      "image/png": "[encoded data removed]",
      "text/plain": [
       "<matplotlib.figure.Figure at 0x10c9707f0>"
      ]
     },
     "metadata": {},
     "output_type": "display_data"
    },
    {
     "name": "stdout",
     "output_type": "stream",
     "text": [
      "81000 0.0 28.2951357954 28.2951357954\n",
      "82000 0.0 27.8504220756 27.8504220756\n",
      "83000 0.0 28.5379390751 28.5379390751\n",
      "84000 0.0 28.6004399838 28.6004399838\n",
      "85000 0.0 29.8266194134 29.8266194134\n"
     ]
    },
    {
     "data": {
      "image/png": "[encoded data removed]",
      "text/plain": [
       "<matplotlib.figure.Figure at 0x104cbd390>"
      ]
     },
     "metadata": {},
     "output_type": "display_data"
    },
    {
     "name": "stdout",
     "output_type": "stream",
     "text": [
      "86000 0.0 29.1708743669 29.1708743669\n",
      "87000 0.0 27.3386827923 27.3386827923\n",
      "88000 0.0 28.7425627415 28.7425627415\n",
      "89000 0.0 27.9074854231 27.9074854231\n",
      "90000 0.0 28.5332436354 28.5332436354\n"
     ]
    },
    {
     "data": {
      "image/png": "[encoded data removed]",
      "text/plain": [
       "<matplotlib.figure.Figure at 0x106171390>"
      ]
     },
     "metadata": {},
     "output_type": "display_data"
    },
    {
     "name": "stdout",
     "output_type": "stream",
     "text": [
      "91000 0.0 29.6541746682 29.6541746682\n",
      "92000 0.0 31.2350095895 31.2350095895\n",
      "93000 0.0 31.4653980021 31.4653980021\n",
      "94000 0.0 32.9525349379 32.9525349379\n",
      "95000 0.0 32.6085795858 32.6085795858\n"
     ]
    },
    {
     "data": {
      "image/png": "[encoded data removed]",
      "text/plain": [
       "<matplotlib.figure.Figure at 0x10cb1e710>"
      ]
     },
     "metadata": {},
     "output_type": "display_data"
    },
    {
     "name": "stdout",
     "output_type": "stream",
     "text": [
      "96000 0.0 36.1716993838 36.1716993838\n",
      "97000 0.0 34.097197151 34.097197151\n",
      "98000 0.0 35.0493090803 35.0493090803\n",
      "99000 0.0 33.4492013405 33.4492013405\n"
     ]
    }
   ],
   "source": [
    "# Defines location in phase space; initally all values set to 5\n",
    "Nx=5; Ny=5; N=Nx*Ny\n",
    "#L=11.22\n",
    "# crystal when L = 5\n",
    "L = 25\n",
    "\n",
    "# not used anywhere yet\n",
    "T = 1 \n",
    "k = 1.38e-23\n",
    "\n",
    "# Simulation parameters\n",
    "rcut=2.5 # a usual choice for the cutoff radius\n",
    "dt=1e-4\n",
    "t_run = 10\n",
    "Nstep=int(t_run/dt)\n",
    "viz_jump = 1000\n",
    "print(Nstep)\n",
    "\n",
    "vx=np.zeros(N)\n",
    "vy=np.zeros(N)\n",
    "rx=np.zeros(N)\n",
    "ry=np.zeros(N)\n",
    "\n",
    "rxlog=np.zeros([Nstep,N])\n",
    "rylog=np.zeros([Nstep,N])\n",
    "vxlog=np.zeros([Nstep,N])\n",
    "vylog=np.zeros([Nstep,N])\n",
    "\n",
    "initialize_positions_and_velocities(rx,ry,vx,vy,Nx,Ny,L)\n",
    "\n",
    "for i in range(Nstep):\n",
    "    dV_drx=np.zeros(N)\n",
    "    dV_dry=np.zeros(N)\n",
    "\n",
    "    # propagate using forward Euler\n",
    "#     compute_forces(rx,ry,dV_drx,dV_dry, N, L, rcut)\n",
    "#     euler(rx,ry,vx,vy,dV_drx,dV_dry,dt)\n",
    "#     rebox(rx,ry,L)\n",
    "    \n",
    "    # propagate using velocity Verlet\n",
    "    verlet_positions(rx,ry,vx,vy,dV_drx,dV_dry,dt)\n",
    "    rebox(rx,ry,L)\n",
    "    compute_forces(rx,ry,dV_drx,dV_dry, N, L, rcut)\n",
    "    # derive a(t+dt) from the interaction potential using the updated positions    \n",
    "    verlet_velocity(vx,vy,dV_drx,dV_dry,dt)\n",
    "\n",
    "    #keep track for printing\n",
    "    rxlog[i]=rx\n",
    "    rylog[i]=ry\n",
    "    vxlog[i]=vx\n",
    "    vylog[i]=vy\n",
    "\n",
    "    #get some observables\n",
    "    Epot=compute_potential_energy(rx,ry,rcut,L)\n",
    "    Ekin=compute_kinetic_energy(vx,vy)\n",
    "    if i%viz_jump==0:\n",
    "        print(i,Epot,Ekin,Epot+Ekin)\n",
    "#     if i%(5*viz_jump)==0:\n",
    "#         ax = plt.subplot(111)\n",
    "#         ax.scatter(rx,ry)\n",
    "#         ax.set_ylim(0,L)\n",
    "#         ax.set_xlim(0,L)\n",
    "#         plt.show()"
   ]
  },
  {
   "cell_type": "code",
   "execution_count": 15,
   "metadata": {
    "collapsed": false
   },
   "outputs": [
    {
     "data": {
      "image/png": "[encoded data removed]",
      "text/plain": [
       "<matplotlib.figure.Figure at 0x10c6d3128>"
      ]
     },
     "metadata": {},
     "output_type": "display_data"
    }
   ],
   "source": [
    "fig = plt.figure()\n",
    "ax = plt.axes(xlim=(0, L), ylim=(0, L))\n",
    "# particles, = ax.scatter([],[])\n",
    "particles, = ax.plot([], [], 'bo', ms=6)\n",
    "\n",
    "def init():\n",
    "    particles.set_data([], [])\n",
    "    return particles,\n",
    "\n",
    "def pull_positions(i):\n",
    "    global viz_jump, rxlog, rylog\n",
    "#    viz_jump = 200\n",
    "    j = i*viz_jump\n",
    "    ms = 6\n",
    "    particles.set_data(rxlog[j],rylog[j])\n",
    "    particles.set_markersize(ms)\n",
    "    return particles,\n",
    "\n",
    "ani = animation.FuncAnimation(fig, pull_positions, frames=np.arange(0,int(Nstep/viz_jump)),init_func=init)     \n",
    "\n",
    "# Need to have ffmpeg installed to be able to use this\n",
    "ani.save('LJ_liquid.mp4', fps=15, extra_args=['-vcodec', 'libx264'])"
   ]
  },
  {
   "cell_type": "code",
   "execution_count": 14,
   "metadata": {
    "collapsed": false
   },
   "outputs": [
    {
     "data": {
      "text/html": [
       "<video width=\"432.0\" height=\"288.0\" controls autoplay loop>\n",
       "  <source type=\"video/mp4\" src=\"data:video/mp4;base64,AAAAHGZ0eXBNNFYgAAACAGlzb21pc28yYXZjMQAAAAhmcmVlAACdyW1kYXQAAAKtBgX//6ncRem9\n",
       "5tlIt5Ys2CDZI+7veDI2NCAtIGNvcmUgMTQ4IHIyNzk1IGFhYTlhYTggLSBILjI2NC9NUEVHLTQg\n",
       "QVZDIGNvZGVjIC0gQ29weWxlZnQgMjAwMy0yMDE3IC0gaHR0cDovL3d3dy52aWRlb2xhbi5vcmcv\n",
       "eDI2NC5odG1sIC0gb3B0aW9uczogY2FiYWM9MSByZWY9MyBkZWJsb2NrPTE6MDowIGFuYWx5c2U9\n",
       "MHgzOjB4MTEzIG1lPWhleCBzdWJtZT03IHBzeT0xIHBzeV9yZD0xLjAwOjAuMDAgbWl4ZWRfcmVm\n",
       "PTEgbWVfcmFuZ2U9MTYgY2hyb21hX21lPTEgdHJlbGxpcz0xIDh4OGRjdD0xIGNxbT0wIGRlYWR6\n",
       "b25lPTIxLDExIGZhc3RfcHNraXA9MSBjaHJvbWFfcXBfb2Zmc2V0PS0yIHRocmVhZHM9NiBsb29r\n",
       "YWhlYWRfdGhyZWFkcz0xIHNsaWNlZF90aHJlYWRzPTAgbnI9MCBkZWNpbWF0ZT0xIGludGVybGFj\n",
       "ZWQ9MCBibHVyYXlfY29tcGF0PTAgY29uc3RyYWluZWRfaW50cmE9MCBiZnJhbWVzPTMgYl9weXJh\n",
       "bWlkPTIgYl9hZGFwdD0xIGJfYmlhcz0wIGRpcmVjdD0xIHdlaWdodGI9MSBvcGVuX2dvcD0wIHdl\n",
       "aWdodHA9MiBrZXlpbnQ9MjUwIGtleWludF9taW49NSBzY2VuZWN1dD00MCBpbnRyYV9yZWZyZXNo\n",
       "PTAgcmNfbG9va2FoZWFkPTQwIHJjPWNyZiBtYnRyZWU9MSBjcmY9MjMuMCBxY29tcD0wLjYwIHFw\n",
       "bWluPTAgcXBtYXg9NjkgcXBzdGVwPTQgaXBfcmF0aW89MS40MCBhcT0xOjEuMDAAgAAAECdliIQA\n",
       "Ev/+963fgU3AQO1rulc4tMurlDQ9UfaUpni2SAAAAwADjiHS/nRbCuzATQOvgcr5C4SfgjfK0LyN\n",
       "Vfk6bpouxGbXrrCVCD0Cr4uBcTpanUcQtXs8PFCt1t1o5zl0ZAksbei+5zvXoB4nRjjEOvl24BP6\n",
       "hu4QVuj6ilou2JMC72eRCXqyENqDBNshFckRLhk9LWx05sNWYdaOy6A9HpjabYXSTvwStInkOaM3\n",
       "QMyA5fSFnJN4e1QujjGX3E+mIQ/bHkAmwdCKH3EJ+WmhJ7+o2V9JdzfVMFF7/6wGXHmayqSTKFHj\n",
       "7HLVg98RNBbvxsi+tVHyrOMhGEbKECOj7J0oL7eH/yULZAu9U3smY3UXDzseCyvKesglAXBYh1lH\n",
       "ycY7wrnuOf5+ahBitS2zsx9dofSU6rdoo3wlQkmW7RVjlMbm93LRaw/76yMvpHYbkiVY5CjgJUE2\n",
       "APUCHqTvR81He73j5K5rvnvOzr5OPG+PVXRmL5fEz4LDBBlq+4nOS3O3e+6PdGmu/S9HyhNZf2ZJ\n",
       "EQAiBO391VX/bFsoLp5R7rSmQ79g0xITbwdGEqkH1apgJPYH0dcD/wLIPDwXdHKMuRJ361hnFmdi\n",
       "Bp0ZLxHhZqlzxqteOGUae6PZPwZNwwYiocVaj6bwQ7BAcHwXofur3Fb2XdUiDo7SG81RQCKYhGbQ\n",
       "j/5jWZ5/3mJbL1fxfUuxS4fYCa6QXFz4dcLBgCV7D9riF2izChbz/7XZpEUiZ/QGzLiASQ1hl9QJ\n",
       "trYiJctidDAmBy5UdcDL9O8XXSaqLm/UJUNo5eOqFLjw5yurxWyqUDFThwtfxZF7pGDUJXNiSGJ3\n",
       "UnAnBmrFOgFhysI+B71CfA8mOUVbqS5uCcCX/N3h/uc/+CMgPDKR0guXiLPmkxfFF9lKii/W6RE+\n",
       "+pVQrKpb4F0wFN7TY42/Py+BFJ3uGRO+vm9u0EChBdzBE76eJ//zPL+ZUUG/curyT1Xgh09Pi2Dl\n",
       "SII3fCvQE40S0KZqIwbDh9czAf1NVDOMPIweo8jlL2Tj8uJ5fp9an3mjM2Gt+8SQG0yV90pKIOJN\n",
       "9z/ePpfVkhTVfTHFJSC0Vavj8Kf4bFswd6t8sSwonhMjcFfP9LBPsySu6J+WCBAaZFClK6UwSYXs\n",
       "pQXM0PutArQWrlXUUMmzUBhOKZHPAAZo7LesCPXd+lK7MwNmKxhzJWGiQr7y8h4Yoki9tivlh8Ga\n",
       "8Wnk54H6NjaxLIgTWnmwgDJEUkf4jwgbXcNQEWdOR1Q0FYi7VVV3y733REflTVBYejuhGGa70AQP\n",
       "3Qk+Kk2ygVJHTIbulAoc986MPMTPzWA49lg8RB02Lxy5zNnY4vJukdInYht18ktn4kHhdvy9M/Yz\n",
       "EQys2UXI//R341cnGSvoCMnX/1IRPm6WZX9a1W54tk3A9QHFULbkH6jszFiXANjOuNs2eR2IHasi\n",
       "HP9WEockY+OEF+R2a7nP6HGWNv/cr3ohNxHgxlDEFldPoeJyM/Zx4M4m+qJAX6BnAlTMInQp19R6\n",
       "PEFTposw5kykj6kZoeYXWNJYI/MbF0NDCHhrobEBnQmNvCAzZnnHoo2NuWnsRCsPuIRqgll8ttsS\n",
       "gpzpMU96x5/UX+fJN9FL2K2vJvNzYfLXp7Kd+7lk3KZ0mUXZ8PwJbj0A+9dLBzfrgvU2jRyZ7y29\n",
       "jxbqakuVvs0rMNU6OnNqDhNkrsG22sKN2FZkqBsAhxxLKyLSKAgU65tpBgPx6yUDeY9O1XQK1Vc+\n",
       "pDxSKgZX2Hu3svX2p8b66eWY1lvbVDzeXihUNbEtqsnCQkUmbXFEpnPKDOI0s5d08Z0lGmiYlred\n",
       "GmbF33UD395VUbani3voSWZmFzRjJ9lgO63Cc7yhFUbMOSMDEuwgmnGi8mLEvoyElghGSIgDRsGQ\n",
       "iL5t4TeWymnkJ1yqHoDTZYXy4PhuA3yZjCkq7o5+kTf2E/QZbXBgTeuHWbOEDxsLvs9P4uyCwkVZ\n",
       "Q2Duw2OFWZbpOD6PLBv7yNdwAIVDOU2PbSLCi0lxFrvQeVuYZ9sGqsNgpJ7DvfICBEv5XphEmlm0\n",
       "XMJtN0ygyVvewPu7eW/Oz5ueMbkhY06P5X/CMRip/QMr5NHLRHDFP4QrYdUO++FYnDfPUco4P1cC\n",
       "rFGVch5Aybs4yNO6111Ffx06HFNyHt5Iufd+CpJ3+mAPeyA+ZYCCDsjRzQP//+kYn0xJaugcbDYX\n",
       "JqK6udAmvQBUel4sfYAZNpCXCHOHwqKBWnOh/5S06m7nZioDnY3K2sNiRfmD/OhargOWd7gI7Yw7\n",
       "NEqzgY+5wze8aNkSI5crBfg4bZWRlcGyyq0IQcKYsjM5qIf97g56J0a/tZuis4g3DXm0W4el9c0n\n",
       "qN+yEdam+lHbYJh7dXr9MVvNaHOFuYaFwLqd/L6FkvKPgUhdmbUbiSTKXuRHNRtJeUgqNtDEIQw4\n",
       "uvkvyL37nkRYeo/uK0CTp06A06d6b9oxoD6K7BXUQNXvYkZXfa3sftHwMoTL8Q/bvy6qKsp5lrCP\n",
       "whRl1jf2K40dJj5w3R+o1CBZwKwBTOLtWnNBh0GeG2yhjMEdymzliEcbqBwg181gXOp3oZGGGPc+\n",
       "ISqTgmzwtn84oZVczwbhtNhYwWOpSo1bFYWbcV0UNgL/3HTq3YkqoBjAEdt5CqMf1eTCNPIFupd3\n",
       "UPw0PelR2UoVqLGuky0YiDCOKOB6wWasJLkwnN+fHWFLjfsWk4Fxhg8QNp8ydiCZwVVceu8MnZ9m\n",
       "A5yRwKPrr/Tfg5di2DWU7gd96yHSR9xvgkPbwzL6y15weiYh+zuykzsnx8TeVKQBtaojYh5ANR+B\n",
       "vO1vspzs+zHDJOVrV5zszO8X6szn5imHhgl6gtwAanuw9hJ0UNlaZ5kCIFPGIH+4CXAMxpRMN/Qz\n",
       "8p/q4pNvlbre91ecR1rGXeNaXDrx7f80WfnDw1VbFiU3PNgKMRIuEgPYdM0Ewc9jaRUMn6aBnD7h\n",
       "c/5d7ht12n+PaxB0W5RqdmKIKNPcqjlqV2kmnaZj0Br2+Zp5KxrwhvR2KaB9bk1n374gMHbAI1G7\n",
       "ogatGEmzfeY3rNFKFyvFlllypOAbNz37bzfNLENHu+6umiGjN91mjyRfHPKqDGhDI+XjuJNkt44x\n",
       "Mkk/hwEMw6WlhLeYWBbcfMQeLc8bAKtxnmEI3tlsj6zdFGACM3ssfzH6glrnVn6imH26k4Hmm2+r\n",
       "5oFfaSyaXx7zC/99WAsmD6ChTHdl5IreKHPZBT4rqz1FDutiMPyAFU5QGLQ3eAuWO38uP9T/gqek\n",
       "oe6fgM2zQ1gSJrszuRzDBj9HKPpY5V+jMIQADMOlY+iqSQoe0aqGaotgEy9MivLzNPYuhLvfN6BV\n",
       "oA9vNR1fGaPmU76xmdm1gRPfCWy52Q8uAUOM/bjwPsXnzoo0wNAS9T/4o9fmcIj2eS+tlBrVIzvd\n",
       "Lkfg20gyzOkWQiLeHUzFhczzIBwdhWIcWkGZiEWJDawm/QFV0UaRAtS//2ZC8VsFnG1zOi6c8HBE\n",
       "h4rn7ulEbmi5jtIXWgK6ikQNvVySX2tL/xfAhQdQnnvHpKTur6Bq7tKVlaY9NMkBHduCErddXZWN\n",
       "dzLgAcuXUFdG/ogtocEEq5BF+d4iwPxjNRi6FZC4nH3yDrGhu+Mlzh113q8bqD8r0KYBmTp5bX+A\n",
       "z5qQGQhphUfvxmDRQgM/6LJXBalOqRMD7ekBW0OlYxPVQ6sjA5TV10aaS2ZcAS6ZXc1GsF+RH4Fj\n",
       "cHAVeXc2VAKfRaS8UdA7JxjvoxH8Ur7Miv9Au4eL/gd9ZXbZR/ZgmZCY7/aXM+NlOZ+aBdoPOzYV\n",
       "VHsFH+iY/uuLT2jO9dUQAAQsZp8O3vIL/zGyur5DWIbpsV3gMTQ6XsMglDztSs5EN6X9Yh0Bfg+O\n",
       "H7oPFazKB816sYmHa7HvlT3nsuUwK/7ixrcJ0w65Zc7ruiW19BZ/9qG0Cf2+B3WfekhSBAAd0RJH\n",
       "oe4ElyAxjMsqlYnVCY9LTlckf6FKGhPKk+1qLzekKFHGALCF2UlDdR1M1w5fcf2+as+fKhDy9rlS\n",
       "4dnPhKhjhE2lK+oxJGF8PEdZaHTn4XurckB3xdWydfswCm6blvibD8aJTXC0elmEMGveYSyqTQIL\n",
       "GjXzcb4UTJs0uks8gx5CC07iRQDoUOXJRVR43IAe12zx24nyQFBo9HywO+tcP7YeF7I+FL5teaGm\n",
       "psewGCtDOEODXVDkln1DQRwpzUYrcSVLrNU/ofCfUwZueIl37By4Lz2HW8hz6312vBvViyzwHQ4d\n",
       "QFtSaU4IZNz3pfrMjeV+i00v3V1eLXQBGYhep6ni5z7cIYXxQRzWMm5LLWy5SKtQRpWq0cjSIZH7\n",
       "YylWIQ5i/whHw2PMOhlFHhencfUKY/wpTWoayZcdnKSTx7ryMu77ilPhEh3KhJGAiw97m3hiGVPS\n",
       "J7OT+Z7d1Wei/DsCt8niD1LIZ4X2w4ADi8XRfWCfHR0AKLmnuY66eF7h53rEX1n+Tx/4PcXh2lSj\n",
       "H8NaUwos/2ymai1PXYApRwJHNx2k5W7EisQ0ERl/0UgOGh6NCZtGgkZL1/mG6raNRXevSAOH0bJS\n",
       "UkvKIbkBp637Y2VpTUKNcaaIu9JJ+WWeqPRwuDHybTZLmIdSAFtv/9a/ASDhOxotqKqwyNMoUp++\n",
       "x1QYsO/vWgQ3OKF+2NwwyQYyEuBNmS3JK7mC0zzVdtnAlknymNTzKDUCG1zWckdm89HgE+xos/fP\n",
       "XzOwAy0lSydta0VvU9yYyq11rmRbdZK+PDWo1wB3DN1AaD9B+GdpUBGd3tAtx/3XhWbJFDEiFxnt\n",
       "J7jGX/OqYSlNh7l9hmvylIoUtXe+3kyCbHAA9zASzzt9lkSF0LX4dVWFA5P/HjfQT0/wE2YOkKAY\n",
       "A8FUAJN714kx3UbDkETlQbgv6LOX8kMNGFxLmz8lHYIsuKYN5wy/Xwz8vTWsFf4re1FNCTNJeyTN\n",
       "+W5OoBcxPMeshgLi/qbyA67vpY4+0KZjddixr4Kgc//UhR6/3psr7AhOHcMC7/9Ur4ST/20IyKSd\n",
       "BIXLs7aq6acvU/jNMbdKfYC5o9vp7uhfbTPaDUgdcMMr2FGtq48t0gDS/fTCr+fS3kanqX3imolR\n",
       "24gW1xzGvbC2cIV4N+OrjYrpF2WsEgW6zTSUzHWch5kWmPlU/d7oMebfjS0mgatP/8UzQVaOaORY\n",
       "GXrJVvE2dG9dDtL9HTNYOKl/1ybks1Dt4Bek7cXcyCsddz6Jxj8hRSYBSlQKCBv8hDoRyu57Yr2h\n",
       "sP+qhzjneDublutBApxY/dA8MSYr9Rnga/SDrjkS45umFGXENIi8glakk+kQOsYuRBQAqycP7ORF\n",
       "0XCgeztagf3kEVk6vaTR4Nd91cWOMR1uejU6Sfj8eqCV7nzo7A/6/CYfPbaBGdYmVg4ckZNOEgMA\n",
       "BoXUQDWZdB12Cq4kkWpTE+aobqgIAYnc6+wFwxqEPl2kfz9iQjE1Yj/OW9RWrHZjIZjDCk9TUb3W\n",
       "BDi4HAYE0ybsxwlYySN2pwdfldEgAAADABVxAAACY0GaImxBL/61KoAfL5fJgi6eJDe9gAGwazvn\n",
       "mtIpH5bDITkwJd1cjgZ2gYIfvtzPKVbhb6Ldpx71PUvoiTFUmrfcuAJjgfaeu6OwBafjo6vdQBHK\n",
       "8ofW5q4aKtNBWYjNyMJekrl9wHT1FYEGyx0soFEW3vYefSll1ooL0o3sy+RtBWFyhtThxJvVmIbf\n",
       "tyX6wHElkSMnsggVpIUv4dexgjuqAKp816Ag4xDZ8Ra2A+YjBwn189kz5pQjlZ3ezNmBd1dX8oy/\n",
       "7gM2hrNFaio/IT4AjURKt8xI+LTMaDJ6VO8biG2+dzsZ3OErmFwU9sHsPFJSYDqQA2tEA+9W/h0M\n",
       "zEMicrhmYOGtLs9/LRrJHp2Vd5oysyEO7Y6di+dBkVLwpvGjdHoz2XjSFbvHEWMzNl3yfmLM3sl1\n",
       "e5N7PhoX021YNDTz1bYtWJeZ3QG6OpBLg4QjUmtHDTMtJkLD0sb6p12JL+L7sJowVhTU2w60hzRP\n",
       "x8dDhJbT4YmaPMJ/vixbE+G7ynUw1oQYhvHqdRijE4jd3FL5t6moGC2DUX+OuLBMfNYfsXRdtEaM\n",
       "OYcr+r48zSLagOQOkjxS8g6JdTgSuHKLfo7noBkJx6Str2f5VE3e3l7+vYtvbed0y9Z2wJZqst34\n",
       "bAUJs98HbnX4AhBNPjGCkjxzdssM+FO7Km+MajMjBNkNBc/8h8c1aU7/aaLVbBHuIXENfv/DM67Q\n",
       "3zZwEagBeqqyxsdnvYLMb//u23biNGKtmzsdFjJw/wJuCdssum6aEePCQEH/LHJypKIHtBOb3YCU\n",
       "sm5nLJINXxSp+VcNpGCQAAAAzQGeQXkP/wBK4zfYeUNkBw/ktZccWPygQAfhAB1Y/ZIHrxh1ixat\n",
       "a2iiapaqrVK6qmOwV1X+0Bz6gtgLfiM02nUTdCb6yIVZu6sfNHz3WS2yjhmT/8TWyhIQP0K8tuEi\n",
       "BiiG8DncatqPYhMc6YrY8W/iBbTD3pOH6LW8gwuWE47QLPn2g5gi1hNjCnpVDiYUua2bFprTI3bN\n",
       "4I1SSPOMDZUPtYo15rqt2Jzio4KoSxEGEhNczxfiDIH2sAG7IdWdgTVzZbHxHdq5WirgYsEAAAGB\n",
       "QZpEPCGTKYQS//61KoAfJMn3CG1MA8ocRt1m7gAzyDfpP4JOS6dZRwemTVBfuboP/BDdMlc6zce2\n",
       "lhT5MojDIlu4RdJQAF2KO30/wqoDO4ivbo6HUDQQbhoARlovsCVanjPDWU5kBaSFEsrdzkalHvio\n",
       "XFKFw1fLBkcUqxJ4PSFtVEXueWyDqrGIJuy6fnPC68k6T21b6oTmqKXo6QPQrVl8R2usRIKkdVat\n",
       "tDaJgp47gIJoqJwqHUZKahqpQEPSvSkc6Fk/uckGGsuxXwTp6MYfWycKdPtWDc+voG3+kBqSYw0F\n",
       "UEIURUU4D8c2K4OA5r7Nu1TW00efOKaVVM6OH+Vs+xs/bojrFvZWglrmm0SWCBwlC4oFIUq+YIQS\n",
       "rMxgbZrefiQNvR/dLSzgVGQJnDPBLm1Fy5V9B6fCa4xR/L9K3VkBAPoP10IuzOx4eVdvHPVTmBcO\n",
       "36XSVzZjFhT5UeyKBk/9ULbkli27KqJ83qZ4p+ek/wT3yZhnx3TNulLqDgAAAL4BnmNqQ/8AStpG\n",
       "njoQWIARp6U1B96qMEOOhTYEjaj9024jZvGkh6PcrJfcXkpkGUAy+fKDkF4KOQSitUcEDtbq7txZ\n",
       "jcDnRtyc7lQOD0fgksUFsdn6EqgUPEU9aaGSmMLY8WiO7lPaD1hpuJLVcVt0wIBgwMXYKiAaItGM\n",
       "AG/LIaVRv39NIbBwy/nD+1kJ5EqR9ut0zB0DkR6kRsdxugqtNB18lqWeRXgUlB3hSqQf5k6ZUMej\n",
       "x8WbgkqTngTFAAABIUGaZUnhDyZTAgl//rUqgB8kyfcQgPPXesFKj7gjGpdVjLIb6XTqSpr44Lfm\n",
       "d5iDmRwazwdOwfsv35h9uUHmUck+YlklcJGsm1+Fvn7CcAJXHHASpggNo1snLoJBm0H9pSLPFMOg\n",
       "ZumHYlYosI4nECcKtVz+mAF215xqod/KQSEdFE8ZmdpNiAwOpeVdK1aER6nVnTXPRs3Rxf7NpQ+G\n",
       "0QATSVDWcjyTVGHW7FpVFR9uDgwZuagUSTTEwCqcs/Af6WJDsDkBwhc8HK6h5pEYSJhFDj7tqieX\n",
       "UjpSxSzbs5ksBEOPpI+v/bQGPciTHp69Q7VVqgQAroWfrQwuKhXkcvKvLLOuQ1d12aO0muv+Q+4I\n",
       "EQh3tCS6xfTiA5saho1TTzUAAAHDQZqGSeEPJlMCCX/+tSqAWqn4gCVyh5Hl7HE1X1o733RvMjDn\n",
       "/cBYmWIcfmta1aU5tEPX0DdpJga79wQ2526MNYtEWCK1k/4mNoGcnj5pQYqz3WDdIv7qIhhzJNsf\n",
       "imkRazz9VS8PV2aZUJrY+hu/oXXu7Jc53icdrhrK6GqQSzmcS9HM9fdokmCYuBXV5dRSEHUDjziX\n",
       "NkKl6iBSwGP9T4T+HhgaJ7SrmKC+UxPWW//5nkaMKXMcYJG50SzuBq5pHywo+vmMGOC8UodTRggo\n",
       "3ke3i3RLab+un7p00vV90zqwot945aZLNnEesL2NOLj9Je6tRVqFvtRe2NxoBwyJBW+JTuHy5Nv9\n",
       "yYaXett0R/Hbxya8p+OGOioGxbXoADGs4bjHrVJiLq0oAddD3olehtZknFBw084lnilR8Yp5XHvz\n",
       "09Jyu1xBdl+dfuHeX36fR/sdbLzbH/Tf2H8bzj17VJf1vrAV/OmT09kkMyourTZ/ixcWs70gHD3J\n",
       "4IVgY/vUs0Ls6U3c9nMR6H8xVOi9aMvi+erjvwcOfC2aHDqm2SSeD/5EEJDW5IJhdahTl6R7GW3k\n",
       "fUSZT0qEq9l0y3SsfDzdgQAAAWtBmqdJ4Q8mUwIJf/61KoAfL8vkwBB6t1dUwi5/6JuvKOFePuqD\n",
       "bud1WGIwIIV+o2oIMXz/rI4MMvAzmF+SXLbfshT1UJ5Tz9U41J+zCRXasi3hWtouI1Gt1LxdX2JB\n",
       "xMpxyu0OxgOVprFhdADtbA0EwWlX+rj/Wf29pEZoMuk9Kqs1fNj0g+s1KrHWNxMVe8HoKNEKRJ1v\n",
       "bXERcarfsqfPYflNfjyqzaPKYTpVtAz3jZY2Xe0zKZ2dnkTDPQjCQScHdeuHAjmDwBY6d+GlEEk0\n",
       "7BydtpddM/nS7n/HSYKA3FfE/xUPIbQcXzpax3YWd9etiM2oZe6iDPb2tHHKJsfC41o3FJ4Mq/KC\n",
       "9Kun6aCGUW6J5RQL1fNu99+AIuDI1C+yerf5N2mi3IU87ZIlS6wmQKGwakp1VxcEQJK+Gk6NEAkR\n",
       "m0WiSpz+MWj2VrfYFIFibxk6E/ntpeMldMEyNlOD/qIKPCJM01ipH/MAAAF8QZrJSeEPJlMFETwS\n",
       "//61KoAfJMn3DewlH9niF0A8na68rEocio6C4zvKWYSgwYCgY+jLPZfudUiUnP9owEpVhLVlX17Q\n",
       "94pm6jDhiyu/fNP83FE58l+ViPk+yNO0w74415tMczOJjMqM6FbGOg/ep8z+uOR/BhUTlBvB5GLh\n",
       "wZaD7ShLi5v+1OVdhcfz1W6AOMTYdsOX75D1H/3rjWyOj1T92PCFk4MPgSTMSJETTKTksGPEAFxd\n",
       "tlvGhOP9/IFQZitsaOZ/iI8H06FDzlNvVuxZ0g/XVqHuKBl68zA6iWlL77m3C1vC2HNhAWOmXPCd\n",
       "zt7tX1Xi6bR1FokBJPXbP19kmw6KVX2/1zTSFKOR5Oc3hABIPFGASz0eNZkq8hfOOQ3oKANcKyfd\n",
       "Fne05qLM+0LyouJcGitnF+L67iJflbgwzs5/szdhtQPsFKmvWRI9LznKW9sFnbcj1WtjcYTG1Dlh\n",
       "1SUJ1r6pwrZ1khAzuFG9L9gRy3YVemjsFDwAAAClAZ7oakP/AErg3B+TBiBKlgAQGBUnQAdVMf83\n",
       "hpVIzAkqq98FH08puqqZrJRr6SDGz20u/R/eDpW3RP937IZFdxXE89y4Mj9TeV3j33LgUyTWT7ah\n",
       "9cZf4bAbYkXGafRuNfLse+Kljp2nVFNAOoB9mATUTE8kF0/6iyM25BUcpSfUhje3vcIeXMQ/vk6C\n",
       "z/iHPUwcpmr7hg1cDlgSP2ok+jdarLcgAAABrEGa60nhDyZTBTwS//61KoAfWngbxgBA5PbgWn9z\n",
       "USLhc+p3n1/0tfByMt8SeB51DeJTSXXE+Et898LUFAaKtKnAa8IVWST/f9vqKDrWkfHBT2Y8QYs1\n",
       "GL6gWnw3LkM8drWcrY2GSCGaboGeLAncqWRKaFcPYnO/ONra/9qHb759efZBLwndgbJAXHIM7WtV\n",
       "TPC64sM7hDskDUKafp9sbjiwTXCelFIeDHwZT3X423DYyndczGeblSSx+aflY0cTz01n3LqHqs+Z\n",
       "UCw3QH+B7UdQggH6ontmgAx/Ojsid5Mefdi18F5fUABnttcxM0Wxa5s1Y+JnsYXPktO+dvOFl6j1\n",
       "n2eaE+PwPtRN4VyHsLrT26XEVHz5yfQuQd0iS5/gIrfV7InI/dc9ia3c/YrerhOsgEFDKxaAwtjr\n",
       "jwONGpwSbwg9lndnPjkkdth2t1hnzR3/XJhjtS92Ut3R35T9gbRoZkOK+M9ddiCqWKY5ZgNnoUoa\n",
       "qpqW9ujEikddEcu9o7l7o7bF7UV40drXtAoPN6ZFLJHpIWKE3WorKJnCGQsMrVR+yOfa5JvB4Z9t\n",
       "AAAAsQGfCmpD/wBK4NwfZDB2lhzACS8HEGw55suyjwk5GyMsUd0WjYDtopMi6Nm/QOSF5ZyNG0Fp\n",
       "KtBEpAQcCNBxmg44yDh9BH4NgbTJIW69bKYWnU3DOsHM6/Oixmpkl8uqa+PpnrZeWgUQfr33irS8\n",
       "l2zLFUrKlKMUYe5yQBT6UMHvPZsl4WuH1EZrhJmswBjFPg5+GjUbdfpQOQbmSEZZg6jmgS+TDQTp\n",
       "uaJR17BwoFbBYAAAAddBmw1J4Q8mUwU8Ev/+tSqAPrelMAE1HBdJw1mvlFxELK61oe967d8Hekjl\n",
       "4/jLZtbgOuE8AzMnEmhC2zdQ3yjtTJiY90T0FIwqV02pfrwAf/oqjZp0VY+Etw1uqgSGuFje+/K1\n",
       "h1nn9CjXvZRwzIbcx7L5+nLoECcRMgX8sCBv3aGRJPBBJ+UNi7T/dp8/cgktg0jRtDro+G4519jm\n",
       "NxhDb5/YkS5Wv9Kao7SAlIQnu1EOy3NRdyLxIif/2EtzJC0dKqRj4pQa/EtvwcrzVBoL2+RNiKkQ\n",
       "ERfGGzLxBga/mumyT9hP1B4E2yU+RjfdqZ6AwK03OcE18o3AI0zAs2rA2xHCF6c4fK0DtLKLWY0R\n",
       "9TOvGBoTMXJCt5pFEIKIemgyBGz5iQQg7GtEusi+U4+qUEXVc+LmkRJMQ6SDl0AgcYaiTm8ICZZm\n",
       "sQnDuc/vbKEJFSRhph+B5LmHNgx+Q3pJ8PTdkLra5+70aYmi0dU04gsB+AQZsmrB8xiwLqHm9JQy\n",
       "l1EOxmjq+tPp0rKYz6t9YScGpwRlWaU581A+Yd+e58PTtcwFhwATa8OLAP1WMux58zkaXgDAAC/B\n",
       "DtMPcnHnl6yedFrGdS0FH9QFxbWPORTiq5xlxvoAAADCAZ8sakP/AGVvrQAfwWK9e0svgUHCb3l1\n",
       "A7YF9TdgyNbvG7j2z4DUAV0riiv+ZdbU4YcOK+sg9j0QlU6zVWMIDLrtAz09GcmmZKwvsBAG0ZGU\n",
       "lSYg9FJLqbdul54KJxvy76mYKqyrabpLb0JAr7wcU8iQiipfPjYjDECvv9CS0hT08ej/FjmD3VlD\n",
       "MVIemT0+u3kTuHY+di0rEyG+dPGb8Qtqtuv9SySJYgmoTQXmt6xxiAudi9xhkn63r4NgHZO36mEA\n",
       "AAGHQZsuSeEPJlMCCX/+tSqARUh4qVABEF2vZsqjow0FD/DzZvYu5kY6U9rOzreFM/1EI7NgzQ7+\n",
       "lqkcxCYkWihGGLYNhG2b5BRQEkAvsLBBzRvhjlwV9wQvugPmthsNhzoG3rUXpQMSQeYVJYaZuNJP\n",
       "oG41MrWbBJ9iLpjVrP7k1G6nKe+Vl1xIvsjsTLv3QJgd3lkBKdrIu66mxmmGHPy3QUlbqrLLCu8F\n",
       "cCFVlAZ4agboTD4kh9AAJXAC54OpoWRPnBoJF5no48UNltAYqOjADt4KZVKvSvBrXveAYiQcZseE\n",
       "ZccakJZS+YSlDpX4ofBra8btOPFM47W0liQr/bZZP/G+jYDJJAbf91X+2XeMpOtTrfAeddMGYTs0\n",
       "ORpOA34rbo013kMRkCPz27r311JpLu3kJyBSQ/CoB2BVJJtTEwi6AAUZSWEkwBjbvV6F13CSbCTv\n",
       "9IXhJUSphjHVEM+u2Op4z2EaiCVWq2H9cb1MxRKn5Z/FZZFRDbW2/1YcJUJj8W695FIM+QAAAZ9B\n",
       "m09J4Q8mUwIJf/61KoBFSXSVtGgAWksBmZbwBIhag5m0JrPq4P7Dtb0YgnMknfe7lnf9vXPsaZJy\n",
       "yDAsTOYnr8JpOhxueEh8czQZeS9TtXLeenmoxcOy4/RqVhh9jyZYeiy8xJLaPDqI5ID0qMHRGsKr\n",
       "NjwdWdc5daXPRF+93/qWMFnJB6fJJl/+9CWr9xtTftPjgPi6/F0Kti0Vq66wwZssyNQJAIEeFKpC\n",
       "IFkLbqDU/NlowB7n8E4WcZIlVX8KaPbL7GI1hqOqD1DuqhAN3nIHbqDo8ckOdVGotlMHEtMDxPHZ\n",
       "LiHEke7UGVVYOAZBPYdyho38UVbW2KOdBZWEGc7axgBTpbydUUVXjEld5d/dwKG7jbViTejNjW+v\n",
       "6zc6SVdzhk6xr9pfluqES0vor+lnoWQIw0MPfOCPR9N8FDyvA16/GXnlc9DgdxSi/Q6RZPSv9me4\n",
       "0mBLRcwHPt08WjGt2hw2i0h/1+CFHLXMV0T9EgoDzjlD9IGGR5B1xtO8Jp7H+YT7vp3akEo2ayhf\n",
       "Ea2nsWqVlL0v4hi6ZMeBAAABc0GbcEnhDyZTAgl//rUqgESN1kewRxtt3KdQcEbpdEUIQzhuMih8\n",
       "FDkOq0tuAOj/b+BQ1xPoa4xOZ6q0IqC6o+RoH2ONYAQHspDpe4YfIlDZK1dgHvJrHLeZyO1sQOp9\n",
       "jfi1uwyCmGlTq7zZCZ9Ka2aGe9YCoAOhrlLbni8u2PC2PRKmg82CUL4uKmYKtDMigYvGFnZ0j/5c\n",
       "cVGpUEibVAoCakG+GTlic1+7UCUMNJ27JazJpyqkA4mJfFBgRt84GLWB1ZHtCO30jBC+MDOr7hSG\n",
       "2TtdfYraYrWpf7ygQcaSZj0p6IJqV0Fg8Aw2xfAbcVGa2adocBm9Be6rp0t6TfgLGWQvbsD2o1Dr\n",
       "dgUUjABxrL4xLfGKT8WSzOSdKkdx1MoD1ZrkCVG+rU7LducF3p/B0mLteyTRu2BTAmzCvhdgmAVH\n",
       "23CnUtozBhb/vUcjRTeQ5YUDzOU/VUmTehd7BnQVj1J1LoXzV/D5yYznrHF4ADngAAAB7UGbk0nh\n",
       "DyZTAgl//rUqgKRc0gA3bc5IOitR1JqUXTnlByJTPcaB2z8L+0UV1NaVhzkCWXfv1yr/HU/xyY+l\n",
       "4lAxocPusQWKCaT6f/lggjomFBnEDATh5Yp+Bz2xSUyq9zhbbmDTgAoTPIHG9ZDxFc7W3E+D9Ymz\n",
       "6YSFhsfukvd7QY9xR/f/IPkqD45wAYTaPOXkgrt13mrXiOZfqaZPp9aeod4A6HPRmPJawqlwCMuq\n",
       "cnZNs7bVLReofP3yquer3UY1kgAKp//Pn5eUMIwnbv/DduS0AljD/DidHZXdPtUQVk1N6wOZZBw/\n",
       "tXOYHIo4rJERb2OqKs3GMr6CHB9xYfbzlZ9zwGKlIaI5Xn5FMcnzbNbw8G5qSePeprS9FEhnnWKm\n",
       "Kqu38XwGB6K+z+vXDdep/ZojiI2pyZsK5aQV9btBaih0otVY1m9hYgrs0LbsOfluUIOokErj0FEx\n",
       "VB/vUTkQGT570fTUq+VTUYbDe3RsmgFk2NigZzT1+74N//4WDyQ1tHCQobbUfpzW8Tq1ylM6dYEB\n",
       "L19D/nt0gEF4SkjHXc67hI6VXJHx06HlSQihJQVgXfEgCwQufZ4KU8krJl2MM2N6mRb0Tv1ecC3+\n",
       "/wkQ+0khRXNcICl3JKoM59RIHuwFA8DquzVNEzDlYygAAAEwQZ+xRRE8EP8ARG205nD5MQOFEAG7\n",
       "pDC2Gg2k76P3LcruCxleyEHQnHEzrL9tra/kCMh3xlYut85cZxB8HddU51p61M716niVPEvM/jzC\n",
       "O/vBeKiAbk5/cXocnNnsL30zjd2pispzcew+xZ9dCt2CrmjR6n6PFB/3c4YAjX0F08cYPHVRxA6Z\n",
       "1mGOys3ROQWNcBkkKN0JEnqPiXdQoUkwmeVIsuiTm5IoR1mMnFuAlUB/xNfBhf8TWw2PVVpHYx1T\n",
       "Q7MEcZ2904cjGyp7IscK/fYfNs05k5/+YXomEHxAudcvAY4wUqCQQpuP2VMXx2XjLtcWUq6AQtqQ\n",
       "yIOyj+4RNf1zWKAEBBG/jt0cO5YKWxB0kiHQeE8toy6Lx/kkVeub8gdTm1xScv69/ZAAXNtOgQAA\n",
       "APEBn9JqQ/8AkBWgxlKh2EIAAEEIfDROBcDyj2vfne52Unjsg7KsI3hkibwUIITOjLO+RlJI44U1\n",
       "s1qsb3p8FaBw8/bXyJ8I++4PGBWXuaJRwkkD2rbl8nf2BqG1TA9qRQV1UOo2Mdx8SfVjvgOVZOEC\n",
       "keIrdJjrROTIgTpC5UjmOV7zieY45a30XIDKQUVGTivl6RQpC0wfo92SkiNDd4iXOp0xAFdX69W6\n",
       "mBwHwku+p6NhULHDadgseEhOlcPfIVjWi0cpQwnu2UHzGX1sz9xoJWm/3p8qTuVFXXfdWeLnYEXa\n",
       "uL9KIG9xVeGnj4mylbsLAAACEEGb1EmoQWiZTAgl//61KoCloQm+6ACWXHE/8rbdiBxBseZ6IuIX\n",
       "q0I3yemz4LSklJx2HOWf4Ht0lTKCeTY2lRAHUdg+8JN0n8sLTSKjk0osuunX42uFVmNHR4EjN/83\n",
       "hyC12a1kmbQBtrowvV1NurK2/JEMBa3qdGC07X2ynCfRhfR0mVMaY1KtBEgof0RThK4c2s6HZOP8\n",
       "9witubRtbH96WMSNc/ngpdulQJczy4pM65Wqa/DMWHkmmiYFQ1t/BORDtzZTPFgHcSu7uAMs+Agq\n",
       "Qd6lTrSrF4IujAIEmwzmybT65XCdYurB86DK4Y7VA6iLn4/QqC2WEC2dmkl/xL1isEMA9HhGKX0Q\n",
       "MYh8+xB82wJKeeKrBoReu7yAOQi7IYDTbg83S5dmQjdy0uwPoqhMC4Uq6OILmp7Ba3Lf7z6NBCkj\n",
       "UNcN5TxuEzX6JPhISynI+MDoPHT8FVBpAljGLgnBBanpnBQc4ezkZsN8tWScYe9ewfeqXE6HrFf4\n",
       "mMStvx/afnhzBRCeSEWO3ab1rjCrGwqXQtqebqlTWOoOkx2i10I+sjTqfT5A/GxteRMQteRddL0F\n",
       "AnD8XuUQfPIEem/wukJMMSQvFlQ5u+Mso3xafG2yRQezDXKgxtwKWJrHwnIIJCp/VUAkaMdtblXR\n",
       "y2aLwxXwE0E30RLq8ZYjbOvcRvkVEiab5sl8cg1YkMrH4AAAAbVBm/VJ4QpSZTAgl//+tSqApEtM\n",
       "ZgAmo32kAvrPe5IbU5yrsGrOCOwjdxoV+NQtCxXYHZPDquU4SwrY67evvrJnYS/sF3sD/VTZfZGY\n",
       "F7990zLrYqjNmpfLDYIXUucitYMuY7o+wcUKenAUgPq4AAXjxcukpAP4S42zCNyqph62dVETJaNZ\n",
       "9Up2WIiCp2mHs3Qbzhx8xVftWgeucQFX/AlsllDlzkcHUo+M8laxlN2p6Anooi3TbVLqEfourjyv\n",
       "usM2/j1gppAOVwg/GGvBHIw/T1hGql9s/DHGHhFXaEpM8gft9f5lMtjKYTyPOkhfurYsXbc+VChb\n",
       "eIfk9WyNcN9uyYpBsBFUJsQA02caYA+h7jrIuvbfR5Or6B1llxCa68jWKKzTDC2zBStFDswiA8JJ\n",
       "tMUPOaqaAIbsqO/ymQopQB9Fp00OEBgFEAGMWNnZ/60g1D/3xHSJd7BZsCNi3Z9wdBx1W65I6xGM\n",
       "3w//nodhwJ/mvby9xmdU2yTxsESjr4mm7+kUdA1enbkpHLvj9UDP0dtVQnN1QfCMb9smpT0H/6Cp\n",
       "TD9iOXQspUyz2gWv5KQmHr9xUQAAAe5BmhZJ4Q6JlMCCX/61KoCmDEPugAbS4oZXvjE3661latQv\n",
       "KIRvbK87/OIM1cc7yP3/yG9nJPTEr8QEgu1hFvYvyu09wZoUg9UaGIxTPaG+oqGKp7eurioQsTjT\n",
       "5F/ONPIuIf2k5n9+lRu5GwkQQ0MW79RQhQAfNU2Ok71GHdlQdFicq4HaDxlt3DEz0Xaa2faAcgeH\n",
       "Fpzuah7BKXstQdYGnWA86U4QA0UIz96yS7L5gcfeixZ2mVfMDnjXnRLZ23vlC9P4i6hbz30YzNBI\n",
       "q1iOnooBY2GTbZNbEgsl8Z7Zguc6QAUJfeKKKB1UV+RtXBLZRlVuDtNdXKGdqDb4rCU26WpudLP8\n",
       "vz4AWm97PXI4+gUQZcbKja3YHSMMeKPOQANGBWG7C6SZotSOcTYiGX3HvVmY6/OPO6lFIbX605vD\n",
       "zcuZgm8L7/ocj/F7NBjI502kvB6+GPgQXiB7fz8pjIc+5gWhP0QDFA6fU4vCn9GxmU6dfC3PFwHR\n",
       "TRU7sga1N2MkTNfNeRnvn1i04X2jV7l9EiZvMAOhmzAmXGJNtokk8x1tUovFN5DBi7ohPMmHOOLq\n",
       "Yc0S5v1hu85BxQfj3rUqdq6zs/AYOyoYGTqUG5btvqaB64jVvRW/lu9pa4XIIsqwV6Qwsupne8OM\n",
       "a8Ev4AAAAgFBmjdJ4Q8mUwIJf/61KoC8tOxKACIDCezYpSdm70iC/U3NNeHBpkm5i28ZsLlPZL/1\n",
       "PE3yk6APlqagMFsbS+h+i5CbmNWNJwsEqkR3zdAxn4LT6kMsA/SAkdrT9RvyEkUOWRO1d5H2+An9\n",
       "B1zRDEYlPkZBu0c+qhuhKbh9wx2gjcoR3NKphe6DDLcAytqPy4SYr/t37ppefPcKveD/nOFHP0n/\n",
       "dlneId1u0APm7cWn2fyp/f6M3BJJNHSg/KxWGmpWjwByafcUWKuMXlzbRtK8oNAg1zRLcoGj1K5u\n",
       "sPHgJPRK9yfG8bwLjpyA9spDW1SYBDWFZnj337zgQW0XLpYSVmXZbiJNGAtKfcadvPHJvLEUXgSM\n",
       "8QQrUebNSStZZFN1cWFv+Ygi5Nas/ylgkx5Rb3tEk0ozywppLsEoNRubBP+00henfkaKUID2qQaP\n",
       "ksGrAYNs0Lbf51dcZk5SkU74BgOCnIz62q8dPKQWt6USEARevixF1Ftnwj1g6BOML8r46n6QLA+L\n",
       "ZceYyRAFAj62CFlDvST6blK48PQ9MM5zz3ZH0LjMTCs7AHbUAvHHAJkpDk6db5xKFCWChQ1CfMkh\n",
       "BI+000P3ZNFbUC6452nX7oYy8WomcoZJptpBAFRYylWH63XPnobamyBA9P18JJArn3lgHuN6MW2u\n",
       "75SGlPAAFtEAAAFzQZpYSeEPJlMCCX/+tSqAvMyCABUqiqwdx7TxG1MhVUVElkvQW7LmcAZGv+d7\n",
       "+cSIB14oJFOKlrQYJXeV1fmPqDOIojmz2lPpqB26bu378B8e3a6KjlNDpMarjbUblYK4IHGpAug3\n",
       "BPfGo7f/h1wJcAhkL1BVzfxsb5zoQoThtdY/l4FvC8GQcU62iMeY0gtpSNLLWPhR9iRMgXeItRnW\n",
       "Gd2mceP0BaGj8dBASS5J0B7uJUGw91RZjhE33m0YmfNn3/H5idv/hNKOQCdS9r7cC93B9USxNc4y\n",
       "21Tj3ZGf5TvMo11T8bWSI99UwwQ5rhoaH7qIWLrjx2oVg/5ax6k+lTsgem1jobcwaMv7tsFysSpQ\n",
       "JX+kfiy8UHeYd1Z6DtqcVteZsb+7+oB1DTDxVwsyOGeEw9v1Di2Qsr5vmK+Z6DxAhvozhGiNrWLg\n",
       "XNb4PztC4ESM6Jf6EkM6Cmgl7DFAI25AbJEP3OqLGTS/91OoryLF7S8AAAISQZp5SeEPJlMCCX/+\n",
       "tSqAvDdZHsE+mEygA0Y4E4glJ5dE+xGXK4HQs/Opjf/dHDWjNtxKX2Ht5TY79Y54Wunmbcd3IVek\n",
       "9w4sHRAuCu/lqP9lCgU4gKWGO/LrZ1dCSf1RkteNAqrvCkq1P0bPyOgfnCHnHH36SoL9geUrzLye\n",
       "DyN8Uc56iowM6b8E2YIEO/b+vMSEf5jx/8Sst19pdB1k2Gj/HHbjG2yUibDdPk8Fhhw3IQSdJFy0\n",
       "rk50UwKoxC5z7AX1vDKM2Qr87cS0tYYEHkqoaDQO4mJ6P3Zfay3XabTWlIou8qVZCKfsSX+35iry\n",
       "16BfXCDE/aoeOOBhozacjM0gQJDxuOBTjbVLo45TKyEZBobKi7ihghCRuEBEY0Ev4B216n/KN+wt\n",
       "svmhspfQ8MaIWTLYqxpAGFBDDj+yhAjQ3HkJUqOcoDFRrivkCsG0vYnzQ/3bSqfZ/TE4IDyukdyO\n",
       "ZUiu1SdMkfiUEnCPYzt12Dse4ULj4R9mx8b8+JMx6gwodjliL8y9un8Izt3MaeG0vU7p+0kO/3vV\n",
       "sGznAgyA8fsnx/PekguPZwrWrOoSzA9j0Ievx2NnUoHBQ6qkPMk65ztPjf+f4nFEyjUI6HsczUoT\n",
       "rN9lzPfwRfx4km4b3RutDLo8eAG2lHCK0rF1KFrTJ8s3IwIXuOmuZiaae2028/gdLKtenhEfV9Sf\n",
       "6wrl4csAAAHEQZqaSeEPJlMCCX/+tSqAUi3lC3cAG0uBSD/Mo6imwo4vmv1i2SYH2qWwy++dgce/\n",
       "B8NOYWSa5leeUwGnT93MUDAP5XkwwlPmDgVUZ2EanjAVA5NlqOOfqC05OKGfuxj0AxOgciB68sbi\n",
       "OSx/qceA7MUQpj2Ped7nl7W4zrFJtpgymOWFIk7v6UXNdz0gDKTGIa+TXEaEOeF7eMgAN8qzcIZh\n",
       "ltQA6OZEaPJOV5sDJXrWK6pSMXieP4mkKj6Q05pQe/AlNmC53cCXJTnYsfB2xVcDBLwodYkKytlV\n",
       "WycocQla5LL1FZSzxrsSq1pR0iFh6QybKSxmH/V+jbXL/GfwV+P/g0bUCnGO9DWBYURgZ+GqWOsC\n",
       "aFMutxubP7bbcTyPz6AabznLxMvpcx5aBnWQ262rSLBFSnMkbDpS3ugTrZaF9pwGVwKjRSl3DfbV\n",
       "zhxZw7C9AIVUGZyogL29O14DRORCUAw60vT1OjlhiniacA9imIvY0tDCUUEXd138IwWy8SvNf0hc\n",
       "Deo4ur8Sc5Qzo0boiLny8m0nuVVstslt4ozF5UuFZ8OtuhVaMSoWDJcpm9MyyzSxtNxUgpTuSkeL\n",
       "FXPKn4EAAAHnQZq7SeEPJlMCCX/+tSqAVHskVeYkNDvpHAgCkA3i/VrhykTnPk13aU5eFV2183M8\n",
       "z9KBg70RWUv+49/iE7WPDfn0bMYnJXSqSaEFKuu4iFTMroASjhYsS5KJm2oqb9J7ynr0AqglwwIf\n",
       "ifaxsW1TP8xyhaft+pCzft2oEzvwLFb4iaGxa57nj2+LQZJ4RYSKm7DBwVy5ebpD7HJWl3pJaVng\n",
       "QSZpKqlsfeiMFc3VkPQvT2/fhkJfE+dHtqyMlTB42ffA8Sa1h62COlX7ZupXNqsgWmEF/IwkTJaY\n",
       "qb8k0YeLaB5ymPXuLhEeFPAliBCYu9Yf8kL5use6ft9LhNabdfDx05JCrUgR+JfwlCi+FcNg5HdO\n",
       "LDF2eG7lt8Umcely9y3OO4Eueb/5fQ/gPWeeMdUKfR+YKyku4Yue01AXfSjkYjgbCvi7BFQp0J00\n",
       "tfV0rm4YIv24gRk29Ulnub0W80u5fBH1/tcPFKbeZ+byekrBWtc7ycTSqHQ4L3OSlGCCLsiWofGq\n",
       "L4dQpd+oxEu3riVGi0vAP+qSHu/sPULWF27xFMs3iKxn7UOBI2s6HVTDByH+An/PQguV1orqbH2K\n",
       "hal6QfGGrPTbwIg01QCRA+g/CAN1fdAo9XRShNIcjZm15dXBScy2xAAAAjZBmt1J4Q8mUwURPBL/\n",
       "/rUqgfsHm4ASy45IOirV71Syg5nBGpTiRLHtLrL1x5gWdJgeNlBBtUDT4rySY76pJp6eqDIulTjm\n",
       "qdGsFNwXLUe9BrsNQsOoHsWiyyWFpk9kekUk6bANCq+y60JLiN2fycy4pVCTTvjJ4LP6QV7i+zc4\n",
       "UHMPOtbxZkwN76QWixkYMjL/xh9OTsuzaJVWU7SUaw1TcDrzMn3mKVnSjRvnsX9Uwvzon2XXBTTZ\n",
       "EsUs8OXOv46oBIa2oVmJTaaq3Fk03CP2FTvaRX5r5OwdGOuTetRcyrm8Tn+DbgoldwVYenTJUmDV\n",
       "rHwe75YtBr0hzmmzt473DZ7QSkQCHREMN9MBQ7HItipCbxLajNgOMPkrNGJ0IqKpWrr6HMek5D2E\n",
       "sDYY8SbLnoMlY/okkVArACP/lClWpOY1p6er+WmyPoTCod968HnRmUSei3CAr3TYzTbDfuT6+wAY\n",
       "KHDdH+Q7kSQFY1hryW9YleV6Aywr5lrkbWIQlYU+Fk3iU4weWM13qf/NUzmzeu9juLv6JfxYUvtG\n",
       "AhMRTAd1PDtLK8BHTB4VrwpAjeFHTPzyvQijKlFW5hGYKUmXvpbiHt2CxcuL4OG7+nLAX86EJvmS\n",
       "JRmwEr7Cn2dwJZMaWCNyJh7zQIHU8Y23eYt+YuiOluLpIlGQuc004fapsSN2DmBKgZFXR49hEnZw\n",
       "y2s+4r4D7TjNAcaAQuQRJ+kQykAk2UJQCLTB4rE6PdJpZ0xFqLnRnQAAAScBnvxqQ/8A1kqOSgBO\n",
       "tqYDo+HlWiADgE+Sy+yoaQACtskMD2FinoJomogOxXhlYabWN9I9pwlem+eZAKgGhtMkxgfnppKP\n",
       "52SP6DT0FAijzgsLf8mLOs9upH8H+lZrG1ZZA3iXBxBfufL1sPmDrsqbH9xz0/ldlkQKcZRskfw7\n",
       "Qv7x9zX4liZgeWZPNKnICCGdMGEjVEloTgL4SvgklOy63QackZyd7LZqTmBUXtvOQR7YLLXoqPUF\n",
       "+YiF/pfWWqg1RPFIT8zSLYabiGXDzjO1NbiGA+BX8fR6Qr6W6rCtgtiQ82bQZGsX8JyRutflBIAT\n",
       "8ABBOJJjZHsrCQhUJcDYnVsJBCmO/KelEEsROZCS98VR9deHl5iGXQRz9e5yrJIA4K3vMCXhAAAB\n",
       "q0Ga/knhDyZTAgl//rUqgfgyIpc93eRKLAJqi0EqYw5lUBwvlCjoYReqhWxXFCyFY2u1zBRG1kxk\n",
       "0Lfcnmgo9huDVlWNl4fFhvHWWQzgrDwxfAmbOJCJKjGl3fVDhF6UlOteSdOiFld5DGb94dDZs0Xp\n",
       "zXV02HL8xSSjuDkMSYMOxtYzaIXdxF6YMKFdo58PG23UMzrfuBxVD9LGekWKvXUEQus+kVKvm4cj\n",
       "/w3WWf+Ojtt6zWF2rLLPCNnAtz4Pu7vnQ3i3GMJsAvwEU8fcjF58SAvouBvzdYJf5s7VXj1V6hVE\n",
       "Grw1h+Y9w/ywUdi7HNkOhGFxPu8CoG2meW69bGZbKMGLsTT7bBDOqvEYZt9QNyeg6s33VorAMEno\n",
       "/zxdBhxh3ZzzsIvrcZ2E1mQOIrs0zeSY0T/HzYh18YanDcT/M+N7vq7WRSJ18nv/1XMmoTBcoMCb\n",
       "4eTvvk9u1ZpAuMrxa2tIcaoITJrzLeFpjbfMRL0THxRfpO4VlWSUOmjC/UIDgWoqrYRkOaXHjgjJ\n",
       "Bv+J9k9p5c0RekbWAgB+k+b0wsZMIhGJfjaZTJgAAAIlQZsBSeEPJlMCCX/+tSqAILoA8T8QA0Hy\n",
       "v5PyLxARJ+22NUpmK3gM4n+c5VU41jL+9pP/uPk2OX9Gzlr+Qj5vPkY9BWLu37iLoWhgqF/+/PtL\n",
       "2jXLOJiUzBt/4IyYajKDN596nh7K6g3rfTfmfbOuBKxE2b0oCwf3h/AaeFb080BX2CO4HOgALl7h\n",
       "+lb4BxFPe0vyB4JmbhW1thsqQKXBGwCzhIaJEB+okOM/ymvKZhlMUe0lvDXH34OOxzEFZ2eEgDGC\n",
       "rm6sqzmaVaMWhbOFj+bRxe4X48rhnFf9SNz+3uUVNAtA+5rqnRScD/kky2BzQQ4p9pb8gzyE4aME\n",
       "SvNIjSgG4Cp2J/pnFs+qn+NjFn+sPTnmVqc6Xe/pgO92joe8sFciu7S2HTrl7f4CnImyHXQOyIgW\n",
       "zTG8FHTeSPb37SW0WYCOlc0g+oIEaGziITJ/Zapcm673XDY9eMxiZas30KGiER/g5L/n+nCLmkly\n",
       "S2qWCU7CcYhMddtg1nsJBY73oGXCk0ABaR8/k2hbmBdtVTSEPCbU/MvxGJ2zBxk3ItzjX0tFX/C2\n",
       "67IurGvtcnXcjAidudb7XiScb+LLKYaJbazNqKFRMULdRaUteC6tReBWnHmgCr/X9Qzxx5xZPb92\n",
       "TMIdIxqOF8rdKu5pKP6NUm8zVLE2rnp2Ch13IN5V33lV2QYKzjreor0qddCFg4zX7JT3FLIU/2U2\n",
       "2GGsb/t7paWhi5sQAAAA+0GfP0URPBD/ACKHov/YgAlTfRuh5N6o6u2H89DtxDJomaRRzE9C+gvp\n",
       "qYDwI+0rajNjB0MlNnjCBRMqKo/N9EvPQT/+zPE/L4Cjl8wJZqx5ZqKgWRKX1Mns2pweCJaI45cF\n",
       "/OrGTHcN7UKOqhZWqPE/RD6vFBIdIN17nbf/FdxTMqHieXVvkdrYk3/zoVd+lNse/VyIS+Tk5m2w\n",
       "GsFzui6Ol50nGri0YCCX67y7nAc3FCy00+LnXqVfDVp6HTu0ZhgYNxzrbWjE+OGrqo9auhZGn0uW\n",
       "Y35qxhIVbjzLcaKOse1w/WPS+rPRo32MBzitGPjU/4FLxJW26K2BAAAA8AGfQGpD/wBMweCTPGAD\n",
       "wMC9lk2O47o7oCsYkcAZUnMnuSsptKlv4S5cCkWwqcfzrTWT0ojh4fNzGklSliNoO3qtgx0/Te07\n",
       "IjztmozQPVzDGwtpgqhN4w8UVowNKobPPXnRgxuzn9ymjzB94nVVnMURW2oMkTMlt2Vj7xIg3j+F\n",
       "oVjmdtDcL/RX1vVgjZV96rrek8+bMaAJvjHi76dKVnbg8V83WSr6Lc1PxHwf9MHlqBwYYyxCOAO4\n",
       "7FdsFhjmjISv0jDtrMMfFo8C0sn7UJRjrXaUOomZZz0WZGRXIyRMwHr97wE629KdK8f9l/DdgAAA\n",
       "AYlBm0JJqEFomUwIJf/+tSqB+v3kAOOpOSDorUdSalF055QciUz3Ggds/C/j4rwsPrk3sZ9EDwwH\n",
       "+Ye1K0PQftj6aZPlzRXimBGn0Kg+Qb6jygC0Gy1LIaM3i4z2z1Fx6gISBDn4QIedkpDlGuiGNC4Z\n",
       "Hnu+1ru/BQR0/VynoszUElLfNNWXoGIp/y0/AcSEEr6V5DFuytqs7MCKOag/6p85xWYY/ukSJnlU\n",
       "i+EhcttywlJnFqLtQuV1O7VU82OjshvoPdo5Zgs1idGmxa4rgvKOqxXS1s9Vjbs9sPD3RYeQ5Ocf\n",
       "kHzm1pbOe6mGxXp/AfCkPMMvJvhz3KNrtXPUQLOzBeYgh/mKu1x3Ad+3bb8BQXSHiqPALTTxDon2\n",
       "jnEtuqD0BCqK3x7ApiFLYWWhX+5ht2uAZcN1BpTBU+qATIF7TvGfTelENNaOAw/jyu75rrcxcEqb\n",
       "2JmjLh0PEycp1kX7iUiSN2hYJTwa2hMSabXglR0CBB/xR9gjxwRFHoa84NeZlPV51nRee7EAAAHM\n",
       "QZtjSeEKUmUwIJf//rUqggRJmLQAOc3gnzuZwFHm6EEb6zOebfWjNvr8rQqZ3TI/F9vQDC5NTjhs\n",
       "ZF4Gras4XsMyERpmjwJ0dXQaOqrGBSKEtaiQkb7lhmzw8dymrJpetptm7e5/zK8eVZ6MnLV5fhzq\n",
       "i07Pmb5Zvig0MwDsjPqkGm1EA/fc2KGkbHdy065f9GQhPbXXj1W5Msdy+HWU4SRer4ikn7tnvzLW\n",
       "HQ/9sb+HPK1Jx56tugpm6gdVzQi3hcMRtK5VJzwObSIQumx/IfE/oePpkcpp2KQmI+MopPkZb3Of\n",
       "xOh2lLc+CKCzzHJ9RCCiRmoYhxUqf/7XmotYBlkPsrG2cupRNPFgfMUGiyZfc5ZWv5H9kII5AaDw\n",
       "3nU67YkAiDjePDKF8qv6SOtZVlewfjMl+mg55TY52y+h1iNJQp+fo5f+8zLWxdIfaPWi4P/gijKh\n",
       "tGSK8KFu+R/FiBCsidAv4t9jfA9+WClDVYIENPDY7rIWR76iTLlm9Enmsf9DFrl8LKoqbdrzEP3m\n",
       "W+iL98E+fl+vYAeOtVTPLfLEcfAXYvitexi5Er/mc8UxzGf+ilt5kcLVkYH7kYG5MG/ZQM3vQcpc\n",
       "MCGFoAAAAY9Bm4RJ4Q6JlMCCX/61KoIDj1VbwABanj4PWFvdXZl55NEhRTn3SvkAXIruuam1vaGw\n",
       "a9KreGmDO+pE0pA53Dov/T/dYBgrjm0o/U4LKSroMajO8pTg9/M14+9jX+IUTvxz+fPezTh+sxSS\n",
       "h5twmPBz7Ug07Em1p2zNCeUkmh4PYiYwSK8X4afwXd5YptL+iv4MNGYZoD6cfzfaFZf38CvMIv/r\n",
       "11p2V9FKKEcyJ5vheaZL9JWHycuXA38V8XDKo6V840+WYWLGca0b9D+ZPuF5LHtaIOBfAkPWxAeI\n",
       "yaQ+BELQdFT+b75yST0skzMlChhtk0kdlECOXTNZMD4zm9XBeo6Wu+vrbQ2+Fjsxq4GKlSM1aY2Z\n",
       "qEuRQFszoi9xnD4Atn5jV4fPJ2Q2WAlp2DB3a2/XmsV18D5oabfCluDJO4tGwbb43Qd+8Yi4EZuy\n",
       "CxPavMvvLOaMfbkrmrEDIHEF/+I0t6Ly+sdOAkeZeD84wiImoz12dGsYaI4IRYk6ZavG4lpLA00H\n",
       "WZp2E/CpMZ0AAAG8QZulSeEPJlMCCX/+tSqCE72BUtAz5TAEZkVw+Xest1JDv7+eS16JqLDuH4Zw\n",
       "4QBREIGlH+5rcXnGM1a8LLg6vBu52WvLcwbRO+yARHrr4+OPMiMSe9EAlnxIx2LhOi4eexVIYToM\n",
       "0e+T0ifQqGTckNLP/yK7E5nBJa9CmnQ//qdCgoVJ6qLDgUT25T6mPxpI5HcEpt1EG+ueFoLkWgh/\n",
       "eQeXvgtH2QS8xgCK566qnFnr/jvZAfTgP/FE/A1WbFpLIGkMeIeSrU9IcTV9x0GQcE33zT49ax+s\n",
       "cM47pQw4LV2z9vMyAh/cbO06B8wGFrVG55lcssQTbh6XKW2nWZXjqrKrd2YacsiyMlEwfPGnGSoP\n",
       "gnw5OKatQCJmzhc87CDJfmkiuchLYeUiC7qTNwLR1wWTDUeGraMMtWw3XI6RXMUEQ7M091OXpsko\n",
       "EtEtYH7oVgwGp+bZE0hLtpJjGSltiAwWDEZwF+wnx22Qd4kHU0013MpyJh+J/cn/y8sce4TUfqZi\n",
       "r6HjhYPJr3ONIKs9a3QapNX3bCJctr42eCzBEHpvyL00hFLAlhED4OkeJocef08+CA/ml9K1WCdz\n",
       "AAABo0GbxknhDyZTAgl//rUqgCEf1+Epoe/UrEcxRfsmHfRX3mGhbSk+JgHvgeNvZRLudM9ahhE+\n",
       "ghf9HU+1COpexJDoCTNXV9X8b9EMFe/SJRCaaN2G5P80BxOZOYGkFY83h540lnU1QaOmuyY+mxIq\n",
       "6MUXHKwM4oA9L0CcOdF4Mn1lsUqpXwnlKF7sRZ3VMuNhoBJDQH1W2lipsssiO9dFD+92kWheV8gr\n",
       "Fo1GHAHmbtiVjC5LG/LolpEwo/dHthmkDtnKVF85vcs3g4/L0MQhRsEBMI78vL0lUGWO5UereD3m\n",
       "YqruS1eZ3G5dD164UDU5bsPk4vtqnwzKRoUM/A6JIf8C2yGIDNVH0REaeeAV9rnZDnebNI9CdBWI\n",
       "mRRPYFKc0Qm3bI7ipL5usG6jy5ivYUGlnd/CC/hhwz1VA6iCtt3UA+gmZ8GsG4UfIdRJHkQRQ4Qy\n",
       "5qrElEgvH5qllKJ/yO2Y5sOhQoC3cAJ62p4M1SBQR+9VKVF6mhOlChFAeR5ZONibJRCoFkUrZHjl\n",
       "tY4+XWRZGDg+ROWI2ypyM3qPKYz2QnFBAAABXUGb50nhDyZTAgl//rUqgCEf1+B4Td2rvIKESEVn\n",
       "FCKUy/5WpfADEV3X//OfM/zzj9qTQ+wataGROe/R9Y9W6H2yPHQgzVvu7hdph+k08tc6nuN/in0+\n",
       "jaWj6BN/X1NjQWLk0XS1cAtLFt9dIN6JCRXPjD7UVe0ZNLtu2wnnVUhPwc7uX9H8B/P7roPbUUcb\n",
       "pQTVpORoglDtqJB8y5qjVWIHD35avQu/dK+Fznk9oAhGvzrY+T2nLmwmKN1jV4HaBpQ/o+Hl3k2e\n",
       "BT+TuG63J26WVIa/Xqh+/+bZp1fQCKFUpGdpAFV+zv7BhCtNx3/0xRUS2PlYLpDAuUL20fNtvOWg\n",
       "7INJnNBYGzJhreI/3X0NNUvtOpp6RoL2bE/i9tvhelKMZfkfiiaIhXjUFfQmlzW/8eXYEQiByVif\n",
       "ro2tREcanAKVnujTqLo0CuAq6RUqGsQASA0WEbpPSPWIAVUAAAINQZoJSeEPJlMFETwS//61KoAh\n",
       "Gv/A0qWi3AUppmwHc5yj3Y2NdC/ZuM4Aaaw3H9DTIm+a3E63lwq19KUDGQ5WX5r7nFafdrrhkQGd\n",
       "BcTfInYBHh/mYyheZdIzBOoKQnq0V8Y6w5aeLFbHGvppfMxmMhGRgmZtduD5jeK8T3rfBc7Fl4e1\n",
       "KycjuQpkecNtWKFFdnk7NBJqq3fRmAZr+60WRxmenU8oGowTS4/IXbtZvpDKXH2olqpjp1Tczfo8\n",
       "4PvcVw4s8G4FVz3oq8cUsX4rOlvcujscvzyFYOMyspFaaVfHNApnPY4e+dpfQLRWj6AniLSShB7z\n",
       "mfGoPc7/3osGxIkhMWEUo8pVOVESATgyDY/C2xxMjROxBzyDupeh/v0rI/KLHS+qUKiHLm6qk9VG\n",
       "lNitrIeD9OigT/umRPFdnUT8ZVQ02AD7YFSJaHP3e5Cowoi1sf+CMjCDr0Bf4/c78HGYsWAG08q2\n",
       "woEOaoXZ5nngbPS6J5ozildQZ9MWpTN3NBzCCU0ZHvmCrNmXZIchBCxfJyb1MY8IXf49o3SsmlWZ\n",
       "1Blt/PK9NCjSi26BKNtUdZt54UeIEtsmEGBc80p8YWZDQcFYKKJHsxaeHJahxbpIg8e4K3KRh7Jv\n",
       "e+X5rkzuWSWLRPdLhu8NVaTsIguXSTCdogciWysYdL2OG3UO4Mn8+Y4jtbxwD/EnX40YAAAA7QGe\n",
       "KGpD/wBIIkO+luvDOQWIARrJF253xxGotbnbLyLrOSdMIjDzAs7pZC1GSkEpa0BQUL91XhdUf88B\n",
       "SjhfxXtKQPHxnyASjkbxZ0PfRH2wnUZns1Xf8j+J7wznCp9F0941jKuDkB5AYqXgWGF6nCUsnRWg\n",
       "0bH9fKriurnxgMcHk3SCnRhez+T6g+wZmmuJhOTjK+YaNeRL8bJIb0/lgpOiHDhu/9FNaGvfVuN7\n",
       "jhN4FIEFRqsZgzMLzQVuAo/EfZ/paTvfK9AZ2fQDQTN9WO8OXf+9EYKObuu2J6TsLBVDvKaMN6Kv\n",
       "fl2Ur6eG7AAAATRBmipJ4Q8mUwIJf/61KoAUGeDnBEcJtpafbI3vEebQBDg7vaBhkqV+Q/a6lY50\n",
       "V2XZoMHZR8D2QnD/Lrom+4DWd5QHZ4A4/7GqwMP3oSPCelCR8n+So9tQr1R2m1Chj90FeNe+DjAe\n",
       "JFXgL2i0nYI5W/64ZO83SlCvc+JCly6ocOeNB8TXCHEenxpLtb8NVdcvM5aANqdADFFHZBfZ6CXG\n",
       "mKjzatF8DuvN+xW4mcVydpB/d/VYuOjWFJVeow+lm+JcohNDtm2mncNGXlpKVmfvnZ9b4fxSSP+H\n",
       "HLAQ9XTXIlG2DlP9dtB13YRQsjmSaudCB1cu6Y9qDcwHqfOE0vrNSaTKp7LVZ7sVs4C6D6CBq7Qz\n",
       "EFgMWVOVop9TqBHr0Mk5SrNIWYjbeTSA8lExiqYJ9WvEtwAAAVZBmktJ4Q8mUwIJf/61KoATBqUg\n",
       "yQAVRkGdtW9G5CoWuO7Ii7AO9diEEh91pMb+7DxX7UfgmwOYM6i3Yg4bP9VMVnCrgSN5hUTSbL6+\n",
       "6E2Gli+nCRfcjTc73mWU6IvXjL+ovDfCZC1sl6CQ1dN6ZCalsEYF9RQONicdXC/7s1+G8Q6Y4FGc\n",
       "ALkYvrH+5R8lxh4JbUxyHbI5HkYAwkWqB3gvbHwxELoJpWuhiR/5eMGxBzEjLrjbykKbLSUA0cpF\n",
       "2ycGoFRbJA2sZs1UhILRLS3WOgT8ndTQNF0bsAc3TndHi+4/7yyPXHnQaR+Kn1CXD19K/Dm9USKs\n",
       "ZbIWUOjZCzKr9NVC2GKkzGC+1v5gz0wQoUPIJhsZyHRQ4EEE8+oE0s+6XvcvbZNe/Ua1CIzhOk+P\n",
       "ny7gSosf1SVf6ckSWwkUxuSH4sa9NKJBPbR2ExeUWK57UYpLAWAAAAF5QZpsSeEPJlMCCX/+tSqA\n",
       "FBp99/KYAg2h0d++WIe/fTTe20fqeWfGe8ln9mVPkUjt//TgTAxnySV2Ee/ItbOfLHP8uhDtdSra\n",
       "SycimoumC9SeSiaEALh0X7dOdzYfmL7jLtzkWDTgz3425phSkcYWj/q9fiHj/AX2IlxlizUYgnd+\n",
       "aaTwA2Ie9QfLTw+6n6mOIIfgK4/ghLcyjD8963lS9kUOQxa5r+zNAA+ID4g2PXNfdm93QFZvH7Lr\n",
       "WRCpAyRQnJBipEIx4lyBFh3lK6pls5vEWw33w/CdkfCbSIoccJTVqOtfKVWyN1PilSNcO3e5I45S\n",
       "O87VQIUU0avDdPDvIbrLqhBhB4CcBeqfmj4pyRzOIYXCxCQbiVx6d+/6ae3l+wgBhLpBwwEre62T\n",
       "gToalHlA6ImVCeJFb4+c9g3/W8KTd3zybYpE39uHEe45eIAqP5KtX7vWYG413LRbx1EFfsKR5kUk\n",
       "g4chCWmZDYxnsVW1L1t+du5s9IAAAAFTQZqOSeEPJlMFETwS//61KoAU2XqC/ETgKgCD04aGIaDJ\n",
       "7VuL36/GLzRqKyl5r7lIvlpZlBSJump96b6u3bEs/VXpL51oSjz32bQH82U9ixH1zCunmW8bO1xG\n",
       "EtRBqydESTZMgGJljFqcwZzaOLrUGTRhVvokHiTCxr1PdhP2gaxcrdgdIc1dJTUwD7T+OssYIY8D\n",
       "iCp56UL68krmcge4/Z3moLbWdYOlCPZL89S6gBM9AObpXwDiSFlsIl1dlhZUHCGLm1wwaUXQPV0i\n",
       "BhkisK3iLQ6En0uOkv2RqWcRpUFYUiQrcHrTf5+CRO2h0rqVDegz2fA/nFaf4GCiQFXL0vEsvTGM\n",
       "4CD9fXhtbKJaB8q0bS75WcKd539PmcNYoguYsp4wvgzWgM05qwwnFP/38Jiwsduf2M3vGcG11awV\n",
       "7EhOoSz8VpxQSCgeXLcSESojtmApAAAAvQGerWpD/wBIIkPKlrJ4e5pMZaJm8AIEYWrwI/ilb2A5\n",
       "PNIvky5YuLCS6V0ca6RRm+Xi2ld+AQpTtuf7lrSHT7TWScVDTa4KW6PKY2+AKVu9dYvoPBK/H9l7\n",
       "wL0pefzvGgLn9IVEm+jXIok0H4Hz8+ZMKu0Z4sSoZCeouFJ7W2CU3buHXUU+PkIXrf8aXOjIZ6fS\n",
       "YmNe5Hb9TzjlH2Zfn17rP0cE00PuTXCX1egCzcobG+zE2zQAmWmG77nqwQAAAXJBmrBJ4Q8mUwU8\n",
       "Ev/+tSqAFLng5YerUhx12218qvkABBiPdIedhSiVWO/es63fWn8awTkQsXrGdR88i2nwf44c07HH\n",
       "pH3zeSiLkd/oxhsBlRhHEaGh9SKWat8zB34mbmsWuf4weKAPtyI1SXkaWglOOUdRSttK0RMHstaq\n",
       "s4m/udYi2EKyklTZqcIYi2VJ3g38Ni7EhupzJpikxkz5++bBXFKayK/2wLtQSSu12vzs68T98mNj\n",
       "SveSomCI/0s+i20Pywbn0x7LwA01+tVXHJBz8BkhokVRtpNR//5XYs0abU1/RCzW4Dei1wLs+SJr\n",
       "FEsQQEoraHd/nDM5d1TCm+kgrMn73rv0KE9FrDgQMaFJ8qu3+kQpKYw1Xtlo3qKZrOIG4C2dDPj/\n",
       "m/LgAy5UKeDxIFfcP1yNg9d+IfcCx67ioYlo+cGCMXOSnrRCN18rGw44TqN1UHtchlmp3J7BF3Mz\n",
       "agk8aiHfmxmR1z6fkAjqf41JAAAApwGez2pD/wBIIkPKlrJ4eugxPWE88+HldHTGRwALHP84Nv6a\n",
       "nBHxJGzggm0G3qu+13BHxg2w1K1MyRcN/sP3DxtlsfeE+yKvKmVHs8uhJYzCTBQkKRlLvBFzYZDv\n",
       "NJ5kmCw08P2wb1QuhGU0jK2aO/dWY409yc2twuSOLyZY89MFexggHG52bIaog6NnO6XVWnNPfGH3\n",
       "D6gLb6BlBM4D5Hwqw6/e5VjwAAAByUGa0knhDyZTBTwS//61KoAUueDlh6tRcEl769z/e0vQA01v\n",
       "1YRH4Ze99BLh0nbt5la7zgLAZvAeF/3Jn23FvjJmBypIrj+AzMfBZ4fyV8wh8765FcCQ2QI6qKOO\n",
       "/7Pl4173oRBsxC10FZORV91MDMFpoEGL0/IpymzgGqK2GHQ3BuYFJujuZBn8LodrqYUS6G9G2V4F\n",
       "ZIOsZUuVk0WNIk0A0uSfWeZ/2EVZeYcxjGs0i6EI1ld6xjsemkAYv9WHmu6OkrQ/z7qVhRNxHGmI\n",
       "CfZE97YnqpwhOBbMpkWSi0MdrsxbzB9ypIhxlQnklYcy21wzDhCqhSXCI06RsbbVTlLjctadBoFp\n",
       "dgs8lLhQw1pFEJNr0LCGh6jFms2nLlZB8YQoZZt64OB8aE1ogK4hSQK1SCxbL1a2nj+nIiBpmOCx\n",
       "K0VBfKaPvOoCcIbBed0cVNEZ98gdGea/qT1wl8QV8oTlEnAA+pzihjskxNNfWkSO5vhLar/pqoRC\n",
       "x0eQQzBghXW+d+3+/AuMUx82j/E678S+ghFBjtk+4g3kfOo0LC4kzHLmHGLIHFKWnXxiP0OUYj7/\n",
       "hxCOez2DI5LUxHwVEIRaFaumGturABgAAACwAZ7xakP/AEgiQ8prR9GX6WgVRcNfGAEeWX2QVSPc\n",
       "ELkn3uLZsiUVJA7br1c03jx13erq1VZi/1eywkruR5rEgIrMn4I69NuLSLt4s1NGvRP+bOzT7m7t\n",
       "Jt4DRSXAjIXmxMTpi8APA0jIwKCdbnzFZSUr3c7+Ab46lzm3Htr8sY45AYkVI4XPz5xOREzV6i+D\n",
       "JWuJ/cUOyGL+k/jKqZGK54wIX6g3w0KVSHOqzdC/uIEAAAF8QZr0SeEPJlMFPBL//rUqgBS54OWH\n",
       "q1HlJlfABPQjLIupOxX6elWPVgkCBJ1/XG49x5STiNutNeT+HnAQq/ex4cAtqdCSq2z/hW9SanYc\n",
       "Sy0gNM/Jk4piOFe+IIbqJOgQUcAHaPoANiyWufzWm17TWL9TOpm33AbTzr+XR1TmKx+fFcXNhMjN\n",
       "qw5TFHwM9OBrI06S1fgmKr3c9+THsFDofVUA5FLcA01o6fxx159oOoRPBQDIKdJRL+LGBwdpDcSZ\n",
       "EcJKv1A9Gb0WJBLL4eZr7MczzemhxYAFOCn/zk8hnqn/+P2jgv7vZVkhjfgbnhnlfR3OieGExvwg\n",
       "lM5jie7FaY2xXUTjY2QRTnxMZdbUqSz2hUXBvTqRoHTzB9ArruM2cszw6NcHT54Kbarw5xTTmpvS\n",
       "Lw8qXbSmVMtD3vp9WVg6dmpsjfBKCECR/Gt9DJbRlmgf5yYo1e5bC+KvB4cVu9fW/MvezMVyDrIo\n",
       "zISLoYGAJ31oBCVW+1xLq8QAAADWAZ8TakP/AEgiQ8prR9GZW0TgIExGD0OGLDGQABAYLsRQcYEk\n",
       "19iU0PM03OuuzZ3pNvt+QnpXfXptZcphEX1ElX8bDgYjX2ItQYqbjL7fMoIA6OWaDnryeYs3wfVr\n",
       "1SaJXv5RLU7KfC4TUMyCAEBjZ+G8LFi5ZnDuTwBhVgUG2yZksePZDNknM1QPDp4FCSF4pownZt8a\n",
       "+5VPOLpYKsHLd+BqtQ2ciCErrpZmzk+52C/TfWEvkubl1CHgwTzDuRF+CRQWua5sD97UlnnqIwpK\n",
       "UoTfqWgRKAAAAaFBmxVJ4Q8mUwIJf/61KoAU1/IY8iAI1cbz9EM6wPdVQEWzcXmgjw0Ne/iVPDPO\n",
       "YKaVjOOCA4A3Q0mQvxj51fr0ujZWFlpXUECK2/y0TLCQG86gbiKTYCc6UF7onMg5j5gWT2j0ENA9\n",
       "F8pmkOUihJi5hlWVDI1jVNXWY2QriVr3+YHeb+9cgRzOTBEcUu475zXLrFRzq60K/ZzUZFEZWOq0\n",
       "EJkawtKZGVnI9yiDAW/ifJuZXTUnweaV7LO2TUEotjlrVepu52H3YsRsBgkukSrEnjswz56mhwfg\n",
       "7b6PgfNp1nPIBjdhAlv4t2hfgJR8aGExzSWqpnz1/rkuIhSiQ4xxi1q1QNW8mAkVXgNTQRkwXs0o\n",
       "zBhn3p35bl1Z+NB19iSP4h22XmArAW9rSMcDPWZzqzeq4X08sazG/laLvjoIvM4nEe1tj1Nki/+w\n",
       "Hrd+cN4264rkC8UGyPsK1lmj0/nolfPz5PvxhZRklbqZoWOMBQ6X8x4DeFzMkik/rfe21pkg+eoU\n",
       "vW4CbuNgF7j/BbbFnbeFsnXrIEFCfVrCDyBXCsEAAAHNQZs2SeEPJlMCCX/+tSqADec2eRACBC3T\n",
       "9rlgQM+uoUGcwPi0mvZQxjIQqYDpFb0TWAwbe9Bp3mceqgKf3Ec+wBjjmk1hMIuerVKSAuwB6hUS\n",
       "6g8Xy8xGeqUQ9Yfn5yvu/Vh7e0SJa+Y1eBGanD9IyC4S9gzSCcT6KjIgEhc10HLy+IdyiHEnNVSE\n",
       "on7GoWI1iW2a7pTl11uTiWUzx9nJOMmIeXNtgmNSegpv54lVSrYLCrAQjfer2F1dTutY4ulyymde\n",
       "kALuTHw8IefZbjy81piOM3Msg3pAa1i6nJ10geZm1vtTgd6fO2PuzHfnowdsLAH/2+uP2OY/+ha0\n",
       "Eb8Dxp2JEC+mqQPtlvLY1KizLlPontjz0XuefKjXkvUBzP+3juOYP4/S5M25dRtNI/m0lvXaINRo\n",
       "dqInfFdjq1qTuAuVhk5iSQfzciA3lc386ke8WuJucvkb73X6oxydKe9Unv1LcEectl8VDWL1XYx4\n",
       "bYuNs7v4Zr1kUe11Qa9Ijph6ynqA7CWM93f2FUecdbuFkl6u6FmJAPInbzIHOTev+zmcn9D1GLiX\n",
       "xO1q+/7Mwa32JlRKQ0dfkfigFBI0X0lBNU2WClVeaTh56MzzFv4AAAExQZtXSeEPJlMCCX/+tSqA\n",
       "FL0S/MARtUletCVVh/ULayB0kMW2bXcr771MdGCxvJ4W7PUofTVt1IllmLW2jfY1mUhb2loTAocr\n",
       "L1af6Erz8QX5zCY5CBywrq2dNl74kwVssbMD5sdQyRtPAmYC4iabf7CIhBgBjCPnZqH0Qu2raU/4\n",
       "QBtIry8S5yL5ia65pUvh9x/gB0O+z2Vkhut2K7mV0y5Qa8LMwk7R2xL9Aw+zTRPB1DeO+lJEqt5S\n",
       "jLDDocxwvu3nGUrNRIy9w0seWdRb1qT9aOyStRx9d+EOAIxEdtxfxDbou65r3FAb/+FKD3+dHpG2\n",
       "Jo4aMuOp4FQhsiGEzuX0AvXwUg0qF1IG9P8I6/j/Hen9R8tdWNjShNKJo7ZS9kJ2B7BNIvzijpZk\n",
       "Ez22K0EAAAHzQZt5SeEPJlMFETwS//61KoAUvzBaRvNwqbn8TnRVjF4wqnkrAE8qPJYe/eKvxFEz\n",
       "nl/KuMnJCGZWLJJrXEYXTgqufC9kX2Dwf+wvH0p2RP1EadIXeVTDrquBtoKTR3RsOul/BVKnY1Oy\n",
       "eR4t6EhGFIbSBQ8HrY70ss4ivnKorDXCeqvd/b/+CB4C/KHuNo1fZK4FrNpLg9f09SZqpuTq2owz\n",
       "fA26kXe7fbzMgTrVqNM1tXlOd+uj2Go9xHe8mUVLXHaseBPZiOqZFw+X0yO2vRUp4rsHT1ZKSeDm\n",
       "upO8UjQBF5tfbwJkUbBjz09llC6DumLIa1rdWk8FHy4qZmaKlBzlTMr0gGYoIbpZGZ/rhiwB5Bu3\n",
       "CiWj2ToxV/1Fw10F3WsqHj6r13wK3moAVm8dZq/KYnk6ECt7eOQhKtPF6Z+I0Gtciw/LdZy+EU8V\n",
       "o3IrB0i1a/WykkJaDMvJZp9zBccjlMD58rMORWqg2Aqml/FMJCVn7xjYtCJusBP6u3ghSlHt/QXu\n",
       "Zu6rbAWcEvkMAj3Avf/vd8UvI86MTNfbrEgL1pk3C23Hzcer9vRZ3TYUnxXAHyrLTNK312Ujr+k1\n",
       "p4vStnXy4bIAYXLC6Nxz6fTVwVTJBnWeV1vwfzCQ9LX3DLR4UFVVq1hFgt1Ahc+6DwbcBQAAAM4B\n",
       "n5hqQ/8ASCJDymtH0ZCnPCm/HuLuvpg1Cdx34i06aZUMaZACsqc8oUhDUy+LKLKrWz88MPZybMmx\n",
       "KQ0Vf4hSBsZXoeSBxp1vM9IReHUN5+WZX4TXG645GvyMWF+eDX5LvkygJyxwgA8U0YH4etwgkT5L\n",
       "BIT78TopY4yAFsMO1S94YoQ+8u1iEGCaDV805skT4nEdD2YQJV1fx0rVR74eSRpeqpue5S5UxmuX\n",
       "TpcQqp9xLO3w4r9zl2hl/tP50v7w7h2ujFuwKkcSlGRsgAAAAXhBm5pJ4Q8mUwIJf/61KoAUzOvO\n",
       "mcdrG0HKawLyQZJ43H+Yb++lxIitKXt/4Jh8uLMn7q0TgUH1O8t4Fpa5X/1doLCeD4jzIj/bEZI6\n",
       "qKbBdLf/2PEULS3Fu2joQ/WfDOPWo13yzpN3GGvaQrYE+I1Nyfgapnadk5CDVkjENNpREIMBpwR0\n",
       "SIeHtZf5rTqQS7Aoq5yQYoiAoj+HO0vXlhspmzPW2CHVUk/pAz0ki5GSWQD5F/Jz8sieIr2garyb\n",
       "vdArO1tNHo0n5+4e+vAZsWrj99i7RuFMe/5KEUzOrw8UyRgjzXdNKBmQBuOs9bi3tdVyCZtKjnCC\n",
       "ls/WcNGxo96nd8Wl9sHsnkMWIS1mHWeG81cfqEWSuoIYqnFc/VYnfYUJ6YM0rmzuD8ugKBu0W/6E\n",
       "TjQn2TPYZ9sD7b9lfPDDIhPvBKUc9atuopHxG/RzCBEzREkFvBVYkvtZHZ+Br8IvVh1EI8RG3sgL\n",
       "DU83eGUQIuxFV04HEdSBAAABj0Gbu0nhDyZTAgl//rUqgA338vj8yK/Z739sglhD5XCirbaPhrV3\n",
       "QWuJu5jnr60AVAMZKVXJ1N2uyFmi0WOcct730qkwYsfQdTJnow6tWjRJXjkPNSY5fGdZfbSnk76y\n",
       "D+ZmQ1k5/ShR8kk+5csDepPeXBXLvlpS1crroIuw/PkQoHiWikJ3bA5piE9RPsh6bU69LW6zwcoB\n",
       "PXqhsZ4hW8T8kuCkU+n/9iyzkcyOz0Qw7RPaBA3b7lGfG85tyY4b4mb9SzDaoNLRYo74AQ4/qEWz\n",
       "QTraYcuHv1ndHX39g9bNNlC6vKgHd4MIi8Lvs4tN7t9N824J7RpyTniRRQ3ReV/EVSXN+cgz3mAY\n",
       "HnrdkUZ+m45IictouRvRUvUFvwQ0976ej4Oaf7Nnpe7IXcCDanBZwQDZmN5atOl2hnmt+Lx2Wosi\n",
       "RzrN/q1d0+V3BC3pMWr9/Gp8Bvh7oNoll5bLpbcjwbZc86V8v04xxgMN3jQb5/GrJnSzOLfdmwWm\n",
       "HRk66ESU6nW7Lhc3A6GNPq2MRAAAAY9Bm9xJ4Q8mUwIJf/61KoAUun2yscyGowh0tfwkiDBuSzJi\n",
       "g+CYgSnkAfQ2BAfueQBD1qhFr+lJYUbgx05ODdPyFn/xw5kcZDXERxlp+dt2KLdZXEqbMr/70C7j\n",
       "Hy7tdNrCNW2pIt02AIOIawHoYevsyQWW0HRlc3s82WywIKa6P5fUAmTDddCWv7xPDmQiUhO6dOQd\n",
       "+4wTYl5o7cSJHuiDy9rqYRpYCp7YCzcH0cEaHXIt1r0W69OQs1C1R3FEFFDn3gT+zjknIdumMrFG\n",
       "KXETWU04FAaDbuyArtOjVy++yXe3h19ZBXsWzi+10yBBOhqW4cC/IrZlKrs6M+OXAxiOZPBFAHkh\n",
       "xf12uIRiwHolZPNgj6zxnoM5P7533lWQWqLbnnlTPZjAdVB/JLOTAcAlJGBNUJDEvQxfaZZKMtTi\n",
       "A/Y2fMf16eWe8AQ1gD5MneGMLcPM3mH+5GPDPrtT1zXOF/YNmDQC0oYFs26KsETEOV6VlHWbyAa5\n",
       "KrPqIvLjkuP8vP9a29CPDSs+MjTCCCUAAAKAQZv/SeEPJlMCCX/+tSqAFNfsCnkQBN15n3BpUmW2\n",
       "H7OrfQYaxmOta9q/X11uKcS5jCT5YJSczcXvxRmaQa21tfstRAXm0tHt5RF7aPDs2iWwrA7f/lYI\n",
       "m7n03USs6kfrFTC+2LKR618KQakc3R6g5AHWYghDqZE7p7GppVnBU35iyThnTacoNt33xHjFz4kb\n",
       "VLlcvEJm2kg12w54vbysENuYJZzuLDBaAPsD2b0LnYr1DCbtviRFkmRQIT86n7JuKKvjvmedypDH\n",
       "zaIdAdRBDLyfJIskBvPZZ3zu9/zdA+FtkWuip9lBDwOZ5asOoQ3mP+LfmlxVscyhwc+TDwj9q/jR\n",
       "y70b/cM60bYQMNRq2aOph8shAkrcikMy5etAvDLz6Rmzv7lgJmIGfnct5YJIyTF9JVSRO+1aOVDN\n",
       "HiDcXuktQhOtr7cBs5F/w/P63+SDbB3UU/nB/tfp+m2GRgIKCJZ54JAvbtJIF+HpzCg+NgwQdSsX\n",
       "HZWC4+H9REMRf5BBNZ1dcPsBv0iv2YczkyuAYvuODwf5Gza7vSC2lDi4SkcF1ZV8MhRFboAEx8Jt\n",
       "fFzpDBJAcjYLimV0P9Cjq5I+gyJI3BogAj86pdPowQkVBZyGZS+SvP0yq4DvzjzMWRUV8gJ2CCN3\n",
       "jP0kxDxXoVLEQ2aNAWu8OX55JKI1u4JEkov/L+dCVh5Ai91qYQxba3dDYvoV+E4PXOv6HPtp4O6J\n",
       "sK6uD2MhCbRGXl0HOI3+67KeXmsBz+jkXw3KaMDLpIVMGnk5N6+f7czsylBsLP68TJJFm+IajcTq\n",
       "zq1b44vWzK248ZqOr6jo+OKKqzHHBFC2oSXU9tC3JufLuJcZEtAB4QAAAPxBnh1FETwQ/wAgLciT\n",
       "pyh+LijcZi8gAlp5QSWsVT67laC3BA4Ovbfu9QEu0zu/Yun1pf/nPzdMPnlFOl3LZX+FEzgwjGVq\n",
       "+p1zFnRnsjkmQiHNjPjwjTeESwMluotxMrLaAesIxWT5fhcQU2ukgRNmsEPG1JQMAINn9XwgD1wT\n",
       "CkKJ02MSfAqdhaQHH4y+ModehQ70o7aaOFo413oPVBv+wO/KiYIuderskVKmd5/RgiIA+hQGKMot\n",
       "5UeeEgGOa685Vpfr1oW9ZMD6i7S6IRZkVwdJloedK5ZXo77L6Z3fJHWunqc/Jdx+foSVJxdI3dNH\n",
       "EWXfWq5g4r6AtoAAAADTAZ4+akP/ADhLrGrvXXowAaKQEo4p3wF/RyC+iioQr3prcHEotCwMy9CB\n",
       "g/7Yus/SoCp4hxB+ghAl1i/Xtt025H0mV6LCmadgINYJkX6/SgountabdAM1MjF/ufFuEtkWpZS2\n",
       "vWcRYywGXo60boZLr+CfvkBfrg52pvy2bqjdV/SKKJZxm7jG+GOFxCDrPrivyuFYrdB3PlZsHWnk\n",
       "vuDtn0qfPpqBetB9CblVQyOZl2g8L7mN5qE2VtefnOLLWYbRowFTXgbhwhadNlQFO3QcsPgtoAAA\n",
       "AZFBmiBJqEFomUwIJf/+tSqAC3G2eRACCoqPsd3qE/QT7Wv+t9y/Y0q+1jd8bQYaNsKZ6junXj76\n",
       "P7/tAK71q4LJKkSaFrscPYTpuyDBVb8JliPwUKdD8V/fItBH5ELePt0NKkOQ+0dDJWN0sZ3fqGl0\n",
       "I8BCQqEJ6EHkNlr/tTfMD/773NMHDzEclanXQCDbx6MRItstLAefHrpt23rv7uFOYxKTYkaPg8VE\n",
       "2qoTtTwVBB4CybOGIalMmIe1jFMBLK0b/E7qaHWXuFQORZuc7Wf3z8f1Y4xKMJLvkn6CAcsE1+4T\n",
       "ljLybhHA/8w321lvqJv6WwDVIo8WOmXc3fTRmv1lyM8KG0N/IKhM0NFrhaB71bycIhnsCZDw9fTo\n",
       "7LyruGfOlcVqqdkLAKTDiGzxmPgEmSLN4AoLabrwMCw+KFmC/1k2i5xaT+4X2K72eFNwELq5D7EW\n",
       "Z4fxMGtWFfUD9N83BzoRYs4pdUhricbx1hZSXiPiP5tJqj75iDSluMPu8YNjzUmbO5Dzde4FdLaZ\n",
       "sV2XQQAAAWdBmkFJ4QpSZTAgl//+tSqAFL0TCwADive5WphQ2TOXvNTk3fbuMUM6B8iRtPVCJWCc\n",
       "gM8PsRKxhWN0UQH6SehsuXVOtFXio5gt8aceQIZ2fgJcseCfHzumh+0y9sEPZbF5Vt3opOI4PA4u\n",
       "hWWAO9ytbjWekKRY5o8/GfjQ6iA3H9wY2I8HdXPVAYu4Dx90G4SinkIsJEHhHeEeV0N9cyisT5wM\n",
       "Rt7SuVqsMyK5B5Lm6Ifw4XKY87NUwiPQseUinLWQRP6sW/QWn7rH4wOORaJs6LKjdcl1+n4wxsLk\n",
       "9MEcG1r9mhfNha9ZL5G8CcNi69CufO5T7nlwk0HQjezG241uL0doWf44yNpeIQYGeUTlc9YuyQa/\n",
       "tU/2VErdmVMAkYA3Egw43pcmwTUVDMN5QMoUbB5zgAxEOGvawPb0Bf7M/vffov9pZFSbbGU59Ga6\n",
       "tfL2f/c9TyyGCO31zMcoE61MTRnWdTe2gAAAAX5BmmJJ4Q6JlMCCX/61KoALb3DTiD0b3VtLZmhU\n",
       "oftjpaDgFhuZoslsb+d7n0WmFXgyL5SO+Jzq6i+HS0M6izVekZ20ESiolkAcDy2Nvb2CSHeNLPob\n",
       "r5v5CsD/01sFys6mB71dz1IZWc3K3I/1dnm45JVuaxwHdkouOaicCX/uW+s0f8Nj0N2TCYzuZOo+\n",
       "fe7pHJayXZxIP9SJCx3D1hiOf/J8vmqE+GjHuY1xnXmuzm7u6dtobWt7uHHpq02mc83yRs+tFsbw\n",
       "tRevjlzrjmJI10nmLKRW9yTsPtu79ifhPsJcWbNgorcbL66PAM7Yr2EoQmRfL9bvduKw8+mVGJMi\n",
       "/7vtCnnFUxhCZ2B3269roYlfAOs6iiMGPOTgLk+NjCaSPuqrve/Esv6n2nxmUob1nAbhKO7T+Y5I\n",
       "znQ9BpU02dq514XHOalK9eojAOe38vIbAus8pGBljhGSOc5ou+1ktU2aBWkh16nf67pjB5pOVeYU\n",
       "41u/TzkKwJYfln5BAAABlUGahEnhDyZTBRE8Ev/+tSqAFLz5lX8Efj3BJo1pze+JaoNy1KzCPJWa\n",
       "U9w+FQLMdZ8dC+bxgqhpUI6GKycL8zXR/ZDFDGNsgPzY0VhgmB/9agZR7atUNb/IXpfiaiYZtosd\n",
       "yQJAcgJ76F1RhNXnTvu7IXBTZ3pPki0HSgA907D9w5feyefvNgJCRKus/5LCD4Z6QMMKj2MBuRWc\n",
       "DFe4kOP4j4TVMoYBogXo5WvxWCkiZHAGyQoYrjbhhN1uxgbuHBYCmA/Z7YxMDTxbW/zbabmAsitR\n",
       "Dkh4uJniAH15n36VOhpJOCEnwak6b+384VuTl3gPEuaPWrZccMwza1w+Ql/SuXeg+dHwD+S84tbI\n",
       "vNtRiq8xibSF9C3bKsYuIucybiZ3hd5OVnp4KGCeQxiT2fMkzbd0aAAOrnFkjxlV6EQ+CWWJc3OQ\n",
       "QafDbV/OV9FHej2SZtuRsQJsdT2bT9arL5XIfIrvzKauNWJDaD/DGM38W8lfB9wr2zmJq2OSA7fO\n",
       "oDB0Vl4mDup6zmp/sXiCQMSJpFpG8QAAAL8BnqNqQ/8ASCJDypIUkL00j+5lARU9nxACtAwsutkF\n",
       "1FFJrfvSob+8V+n5iQ246IYn5R4+wNtGjNIg7spP58zK+5Mw08v4l0Ak1KSppjcD8dhCIDgRFyNK\n",
       "g1Wfj0kTAdkUv967J/G1xEo4Ln81VuvXckTGLzbJ05BgyzxPQoqspWQfdnwsKlC3LPYX9DzRHrWh\n",
       "4q3KtPOPmjZxCSKdUKnh+NO0h5He6I7O6nJl3maqQ4SJqiLRUGPlzp7G8B4DwQAAAopBmqdJ4Q8m\n",
       "UwIJf/61KoAUvPEOYgDyliieGeO0PdlG9r8TvSCwAIXUGlbKzbNrCDgJJX3/c1eSfvH4VMNtbVAo\n",
       "ry8OgKctJtg+gjZyyzjS87Hpy7hTejsiUjFXAmNz5wzNd8rwdIgbCwVrr/o7w0GUdsE51A+o/Xcm\n",
       "hB96sMpMVlEY0BLjIuI6Uz+Z1n6knoj+iFAyHk8eAFVXyKnYyah4en+sxwrUGLloBa803eT3c8+w\n",
       "st5lfkn050WsMuidmQ1x1SX4/aeKQnuUCiAXmprzpy0e3pFJ8ZGQbCL95HbyYrv6Go+fj0+aNXNF\n",
       "krEl/DyZAHHBBAEEmekmCzIQ+wzya1SsgtaYviL7HKC1WrIr5XsKq7a+2n3SQZBzE6GFYInlGIdB\n",
       "K+IUOr2NaspPvGOq4ZPNyvUtElbCNnr+U7z38iVDIyF7B5C/s2MOg8ubNtLCjkbOfzW6OCnhCs7y\n",
       "WZ+JIpEMfV2XT+cQdC4ZIixBnQE5o1KfgR8llN0bY/BoDPia1GHbL+pbyAcrpZlsy5uJpg2DbADJ\n",
       "noQpsjMdmZliCSPPn/eToFJMn2cKyngbHxP1A5BMpGh+tTK0Rec8Qfqc8njoROrsK0gvDLk56QYl\n",
       "pTEC9pWZX/kjW6c3AJWGxvMFJKvRzaE772VtFTQx3We0sjL7XhU9zuAxTnWGU+MndYoV8Q0PcbaQ\n",
       "D1wMF2o4g78ZzQiFakDRhmIEMYgpJZQzAY/zioCVT1+ddYg6/KXftI777jil//mBYFUMjE43yAf4\n",
       "18YwPkQmiKWtxKy+Ws3+K3/h2L0qXU7Ix6ia5fV9rYwXJ2EVC0PaF3K8TGoCn2dZtfcP7lj6mVYj\n",
       "Fq28uXcKoF7EqMHM+xSYgQAAAOFBnsVFETwQ/wAgLciTqN0Li2QC1k1oBFSWqhc944yUACCgxjih\n",
       "9nkVBA5mhksuKyKUAe07XJjaShkfwdna6u9qfantmekMe82xUMPrqcvudyLxKx1HO5ZS11fRyodh\n",
       "tMrk6Pz2QLtYeOwm2vG/STO0LpCA80X+e2N6PqtUpHhFeew+pHkLmE6zFtVqOwGkItgU51nhEQ4g\n",
       "cy5R0jKh0pEF0ZkGL/j6Yj/34bItnN7jp+RTYPyEloEMlDpWIC2C27b++z84JmpOWKI0z8ISW/er\n",
       "R/N1eMICgEXzhmn3b5foP2EAAACuAZ7makP/ADhYTcP+6yqqACxkXU4UNhHLvXrqQfUmnLXfwiDh\n",
       "troDbBI+5ODUtyuhD5Ar2zncnsdf8vQCYT8w8i+xQIilK6hcwbYSL4xQViDmQTmpaoNGkPCgaGhy\n",
       "DeClzkE6ndTg4zIYR8/TWuDySEWwKc660EcxxyErrNNrWuP1UO096Ud68qvlDj2cAZ7cSmqB1Utq\n",
       "ftI82TN7jb+v4cdHwyfxKeaIwuus28uBAAABvUGa6EmoQWiZTAgl//61KoAUvXFmmaMjx3Ulnd/k\n",
       "QBo4FhZukBrXtMJrvwFbp/TucF0I8UpG2boWqxxNhtCyM4/hss5N4KzvvQRRlyJVwXOdBp+yMWFE\n",
       "PWwiQf2tr4t4GyLZdR9k/+mHYhFvx3gipaT0ZlEqRtEVjtHOGpqZEXsqjWsClZSV1y8DuK4k+guW\n",
       "sZ/knMFQozCpnh0Za78V03Eiojd3krsHZTRcpdMi88PAFcplqviDCmfh5eBdlmJ34BCU2rSoI9TO\n",
       "3SUW/b7fMtsIBZr97vQe20PEoJ7G42iTWVuZ9LbLSWnqgbrN3s8n4iZ+8jBDup12SGO3kmsrlZHJ\n",
       "kHcH6XSnJ8I48uD24/HidI+r6Sm4v1GMUv+8H+7pMT4kurTvNNueQgIvaLp4L8MxTfSIIlW2ojaJ\n",
       "xZzjujHSIPkhNxb27Ari6KeRPqEIQEe7yGp3wBx5ZBsKQK1aL3iimquJ9JXejfgxLSNCBPgQXe4T\n",
       "CrXu8sqs3UEK6kLixDORDepqwPrdeUu/qrx5tU2xLI6oOgSQs7D2fCbHJ8wFMB711KJpvDh27iNb\n",
       "Ug890258bYZU0kDT1L5IWjAAAAGdQZsJSeEKUmUwIJf//rUqgAtxDBWAARWpPGmz78lel83OiXs/\n",
       "6gQxkrBYTuG/Pp3Sh1h7EcGze7lUTROmUlpGOoaswTZ4SWgwWhCop4fzQoZPhrURZJvZ6I5mdcuY\n",
       "wVdwkSCAFBwybZhyDk0Nm6rdca3afDsWYWBx3dvNoUvy/+IUSm/0eKnkMPVOsi57Avt22d74lvKX\n",
       "VNhnbUiAveddGLbZ1iWoy9jE7rkecVdePKXMCC3twtwwQz8NFkODk1Cs5+0RshePuWcKEIRle5jn\n",
       "Vthi8LJakE/7kofIL84V0V9jfWWF1LH1Wkm57To8EhobBrwuMbne1mSDOs1f3/6G7mPHg/ldw/pJ\n",
       "BQvnGDIyBSxqof9fgPJHge797feyAiLZNRTNdXL2qWED6Xc3bYtNgcC0fYquvuMey/Vs6B5quvzb\n",
       "98pvRDlm8QOSVP5TeY3iEk0sh43WZOaMiLJ50sJp89bA5aLdgEsAC9mfRJ8AZgWsye709T9OiJRZ\n",
       "PnT22jjL53M+4MdNVELYq2l5BvSSyypuzDFpZBj+VFZYp3gAAAGiQZsqSeEOiZTAgl/+tSqAC29w\n",
       "0sOswAnHQ43tomcar269PM0EWkTmxgW7tK9iy3vML+rHhFzMqkeZYg8nqpnwWb/cX9ROfjSOso3+\n",
       "K2lR7ExdJa+tzxwSW5w5MxHNp65WrV3Van33qEQR7U68FJrtpBif/F8WkKW57/SyKB8rN1PTIP3k\n",
       "vqgWiqRZJIeLvZzHkdFnKDqaOjPLj8I00kjSjaJoIWFc2o2gweK9IiwxUNXkC+AYsc7l38/b7ucq\n",
       "uAG6P61P+D4Nkifmkw77Cy5JeNyvBYA7QxGclbJ1EcUsquWEZs44fzlJgclkqy4jQJlt4axfYwoz\n",
       "i9M+K9/bDkeRuIxTqOgXv3qkTuuMS9yvf+RhEbmrUpJYJQSQHOlBq9S99HJhlouc0yYScO51L5O7\n",
       "dlnN5oXJDLuIVMY6xfEoVZlMAoh2qrYaQGbief8I8ADAAb5cBDB+9AGDdBKYuNSH9ddE+OFS54J2\n",
       "u7UnAmh7TiLb0Pdw538n0lKP0WV++/+ED7KCEAgaWvLRMUZSIJAuwOtIT/DgLLU3E/p7u4B8MFb4\n",
       "4QAAAXRBm0tJ4Q8mUwIJf/61KoAUvXFeWoa9E0zLHFFgef7n45KbeyH52J/gA02f2Cp6DN9Eg3OM\n",
       "p035iDBQMHeZdvASiEX3uGHtRYbPWM10tdUkNx0nRu1v77UxJ/EYWVB+9k6KY1LWvpgXQZ4zsyq3\n",
       "63HoKuhOCgDzle0IaA9Y8zYX9Z2JGgAIzWykQWqoUg/lSwH0XLqrVzMAosetvOKhZUB2iBThwMvW\n",
       "HlQ3DyF7CRmkmW6duYKl7aa54xlX1HWAsvsFvi+DXcTejhZnUuUgoofsLfL/4rz5xKzm5DIJ7/dc\n",
       "C+LUJd5o7oTo73z0iZ09dhiM/j7wi2Fe7fiZvCGp9BndcOoFvY5rnUltgL4e0fztdXEo+j2a3nvQ\n",
       "KhTHvt1fI63q7do1oZNt3LcnKHvrK+fsAkp+o3MEkUjFrv6vrMq/X7P9EU4Q8JvkEbg2cH4NbDGz\n",
       "8YEjQAgaCzZiaw+B5tYXClXILAsXygl+w6NMuG6eT8zn6kAAAAFKQZtsSeEPJlMCCX/+tSqAC39G\n",
       "9lB9D00AKIogsBKRJeYJDV1qQjTpNLNxr5ITapTN5XSUus2qVSdGgKVbIB9QS6WMEc40r1lVMtoM\n",
       "ce+26aVkMcy94RzeNeVZO9mBMyRsr+g0uuLqGhhZnAKGuTf9QdV8jVZd+uoPbzerfmGwGFuvyNI2\n",
       "LryVuQvKV/lfvtWQ2/BYvEPXeWJER7nNzm/4/2hTDKGCvtECWAEjpfF8uLyakr+vKun+czXLCeS5\n",
       "TsVVR8kE0AK4r99OWORGtnBtNA1HkFKyhMf8/O8iMs5hCQ27tX+tAUmJahoCMl6hHVfD9rdbmhN8\n",
       "hwjmoxUFMTyFx1Sk5W6Jt3ga+qRWLm3yjQ/t7Ql0UNkAV9g3TIj67PwhHEnAsqbySmX0D6n2oBI8\n",
       "addhv3DlvE49tSCjFZbwpv2kkxuSXOviNP/AAAABCEGbjknhDyZTBRE8Ev/+tSqACyj/J8pgCN8E\n",
       "UcJtT/cPOs95Sy+MZ4mSTw4W0iL8X+3vyLC3fPQdI8lLOFiLflVNg3g9yqgUlDwnPbgEjD0Gj3Ff\n",
       "kpxOoM8sHIRDrY1OJMEZe82cSlvfbQcE4J1KZSQTr0ig9/QSYFoUJeYQu+pPk79fKz8aZgRc5tSl\n",
       "sUsBWBxdsWru5VAjG0T9lX9J9B02ktc0yX3sNKcn4wSpDnwmlxqazGnH8MuQbwCxAnxn2mH86gt5\n",
       "p0EPCFhBOzouQwM6CCCq8A9zYHPQtS6g/slq8caM9HbUrVwPMcCroQaQS1+cTx+FZ+kNS2rx2F9b\n",
       "k7xYPGJMYyxlQQAAAJUBn61qQ/8ASCJDUxAeGOAEDpsYtg+adwiAYYBlEJEoXRys5q/GZ4yMUzuT\n",
       "vKwAc29tRoJ25ccGX2T/eBpibBs9pawZTg2HCuIg2R9UT1t09fp9uUZGuc2kR2N0hDoyZjPtbA+P\n",
       "0ciQLc8THKKf+FJ3mry+lUdec7NWfEXNt8i1R3Y2XvLScr34eA1y5rJ5gVOVqAhYowAAARNBm69J\n",
       "4Q8mUwIJf/61KoAUvXEe0P1fxOB1aZfAR+XVWI0QMizDgJeqvKv6zNeD8ne3SCgVxev7DrtdNKMh\n",
       "Hu+llJg7QHGzoekPUU8syYy3EPqfhh2PIjdeOQoH7HB+2ccugsh4hhJ4xTZh45SyL6yrVw4gKBsg\n",
       "giNk9zGwPaFDVLdPQPcYaQvLNiJ0a3ItdxPAqRDDYENmxh7k7hkhKUxXnvhiJ5+Spbtioj1VGQ7Y\n",
       "aMVvKTcyyVHnGTBVsPbyhyAaZ+43y/uog2j3ppDgpmmQ2kLPh9mXLCXKOMO4oxl3mIHyKR9RED19\n",
       "ICF6E8VBld4z9s78k8S/dpqXhZ545cGZZJ07HzBOXJUk6bYK3patcGoqMQAAAcxBm9FJ4Q8mUwUR\n",
       "PBL//rUqgAso/hLuAcIQA4Ti1QSxapkwzYp0Xni2ePJmyH5Ho5LODtYptoW+cuwx4iLYZXIcGvrk\n",
       "E0IHkOl7aUGHyEqCiSU8I09xjbp9pipc85+QrapgnaWpjt5dsIOa97kTEITUlXJd0PNP7c4egHXA\n",
       "3XoYMaHT14dBQ/qnZZa73nsQT1+CcaH1SmaIR5eZZlAoa409+js7TB2+dcCMyLa8quMVCg0BvYpx\n",
       "qoC2ihNW1/8V4PZVwpp03O+y6PqPxBY0M6oOdI7pM9gtiVVUF9+WC03bh3C29MufJueSQzzK49iI\n",
       "0fRt0QENnUJVlmtR8c7ZiqyFtKjZ9VG2pmkwUOTQZgCOh8zyTSXtsaJHNVO/xhQ9cr6f4EUZxNQA\n",
       "CEayyNinloBmo5RGE9vVpqXQnJBilUg/adbUCt5Suqs7Ob0DyXDXfHLb3QxDR1TXfrCy88SIaYBh\n",
       "bkDSwdpD17WEfmgdyZplfWNcL6IeHHH3Vh7e+ry4mjVpNsSgF2Ax06YB0a/e/RJ8eMNPHMZtR4il\n",
       "UZtTFLlS6T/z8bs3mwuB5il5iZY3+bScrZqmA+/l8MwUlf1ji9BOyXzw677Zo1uY/hUwAAAApgGf\n",
       "8GpD/wBIIkNTDWO7gA0FvZ6+UEyWutKc2y+bqg9FwdBY684yDGKv2PihryPwSApd2r+7KTJoGmRf\n",
       "5mjINb8pnuPkE9iqEC778o9TgBrY8B1RAl5DbvLPYhAoWI+V5z/RZqSxKVZhth6ud+rwD1sNo9uO\n",
       "f4SzVlkEQrnI6tOmunyWVWXgSnnqwq7FWkDJd8+mcgcDOASTHlWVTso4PO8+tWA6BdwAAAFOQZvy\n",
       "SeEPJlMCCX/+tSqACykMDmADZOX6BkFMKLpYiOpbvAzdXev07x9chcCLspPop1E0tE0e7ziROXYj\n",
       "ebJxoJ9tcbiz/h9h6QsnsQ8zt2qnCo20e8/2V8pTaQjyMRecJJ73f+2mbQiXb/xX0XUAvGuAOeBo\n",
       "ymdCF+kQtPZE15tJeL0Oe4XAg2UuOxI0OgjiZ5I7hRrLVAe/qhPm+N+x0XiH5MVh6jhNhf+mwKiX\n",
       "8HNViEWQIMZDcsxwAIPXHEMOJZUeqT6r16UN7ZY6157htR3nNRPrL5UtSIO3WnL8kEOnpSOV/ppn\n",
       "Clp69rYx9vCvyl3K3HpD3ODAoVpkhyt3LLDnVeBV8KZQVq+MHlv+sbbNpRffR2nbGUfZ8h9DdyWa\n",
       "OJn0QDv+LZfMirtn25j7mTMCSlTbBBxkBPz1/tYh/+VeAyduwnjgceemL4Cv+wAAAYVBmhRJ4Q8m\n",
       "UwURPBL//rUqgAsncNOLnWorC4YTrKLwWbxjRf4tc5A8yalz2BA66ajINhvSuu7yiUlb3mDb6x8Y\n",
       "CxjO0ibDRXHRBb8ZLPsVj51jz55DsHlpSzyIPjXuu/zb5SVHo4LXu8UY9ph3EOwZqGp8u5uk9A7S\n",
       "vv/xvF5jWt29W7jqz727DrvK0sQ6gmQG7kXzefk4PTUhOnu8h9YxGIecj4qCwU7p6Mk4QOpqAMNE\n",
       "wMaE/2E48TRcpqjxUKWmvhi49prhu1XrAzS9m2fgBl5Lrmi9HLvf2ArCDDAa137TjE+Hlpxi+xz1\n",
       "g69VSwgRqRpo/xXUuAcOdv1PoUEc0BAJFByEaKfms64WvqwJMHCfYrnw+RDu4GJcckBsMmEplqB0\n",
       "DkanTHTU/XSYograO3zuMUT+ciG5rMg12hRVcaMN6e07pKkS2Gvovf8b8iNLZ0kBnOdglapkMOnF\n",
       "ifRrROE/B/67b2c2tE/64sYbUW/dpSD+w+JaJ+R8nLkvKUhD5oxcQAAAAKkBnjNqQ/8ASCJDUxBf\n",
       "cMFP6Katc5egCoWDUa2MkVQGGyO2ZDSWjbDP5gdLSwGRpt56HB8B5ChK9qMAo/Yhl96f8b+suZIT\n",
       "BQKm1gpVYPvXdXFoL8E4mYv30uBuKHFRNKWu5tC3jvg1falKk1vE7JmBL/D8mj3R5+2sAKl9d9Ze\n",
       "DiMJmeWirHk1CFfoquCSPg1Lka9T16PiFV1E/IrpmdNbCkJSQAtzdFXpAAAA6EGaNUnhDyZTAgl/\n",
       "/rUqgBCHYp+ABItea38O83tJTfhpeQiypc3TZlFRF2gvcpgMVSb7S6dBG0nARTPmbDd0HZGDAZD8\n",
       "2nGkF57ev++d1FjeReAd9DKBnoaqvKoMJCUn3nvRZcc0jRdoKMyx8Z69PwjraeZl1LL7Us228Ouz\n",
       "neEZUwJnlMYWjHiAPdzqZlXfKE9Nuca8ybD5niR/H433bmIpnb2d2/sffqZ8+F+b0lKAit3rCzC7\n",
       "TQxyBZJFAbXA0EgV9QoSVZb9s14zUqRj5fv6Eyv5yAkj99tYtIsFYbsMzJhNQsKGKWEAAAFXQZpW\n",
       "SeEPJlMCCX/+tSqACydw04uuDEbIWZM6Mg9dDRdnnHqvrurR5qINQ3dFSqFK+R4A/8DeXNOkKoMJ\n",
       "MgpoLbZNd1xnleG/8s9fNsKXYoiv1LxqqT2ZxKVkQ+mEggNkY2hzT5fLmT/txbN/8YOdqPPMcvn1\n",
       "uz9EiHV5/Qo+LtfCW7Yd0yN3dC0NUeBlXo041c8qnTDnSb2213NsRulnrV97/ipWKAGSMafrApNV\n",
       "jaLmR0D8wQvRSnR3wN8JXOZ/cgrPU25KPZd/7hJwTA6eaWSqTwsYIJwLwpd2focne6aI25VfjRfy\n",
       "w1agDwmbbMGlvRCexRuIgV8b25nBNYKHSrIbfuv6ExPM9c3jfrZe5bqdS2MP/lnfRttdGa4tvbRr\n",
       "5xjBM+NBgB0WEjOkwob28HUTdPYR/0GdCckE5bBkWTjkAWJPvhaxCk9p0mXF1w7YN3kqSKBFIAAA\n",
       "ANdBmndJ4Q8mUwIJf/61KoAKl3DEGSACIaCjAYwpcwBBUL8msgzNckK8cBZ+dMvEjkdOsRGIgP6b\n",
       "5W79hoIVnpKzYanpVQ1LuJ4U1CpFdlPjrKkN6wR80pRgFEzTxcSBbYEpZ6330/d3OYG93FtB25ak\n",
       "e1BNMUOTl25RoLy4Ql9Cz/J6Uuc3iwnbbCmUv1uuePX/i2JP/JTwggJyYIlZ53aothv4fDWOQYaK\n",
       "gJrPMIAZCU0501Xnwkg4yOXES9GlE/6M/aWj+lnhbwNkrvBkX9u8MkW5jHNYxwAAAZhBmplJ4Q8m\n",
       "UwURPBL//rUqgAso/hBP3+ykYAWTF8sfuWLR02tIFU5dNptieKUQK49iVd6ZvFBmrUk0s4UiYwq1\n",
       "ArXpGa+pz4prRPhggBp88H9rhDdFJth/IYCHpF8GcdQK1SV6NKDfSt+VaYXmboqepESBpCsVYQZA\n",
       "9XH9S7z4XL8fH225dXiu0Ty/XtcWk1xV1m19inN8uPbvLQjkuTPhUAmSIjsayvqBHNFziZS1BEfz\n",
       "gawRd48oaYezYxJSoh5oHvPdYbIyCM3yJc8bp1aGCTO5LLvs4a22zd0xoAHOCFA83TF5r1UYu6qk\n",
       "LvkOOebpZSn5xYaJZtCiVhBNP7X7pH4xUVPZ0FpfTUoPoqvRrt4pP+j/HjE5DXHe3dCYRtNYyAh5\n",
       "Jlaox4GEjiiDKZK9ErYSkVBVJDUe0EHDNQDQ+13oz2XEOUiHE62JVzOCpWzDHiYppkzv9LRWB9RH\n",
       "TX1YIVBt/4Onb1acAdHIX1eNYidE2fi7XB9mg1WZXwmFSaU16jiinSTjLD3DEuLco0PPi3cHmdbP\n",
       "fmEAAACxAZ64akP/AEgiQ1MNY7uADPNX8ZYLAyzpYm+NKdMLJPPtENXfJcuT+h22/q080n2TIA3T\n",
       "OXtpJ3BzkgYl6KQNQzL6eCxtgD0rpfQJYSTL5BR0yrnvdl80utGlhHoA0JtC60itPdRd6HLsNDwc\n",
       "JrWDNa+3f+kkL/MaETkpYCL82Tq3n9O8w8wO17qUT+luDfCcy50/TvcWZgHBRzvQ8BdouV9kX3GL\n",
       "2n4XV+lK2SqWYYzoAAABLkGauknhDyZTAgl//rUqgDZX+CBjAeN2ttWUn/xCccOuuCcsIxgJiAiy\n",
       "1QZhoVE5L91BC3gkI9sNrS8cPBzyCH9BTJhn5lRPPDAdqvKgbgULG3dOVy3C6I7WI+4/gpa4AB5h\n",
       "SGHtoWAKKwcXpym+AgUZ/kyzBSsXy5i3lPcqW+AFfYwCHekhUhc4yZCJuWj/Uj9OeiV3PGdimQha\n",
       "1jKeChjLy2e+KpXBW3Cy8se3GwN7Ucl58GJNDesMrUjSqdvMMPbO59z4JpsYOXYBm2bGURQkBK3R\n",
       "RQFA2HxHyx5uaK0l/blr9Ymm3FVglLpYFsbEcqqWq/bZjEHadSiHn93mPZBBvNxtwEGWU9nsZsFE\n",
       "sGMskLkpMvfsUFu+JfDu7IPtyuXvor1VmrYpSaYYA0mBAAABYUGa20nhDyZTAgl//rUqgAsncNLD\n",
       "1dGlo6ElXKBbL/5kV+3bz7GLqYW+30AaO2ThVGpQ2gPr1j9mTHxsP6a+4+zUgUrQTHO3mSsa0KT/\n",
       "7+DuOQ8tAS17S+bKZaBYowblSqRtO943hgnrS7GY87Is3KVtcenEU6IfrYfxbrEGWs9Bi6QVdUG0\n",
       "c1+5sB8Ke/dbDmPKkX7oKYx3kvhXKJ7/8bBJISI2UAHQh/SCXnDjyPRX7vkXwXRQMcsO/mg68Uso\n",
       "xNNwB1vX6A/vs0D9N9kA7Yd9cxwdpCCYJR1hf5btBCCGAgHDUQpcTot9itUw/viV1lsEBLbYDhlo\n",
       "3zqPxKoWO//54oq73DGkq+c80u50meT2GohuEtzw78BIqBEm6nIXuvaf05VIms4RGpmxUch/B0QG\n",
       "Gm1hvnV5Am5x5RSNl2uSFY175SfhTR4/M/512f6mrfeeyMeGLADDjz/kABEO+Q7MAAABa0Ga/Enh\n",
       "DyZTAgl//rUqgAsncNL50DtpfUjkJNG+71lzMKvnLXqZytmXQflvEpJOyZ53DcX23kt4Lg3Vw8Zu\n",
       "hjx2hAjdi1UJGFimblIUau8+7K9RydxBN35DHF5o69nX23U8jZaYNHbWG85gAatt6bFxthSCltqG\n",
       "9EWa3ariogxm72jlD4Nw1xnA6kf0FBQzDJcWdyCe8OCdrP6xKp0/SYxsoDRkWayZnYUrVqrv9Zbs\n",
       "U1tz8LhT/kjkyd/KJTODyDIAl3P7ew1jRkQXqX/TpAw3qzXvh+f/NclsyZ0vNE3dfTUSJQOfrVlI\n",
       "LMjM9DkUUSk08TdpTHMe9r3QtwM7Dztvxuu9WHmoKyttBvMn8M+73DpYJ/k1P3fIOqb8f3YO1MgI\n",
       "Tg6TR+AKK0kL0g0JsI1C5QC8vbF9899ivcWoWedYGYAYMUZ3I635i3ZV+IFrvGuAvXF+7iwlPdHH\n",
       "O5CZBdbv9Sq+uS3PbuD81QAAAatBmx1J4Q8mUwIJf/61KoA1ePxBPmfeLcOUe66IZdN8aJNTC5cy\n",
       "Ds5Slh8Y4gS2Pz2eb65UeNuHxH9KMJExZqJ3y1dYUwCVVxGFYPKwatncdac6HW0GL8Gb0zAwMqng\n",
       "Aq82HLks92jbf2UiXdxzfbNsFCJB5tZd6z07uxxJPkvVucxdu43a2kgpqaMWPIAjWZUAFYCDEyEn\n",
       "682HynKPBkEvIk7qEG+cRr1t/fSDBaAuw1bpdD6rgQ4Qu//8FBGQEgCi5TH/Fh6bm5QIJaCii2pc\n",
       "SHZLTj01FH3/Nb556hECb73ukyW0U4I1Q6X7BWzw4KaQn/0sfr6I7uJMfSVPS/0LzIEPxbK8HZbH\n",
       "Ocpvnn7PSos4fmQNCpfVXCtmCVWqh83Y0GvSOVulWQ6CH0kQANlyRxVlKGonMhjZYusYnWI/cHEW\n",
       "rLeoaKKa2wvgglH7SWu08pr9eHvrilbTda56qPBjdi7zcQKhwZ4pW9CTDY3IZpljECfLtyse+p7/\n",
       "//KBCVv8jvqqv9llpaFL34c0D74WA4HA2rnqCQZMha3MKy5vQdTIeOOaw/RZsIRXAAAB1UGbP0nh\n",
       "DyZTBRE8Ef/+tSqANXJC0IAF1V4EdiRC478EScDWiTXfpZ3zxsLTnUAp+3+JmQBSLxPKkLa7fEH0\n",
       "xoZfk5LUw1zVrE/zI7KEppM7TH46Dg2AwNmB5tDnnvH3ekzhvf6nMo7TDPi/WVkpuDT6bWS3prMh\n",
       "jxej+baC21N0NvNIueclc9IG77HNrH3nRIq+Tve0acehjZIxqArQ0cQ1NC2jMSbcr+362AIscjHJ\n",
       "OowTu/ftgaLaO87RNJaOL94Gy+bvyjQh6DmB9s2zpPAMhbhFyO5VxdLbeChnwO8idCIv0K8m2OGi\n",
       "jRYKXqDOx4hqshPPcFwaET8u5EVGXMrZekjHLuSZ1w5NFUgUBVkFQtAK2Be8vI2T7zf3uNJQgXqU\n",
       "kWTUbCOWgS0G9AlcHzG+NIP44IZVZesU5iBV9hzRbtQn73hQnzXNZSg7D7yTC4myVZ1Q15bQiNqW\n",
       "O5X+LFbojfp1RBlI2qa4i/2/6G33pDidD4Vr35cfJyMNLIWpcVdZNcMBCRTBJDQBPDmJdSkjrCvO\n",
       "XbSVN/YNIJRKa9Fm5TLxN0K7kUtxU2hvaAMlXisM3yVxJIgP3YZCrbfV5MepHv3irgqCq2OZoFKC\n",
       "wrxLrawRpuAAAAD4AZ9eakP/AF7wDMIXMAH8IihL6BlsecINP387LMtkhayw8h03+28u3m+O87ST\n",
       "VDucq2VgyW5dSVadVDjYQRRkLUt9JJ/rwZ6ykZZkHYjKPNXU305lvei9b9NAjt5487d6KbZqR77I\n",
       "zd+CU6p1hDGjNrf/pHOOTzcB1qXAGL+rYcflL/KfrNhoG1EwDDPoZpgC5Sup8CJT2cIAoCZmUxNI\n",
       "ctqEmGuK1QH0th6CxNGVGSAYrlJHQC/8cOsuco9ta+gZ6ZYOCvq0jswW8Ed7YdlHDYrTinHATNw9\n",
       "WkcO/nuM4PqzJ5L30ZbE6ohTIqAvmBWSLNKt5WtFLR8AAAGWQZtASeEPJlMCCP/+tSqANXQDUcyQ\n",
       "AF0nz0HmWEha5c9jfuqRHVPgxHssdmM2yIxlwVzW45+7Ig+uYl/ZiaIc/J/e6A+WR7oRb4EZSsbW\n",
       "Kkzthz3XeE8O1mtpcCq4WPdGl7QUNnskaCwYvxWfK/nF8HTBmNAUrIrZiAxzxtknvweFtfjvFCd4\n",
       "AIiHVeI/2wMeZ+b1zfcU4ZlrzOUewk8BZbsOCXdNDdEvk2NKepKBkSlRj0RHGqS4FcATE5RCv61y\n",
       "oYtI51+s4MlLpiqDgsF9m2Q4aYLhXmLejkOg1pBESMnFriR+6LCKpla6CoS++IaByvedTPFbQG/x\n",
       "TVDD0+ArdLMHCoMCRFBpRp5yBd2qWUI6hjlPHErtwaKBDf10dpaIl13CDOZhDvIBEjX/4wCq/OV2\n",
       "3//VVoajcJ3CI6K3U80lAqeW0xprpJhz9nxml3TmjOGLXh6ZWb93cYOzHaMxhdTiVch1+s+M9vLo\n",
       "grt8y/RjRC2Lqz//z7wZJQ8AfuDax6jjv0Sr7jK+yf3G/6CSALlTyuGQoQAAAVBBm2FJ4Q8mUwII\n",
       "//61KoA1c5cYgBO3zYB9wF4F+G2p1kn9xz4ot9L6ZKqZUkAj6+OeSnxwbXcIYoCcdKohF1iLkgI5\n",
       "y/gNqqDoysik3krd978gUXwHHlCve6l+IRG4lfG4A/5tL4XvuX3r28J66zFdgd+IKxLA31s07lhg\n",
       "NntgnNzaNtC5bfKEFYBijavauYMPq0MbFP5IxWKjHzClsHmUqGdPJljMMs/Fs49TiVPK+z501raE\n",
       "y/4S7W/MIzFgGoGHt4OXBFtHh0vN4b+PHTKY6qrsJ3JlIPsE58b1sjU/fYTKGzc/hyGOra4y/07D\n",
       "L4gdI2Ko184riXhGUG5CpODpEdjzhWaWWx9lCotulKU7KoxhcmuSe1/W51z1DoQpOz5JRQl9+7Qv\n",
       "9vjkFqDafS1d4rx+hnWKURbqxeqSliCqKxKEcoV/qWjIqY9A7Wc4nNwAAAE9QZuDSeEPJlMFETw/\n",
       "//6plgGN2Y9id9QAXSiJQFa5E1QOBtkUFjmixdlt+fJONI1ra7E32RLOq/yGx29qDk7WDUwJJPx/\n",
       "kxMEXbRIqS3o9hv0382svun9LoXNIWQDyE1vDfSorn3alF03qckdxRaArKgZ5MZI5WC+th4Gg6ly\n",
       "931NtR37eZ7Kf1/5Eh/hI0rYL7yWuhj290P9Li13yMEK1puoc2F/n71/wLDXjc1fE5iFQBnSzDqV\n",
       "/r+siOaLof35rQs+MSYa3ZBAlBO9bYTE9uGCw75A99wSvhzJtUni9g9uIyPTporuWpA49lmJ5bvJ\n",
       "oR9MYY6z78c++bvqdR7tqMQf+2hNMPjOZVaRCqsQBwQ24RWuWHbr/1ouN3tcTSvMHekb5reDrqMa\n",
       "EOWAAG6S7Yu8qJ3pvAm/ru2imiEAAADcAZ+iakP/AF77eZ3ABNUiNvvjwuSf4lxQYkXir8td+kfw\n",
       "MGzACrz+Ekhe/tuGmE66OZAclypb8ib8tRictD9qPWpLRMeTMMv4raE/xtSYE6irNW8tV1nsd20Y\n",
       "vY9sD6ttAg1IAEY5jFjtrTUAs7JyFUDTA9J2AutsaIJoDYqCkfaxMZ0CIPW2i5uN/+D2G3+HmTPA\n",
       "QZ5vliP61PL4FCDxhT8oRGe9DlfOSH93cTHZeVo3q9nW+9UmcWRJB6+2qksOOab5eehpcLNFdbBS\n",
       "9jqJBDNWtbxpCDmqRDNmlgAABq5tb292AAAAbG12aGQAAAAAAAAAAAAAAAAAAAPoAABOIAABAAAB\n",
       "AAAAAAAAAAAAAAAAAQAAAAAAAAAAAAAAAAAAAAEAAAAAAAAAAAAAAAAAAEAAAAAAAAAAAAAAAAAA\n",
       "AAAAAAAAAAAAAAAAAAAAAAACAAAF2HRyYWsAAABcdGtoZAAAAAMAAAAAAAAAAAAAAAEAAAAAAABO\n",
       "IAAAAAAAAAAAAAAAAAAAAAAAAQAAAAAAAAAAAAAAAAAAAAEAAAAAAAAAAAAAAAAAAEAAAAABsAAA\n",
       "ASAAAAAAACRlZHRzAAAAHGVsc3QAAAAAAAAAAQAATiAAABAAAAEAAAAABVBtZGlhAAAAIG1kaGQA\n",
       "AAAAAAAAAAAAAAAAACgAAAMgAFXEAAAAAAAtaGRscgAAAAAAAAAAdmlkZQAAAAAAAAAAAAAAAFZp\n",
       "ZGVvSGFuZGxlcgAAAAT7bWluZgAAABR2bWhkAAAAAQAAAAAAAAAAAAAAJGRpbmYAAAAcZHJlZgAA\n",
       "AAAAAAABAAAADHVybCAAAAABAAAEu3N0YmwAAACzc3RzZAAAAAAAAAABAAAAo2F2YzEAAAAAAAAA\n",
       "AQAAAAAAAAAAAAAAAAAAAAABsAEgAEgAAABIAAAAAAAAAAEAAAAAAAAAAAAAAAAAAAAAAAAAAAAA\n",
       "AAAAAAAAAAAAAAAY//8AAAAxYXZjQwFkABX/4QAYZ2QAFazZQbCWhAAAAwAEAAADACg8WLZYAQAG\n",
       "aOvjyyLAAAAAHHV1aWRraEDyXyRPxbo5pRvPAyPzAAAAAAAAABhzdHRzAAAAAAAAAAEAAABkAAAI\n",
       "AAAAABRzdHNzAAAAAAAAAAEAAAABAAACAGN0dHMAAAAAAAAAPgAAAAEAABAAAAAAAQAAGAAAAAAB\n",
       "AAAIAAAAAAEAABgAAAAAAQAACAAAAAADAAAQAAAAAAEAABgAAAAAAQAACAAAAAABAAAYAAAAAAEA\n",
       "AAgAAAAAAQAAGAAAAAABAAAIAAAAAAMAABAAAAAAAQAAIAAAAAACAAAIAAAAAAgAABAAAAAAAQAA\n",
       "GAAAAAABAAAIAAAAAAEAABAAAAAAAQAAIAAAAAACAAAIAAAAAAYAABAAAAAAAQAAGAAAAAABAAAI\n",
       "AAAAAAMAABAAAAAAAQAAGAAAAAABAAAIAAAAAAEAABgAAAAAAQAACAAAAAABAAAYAAAAAAEAAAgA\n",
       "AAAAAQAAGAAAAAABAAAIAAAAAAMAABAAAAAAAQAAGAAAAAABAAAIAAAAAAMAABAAAAAAAQAAIAAA\n",
       "AAACAAAIAAAAAAMAABAAAAAAAQAAGAAAAAABAAAIAAAAAAEAACAAAAAAAgAACAAAAAAFAAAQAAAA\n",
       "AAEAABgAAAAAAQAACAAAAAABAAAQAAAAAAEAABgAAAAAAQAACAAAAAABAAAQAAAAAAEAABgAAAAA\n",
       "AQAACAAAAAADAAAQAAAAAAEAABgAAAAAAQAACAAAAAAEAAAQAAAAAAEAABgAAAAAAQAACAAAAAAC\n",
       "AAAQAAAAAAEAABgAAAAAAQAACAAAAAAcc3RzYwAAAAAAAAABAAAAAQAAAGQAAAABAAABpHN0c3oA\n",
       "AAAAAAAAAAAAAGQAABLcAAACZwAAANEAAAGFAAAAwgAAASUAAAHHAAABbwAAAYAAAACpAAABsAAA\n",
       "ALUAAAHbAAAAxgAAAYsAAAGjAAABdwAAAfEAAAE0AAAA9QAAAhQAAAG5AAAB8gAAAgUAAAF3AAAC\n",
       "FgAAAcgAAAHrAAACOgAAASsAAAGvAAACKQAAAP8AAAD0AAABjQAAAdAAAAGTAAABwAAAAacAAAFh\n",
       "AAACEQAAAPEAAAE4AAABWgAAAX0AAAFXAAAAwQAAAXYAAACrAAABzQAAALQAAAGAAAAA2gAAAaUA\n",
       "AAHRAAABNQAAAfcAAADSAAABfAAAAZMAAAGTAAAChAAAAQAAAADXAAABlQAAAWsAAAGCAAABmQAA\n",
       "AMMAAAKOAAAA5QAAALIAAAHBAAABoQAAAaYAAAF4AAABTgAAAQwAAACZAAABFwAAAdAAAACqAAAB\n",
       "UgAAAYkAAACtAAAA7AAAAVsAAADbAAABnAAAALUAAAEyAAABZQAAAW8AAAGvAAAB2QAAAPwAAAGa\n",
       "AAABVAAAAUEAAADgAAAAFHN0Y28AAAAAAAAAAQAAACwAAABidWR0YQAAAFptZXRhAAAAAAAAACFo\n",
       "ZGxyAAAAAAAAAABtZGlyYXBwbAAAAAAAAAAAAAAAAC1pbHN0AAAAJal0b28AAAAdZGF0YQAAAAEA\n",
       "AAAATGF2ZjU3LjcxLjEwMA==\n",
       "\">\n",
       "  Your browser does not support the video tag.\n",
       "</video>"
      ],
      "text/plain": [
       "<IPython.core.display.HTML object>"
      ]
     },
     "execution_count": 14,
     "metadata": {},
     "output_type": "execute_result"
    }
   ],
   "source": [
    "from IPython.display import HTML\n",
    "HTML(ani.to_html5_video())"
   ]
  },
  {
   "cell_type": "markdown",
   "metadata": {},
   "source": [
    "## 3: Measurements\n",
    "Examine the trajectories of your molecules. Find a region of phase space where\n",
    "the system is solid and another one where it is fluid. Don’t forget to thermalize!\n",
    "Plot the positions as a function of time to show the difference between the fluid\n",
    "and the solid.\n",
    "\n",
    "Where in phase space are we looking?\n",
    "* Pressure\n",
    "* Temperature\n",
    "* Volume/Density\n",
    "\n",
    "The notes define phase space as the \"position and velocity of all particles\".\n",
    "\n",
    "Thus, I think I can edit temperature by including a value for kT in the initializing function.\n",
    "\n",
    "When should we consider something \"thermalized\"? --> probably just plot the kinetic energy? maybe the diffusion constant as well? notes warn you to be careful\n",
    "\n",
    "This 2007 paper looks at LJ crystals: https://journals.aps.org/prb/pdf/10.1103/PhysRevB.76.064121"
   ]
  },
  {
   "cell_type": "code",
   "execution_count": null,
   "metadata": {
    "collapsed": true
   },
   "outputs": [],
   "source": [
    "# Study the self-diffusion constant D, once the system is already thermalized"
   ]
  },
  {
   "cell_type": "markdown",
   "metadata": {},
   "source": [
    "## 4: Measurements II\n",
    "Measure the angle integrated pair correlation function g(r) in both the solid and fluid cases, plot\n",
    "it as a function of r."
   ]
  },
  {
   "cell_type": "code",
   "execution_count": null,
   "metadata": {
    "collapsed": true
   },
   "outputs": [],
   "source": []
  }
 ],
 "metadata": {
  "kernelspec": {
   "display_name": "Python 3",
   "language": "python",
   "name": "python3"
  },
  "language_info": {
   "codemirror_mode": {
    "name": "ipython",
    "version": 3
   },
   "file_extension": ".py",
   "mimetype": "text/x-python",
   "name": "python",
   "nbconvert_exporter": "python",
   "pygments_lexer": "ipython3",
   "version": "3.5.2"
  }
 },
 "nbformat": 4,
 "nbformat_minor": 0
}
