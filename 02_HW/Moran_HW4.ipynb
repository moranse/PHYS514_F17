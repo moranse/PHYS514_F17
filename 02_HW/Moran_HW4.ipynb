{
 "cells": [
  {
   "cell_type": "markdown",
   "metadata": {},
   "source": [
    "Shannon Moran <br>\n",
    "Phys 514 <br>\n",
    "HW 4<br>\n",
    "Due: Oct 5"
   ]
  },
  {
   "cell_type": "markdown",
   "metadata": {},
   "source": [
    "## Import required packages"
   ]
  },
  {
   "cell_type": "code",
   "execution_count": 1,
   "metadata": {
    "collapsed": true
   },
   "outputs": [],
   "source": [
    "%matplotlib inline\n",
    "import numpy as np\n",
    "from math import *\n",
    "import matplotlib.pyplot as plt\n",
    "import time\n",
    "from scipy import optimize"
   ]
  },
  {
   "cell_type": "markdown",
   "metadata": {},
   "source": [
    "Here, I implement helper functions I use below."
   ]
  },
  {
   "cell_type": "code",
   "execution_count": 2,
   "metadata": {
    "collapsed": true
   },
   "outputs": [],
   "source": [
    "# Times the run time of a given function for a set number of reps\n",
    "def time_test(func,N,reps):\n",
    "    t_timed = []\n",
    "    for i in range(reps):\n",
    "        t_rep = []\n",
    "        for n in N:\n",
    "            x = np.random.random(n)\n",
    "            t0 = time.time()\n",
    "            func(x)\n",
    "            t_rep.append(time.time()-t0)\n",
    "        t_timed.append(t_rep)\n",
    "    t = np.average(np.asarray(t_timed),axis=0)    \n",
    "    return t\n",
    "\n",
    "# Generates a range of vector sizes to test, output in vector N\n",
    "def N_range(start_value,n_test):\n",
    "    N = [start_value]\n",
    "    for i in np.arange(1,n_test+1):\n",
    "        N.append(int(N[i-1]*2))\n",
    "    return np.asarray(N)\n",
    "\n",
    "# Finds the nearest power of 2 to a given value x\n",
    "def nearest_p2(x):\n",
    "    p = 2\n",
    "    c = 1\n",
    "    while (x>p):\n",
    "        p = p*2\n",
    "        c += 1\n",
    "    return c-1"
   ]
  },
  {
   "cell_type": "markdown",
   "metadata": {},
   "source": [
    "## 01: DFT\n",
    "Write a function that implements the discrete Fourier transform. "
   ]
  },
  {
   "cell_type": "code",
   "execution_count": 3,
   "metadata": {
    "collapsed": true
   },
   "outputs": [],
   "source": [
    "def DFT(y):\n",
    "    N = len(y)\n",
    "    # columns\n",
    "    k = np.arange(N)\n",
    "    # rows\n",
    "    n = np.arange(N).reshape((N, 1))\n",
    "    C = np.exp(-2j*np.pi*k*n/N)\n",
    "    c = np.dot(C,y)\n",
    "    return c"
   ]
  },
  {
   "cell_type": "code",
   "execution_count": 4,
   "metadata": {
    "collapsed": true
   },
   "outputs": [],
   "source": [
    "# Test time for DFT to run.\n",
    "N = N_range(8,10)\n",
    "t = time_test(DFT,N,10)"
   ]
  },
  {
   "cell_type": "markdown",
   "metadata": {},
   "source": [
    "Show that, as a function of vector length, the computation scales as $\\mathcal{O}(N^2)$ on a log-log plot.\n",
    "\n",
    "Note that I do not plot the $\\mathcal{O}(N)$ or lower terms to more easily demonstrate the $\\mathcal{O}(N^2)$ fit; however, I do use these terms for predicting the largest vector I can transform in a second."
   ]
  },
  {
   "cell_type": "code",
   "execution_count": 5,
   "metadata": {
    "collapsed": false,
    "scrolled": false
   },
   "outputs": [
    {
     "data": {
      "image/png": "[encoded data removed]",
      "text/plain": [
       "<matplotlib.figure.Figure at 0x117598fd0>"
      ]
     },
     "metadata": {},
     "output_type": "display_data"
    }
   ],
   "source": [
    "# First, we test the fit to a second order function in N\n",
    "z = np.polyfit(N,t,2)\n",
    "fit = [z[0]*np.power(n,2) for n in N]\n",
    "\n",
    "plt.loglog(N,t,'bo',label=\"Time samples\")\n",
    "plt.loglog(N,fit,'r-',label=r\"$\\mathcal{O}$(N$^2$) fit\")\n",
    "plt.title('DFT implentation')\n",
    "plt.xlabel('Vector size, N')\n",
    "plt.ylabel('Compute time, t')\n",
    "plt.legend(loc=0)\n",
    "plt.show()"
   ]
  },
  {
   "cell_type": "markdown",
   "metadata": {},
   "source": [
    "What is the largest vector that you can transform within a second?"
   ]
  },
  {
   "cell_type": "code",
   "execution_count": 6,
   "metadata": {
    "collapsed": false
   },
   "outputs": [
    {
     "name": "stdout",
     "output_type": "stream",
     "text": [
      "Longest vector we can transform in a second is: 3804 elements\n",
      "We can confirm this by testing a DFT on vector of length 3804\n",
      "1 loops, best of 3: 897 ms per loop\n"
     ]
    }
   ],
   "source": [
    "# Use the scipy implementation of fsolve to solve for N when t=1s\n",
    "def func(N):\n",
    "    global z\n",
    "    [a,b,c] = z\n",
    "    t1 = 1\n",
    "    return a*np.power(N,2)+b*N+c-t1\n",
    "N_t1 = optimize.fsolve(func,1e4)\n",
    "\n",
    "print('Longest vector we can transform in a second is: %s elements' % int(N_t1))\n",
    "print('We can confirm this by testing a DFT on vector of length %s' % int(N_t1))\n",
    "x = np.random.random(int(N_t1))\n",
    "%timeit DFT(x)"
   ]
  },
  {
   "cell_type": "markdown",
   "metadata": {},
   "source": [
    "The actual time to run a DFT of size N_t1 may be smaller than 1 due to changes in programs running in the background at various points. I typically found that the longest vector I could transform in a second was on the order of 4k elements."
   ]
  },
  {
   "cell_type": "markdown",
   "metadata": {},
   "source": [
    "## 02: FFT\n",
    "Write a function that implements the fast Fourier transform algorithm. Show that, as a function of vector length, the computation scales as O(N log N) (You can also show it in log-log plot, but remember to plot a reference curve as N log N). What is the largest vector that you can transform within a second?"
   ]
  },
  {
   "cell_type": "code",
   "execution_count": 7,
   "metadata": {
    "collapsed": true
   },
   "outputs": [],
   "source": [
    "def FFT(y):\n",
    "    N = len(y)\n",
    "    \n",
    "    # Allows us to catch the lowest-level recursion\n",
    "    # Choose this based on the value of N at which DFT run time starts increasing linearly again\n",
    "    if (N<=32):\n",
    "        return DFT(y)\n",
    "    # Runs the recursion over all other sizes N\n",
    "    else:\n",
    "        E = FFT(y[::2]) # get even-indexed values\n",
    "        O = FFT(y[1::2]) # get odd-indexed values\n",
    "        k = np.arange(N)\n",
    "        C = np.exp(-2j*np.pi*k/N)\n",
    "        # solve first and second halves\n",
    "        Y = np.concatenate([E+C[:N/2]*O, E-C[N/2:]*O])\n",
    "        return Y"
   ]
  },
  {
   "cell_type": "code",
   "execution_count": 8,
   "metadata": {
    "collapsed": false
   },
   "outputs": [
    {
     "name": "stderr",
     "output_type": "stream",
     "text": [
      "/Users/shannonmoran/miniconda3/lib/python3.5/site-packages/ipykernel/__main__.py:15: DeprecationWarning: using a non-integer number instead of an integer will result in an error in the future\n"
     ]
    }
   ],
   "source": [
    "N = N_range(2,13)\n",
    "t = time_test(FFT,N,10)"
   ]
  },
  {
   "cell_type": "markdown",
   "metadata": {},
   "source": [
    "We see that $\\mathcal{O}$(NlogN) scaling is a good fit for the data."
   ]
  },
  {
   "cell_type": "code",
   "execution_count": 9,
   "metadata": {
    "collapsed": false,
    "scrolled": false
   },
   "outputs": [
    {
     "data": {
      "image/png": "[encoded data removed]",
      "text/plain": [
       "<matplotlib.figure.Figure at 0x11999bf60>"
      ]
     },
     "metadata": {},
     "output_type": "display_data"
    }
   ],
   "source": [
    "z = np.polyfit(N*np.log2(N),t,1)\n",
    "fit = [z[0]*n*log2(n)+z[1] for n in N]\n",
    "\n",
    "# Should be linear\n",
    "plt.loglog(N,t,'bo',label=\"Time samples\")\n",
    "plt.loglog(N,fit,'r-',label=r\"$\\mathcal{O}$(NlogN) fit\")\n",
    "plt.title('FFT implementation')\n",
    "plt.xlabel('Vector size, N')\n",
    "plt.ylabel('Compute time, t')\n",
    "plt.legend(loc=0)\n",
    "plt.show()"
   ]
  },
  {
   "cell_type": "code",
   "execution_count": 10,
   "metadata": {
    "collapsed": false
   },
   "outputs": [
    {
     "name": "stdout",
     "output_type": "stream",
     "text": [
      "Longest vector we can transform in a second is: 298669 elements\n",
      "We can confirm this by testing my FFT implementation on vector of length 2^18\n",
      "1 loops, best of 3: 694 ms per loop\n"
     ]
    },
    {
     "name": "stderr",
     "output_type": "stream",
     "text": [
      "/Users/shannonmoran/miniconda3/lib/python3.5/site-packages/ipykernel/__main__.py:15: DeprecationWarning: using a non-integer number instead of an integer will result in an error in the future\n"
     ]
    }
   ],
   "source": [
    "# Use the scipy implementation of fsolve to solve for N when t=1s\n",
    "def func(N):\n",
    "    global z\n",
    "    [a,b] = z\n",
    "    t1 = 1 \n",
    "    return N*np.log2(N) - (t1-b)/a\n",
    "N_t1 = optimize.fsolve(func,1e4)\n",
    "p = nearest_p2(N_t1)\n",
    "\n",
    "print('Longest vector we can transform in a second is: %s elements' % int(N_t1))\n",
    "print('We can confirm this by testing my FFT implementation on vector of length 2^%s' % int(p))\n",
    "x = np.random.random(int(2**(p)))\n",
    "%timeit FFT(x)"
   ]
  },
  {
   "cell_type": "markdown",
   "metadata": {},
   "source": [
    "Because my FFT implementation only works for vectors that are of $2^m$ elements, I test the nearest power of 2 that is *less* than the calculated size of the longest vector I can transform in a second. If I tested my FFT implementation on a vector of size $2^{19}$, the time to run would be over 1s."
   ]
  },
  {
   "cell_type": "markdown",
   "metadata": {},
   "source": [
    "## 03: FFTW\n",
    "Write a function that calls the built-in FFT interface (matlab), the scipy/numpy fftpack (Python), or the FFTW library for fast Fourier transforms (http://www.fftw.org/, C++ or Fortran).\n",
    "\n",
    "Here, I use numpy's fft implementation to test the scaling of implemented packages."
   ]
  },
  {
   "cell_type": "code",
   "execution_count": 11,
   "metadata": {
    "collapsed": true
   },
   "outputs": [],
   "source": [
    "N = N_range(2,20)\n",
    "t = time_test(np.fft.fft,N,10)"
   ]
  },
  {
   "cell_type": "markdown",
   "metadata": {},
   "source": [
    "Plotting crudely, it appears that there is some power law scaling at play, emergent at larger vector sizes."
   ]
  },
  {
   "cell_type": "code",
   "execution_count": 12,
   "metadata": {
    "collapsed": false
   },
   "outputs": [
    {
     "data": {
      "image/png": "[encoded data removed]",
      "text/plain": [
       "<matplotlib.figure.Figure at 0x124bba470>"
      ]
     },
     "metadata": {},
     "output_type": "display_data"
    }
   ],
   "source": [
    "plt.loglog(N,t,'bo',label=\"Time samples\")\n",
    "plt.title('Numpy FFT implementation')\n",
    "plt.xlabel('Vector size, N')\n",
    "plt.ylabel('Compute time, t')\n",
    "plt.legend(loc=2)\n",
    "plt.show()"
   ]
  },
  {
   "cell_type": "markdown",
   "metadata": {},
   "source": [
    "We can confirm this with a polyfit for $\\mathcal{O}$(NlogN), seeing that the time points follow this fit particularly at longer time."
   ]
  },
  {
   "cell_type": "code",
   "execution_count": 13,
   "metadata": {
    "collapsed": false,
    "scrolled": false
   },
   "outputs": [
    {
     "data": {
      "image/png": "[encoded data removed]",
      "text/plain": [
       "<matplotlib.figure.Figure at 0x124ba7cc0>"
      ]
     },
     "metadata": {},
     "output_type": "display_data"
    }
   ],
   "source": [
    "z = np.polyfit(N*np.log2(N),t,1)\n",
    "fit = [z[0]*n*np.log2(n)+z[1] for n in N]\n",
    "\n",
    "# Should be linear\n",
    "plt.loglog(N*np.log2(N),t,'bo',label=\"Time samples\")\n",
    "plt.loglog(N*np.log2(N),fit,'r-',label=r'$\\mathcal{O}$(NlogN) fit')\n",
    "plt.title('Numpy FFT implementation')\n",
    "plt.xlabel('Vector size, NlogN')\n",
    "plt.ylabel('Compute time, t')\n",
    "plt.legend(loc=0)\n",
    "plt.show()"
   ]
  },
  {
   "cell_type": "code",
   "execution_count": 14,
   "metadata": {
    "collapsed": false
   },
   "outputs": [
    {
     "name": "stdout",
     "output_type": "stream",
     "text": [
      "Longest vector we can transform in a second is: 9411452 elements\n",
      "We can confirm this by testing np.fft on vector of length 2^23\n",
      "1 loops, best of 3: 724 ms per loop\n"
     ]
    }
   ],
   "source": [
    "# Use the scipy implementation of fsolve to solve for N when t=1s\n",
    "def func(N):\n",
    "    global z\n",
    "    [a,b] = z\n",
    "    t1 = 1 \n",
    "    return N*np.log2(N) - (t1-b)/a\n",
    "N_t1 = optimize.fsolve(func,1e7)\n",
    "p = nearest_p2(N_t1)\n",
    "\n",
    "print('Longest vector we can transform in a second is: %s elements' % int(N_t1))\n",
    "print('We can confirm this by testing np.fft on vector of length 2^%s' % int(p))\n",
    "x = np.random.random(int(2**(p)))\n",
    "%timeit np.fft.fft(x)"
   ]
  }
 ],
 "metadata": {
  "kernelspec": {
   "display_name": "Python 3",
   "language": "python",
   "name": "python3"
  },
  "language_info": {
   "codemirror_mode": {
    "name": "ipython",
    "version": 3
   },
   "file_extension": ".py",
   "mimetype": "text/x-python",
   "name": "python",
   "nbconvert_exporter": "python",
   "pygments_lexer": "ipython3",
   "version": "3.5.3"
  }
 },
 "nbformat": 4,
 "nbformat_minor": 0
}
